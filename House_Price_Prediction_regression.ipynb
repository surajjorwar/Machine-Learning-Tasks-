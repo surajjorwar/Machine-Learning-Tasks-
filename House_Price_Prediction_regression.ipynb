{
  "cells": [
    {
      "cell_type": "markdown",
      "metadata": {
        "id": "view-in-github",
        "colab_type": "text"
      },
      "source": [
        "<a href=\"https://colab.research.google.com/github/surajjorwar/Machine-Learning-Tasks-/blob/main/House_Price_Prediction_regression.ipynb\" target=\"_parent\"><img src=\"https://colab.research.google.com/assets/colab-badge.svg\" alt=\"Open In Colab\"/></a>"
      ]
    },
    {
      "cell_type": "code",
      "execution_count": null,
      "metadata": {
        "id": "ZTfU8FFP03jX"
      },
      "outputs": [],
      "source": [
        "import numpy as np\n",
        "import pandas as pd\n",
        "import seaborn as sns\n",
        "import matplotlib.pyplot as plt\n",
        "#Linear regresson and decision tree regression algorithm are used in this project\n",
        "from sklearn.linear_model import LinearRegression\n",
        "from sklearn.tree import DecisionTreeRegressor\n"
      ]
    },
    {
      "cell_type": "code",
      "execution_count": null,
      "metadata": {
        "id": "u5bU6xUJ1Jvu"
      },
      "outputs": [],
      "source": [
        "#Loading the data set\n",
        "house_df = pd.read_csv('/content/drive/MyDrive/andrew ng /house data/MagicBricks.csv')"
      ]
    },
    {
      "cell_type": "code",
      "execution_count": null,
      "metadata": {
        "colab": {
          "base_uri": "https://localhost:8080/",
          "height": 206
        },
        "id": "WKc6SnRo2B2o",
        "outputId": "0f442556-b2ec-4ec2-9a1a-a3b17d36e26f"
      },
      "outputs": [
        {
          "output_type": "execute_result",
          "data": {
            "text/plain": [
              "    Area  BHK  Bathroom      Furnishing  \\\n",
              "0  800.0    3       2.0  Semi-Furnished   \n",
              "1  750.0    2       2.0  Semi-Furnished   \n",
              "2  950.0    2       2.0       Furnished   \n",
              "3  600.0    2       2.0  Semi-Furnished   \n",
              "4  650.0    2       2.0  Semi-Furnished   \n",
              "\n",
              "                                            Locality  Parking     Price  \\\n",
              "0                                   Rohini Sector 25      1.0   6500000   \n",
              "1             J R Designers Floors, Rohini Sector 24      1.0   5000000   \n",
              "2                Citizen Apartment, Rohini Sector 13      1.0  15500000   \n",
              "3                                   Rohini Sector 24      1.0   4200000   \n",
              "4  Rohini Sector 24 carpet area 650 sqft status R...      1.0   6200000   \n",
              "\n",
              "          Status   Transaction           Type  Per_Sqft  \n",
              "0  Ready_to_move  New_Property  Builder_Floor       NaN  \n",
              "1  Ready_to_move  New_Property      Apartment    6667.0  \n",
              "2  Ready_to_move        Resale      Apartment    6667.0  \n",
              "3  Ready_to_move        Resale  Builder_Floor    6667.0  \n",
              "4  Ready_to_move  New_Property  Builder_Floor    6667.0  "
            ],
            "text/html": [
              "\n",
              "  <div id=\"df-e7fd0689-7c5b-49c0-a481-66cf6cb602c6\" class=\"colab-df-container\">\n",
              "    <div>\n",
              "<style scoped>\n",
              "    .dataframe tbody tr th:only-of-type {\n",
              "        vertical-align: middle;\n",
              "    }\n",
              "\n",
              "    .dataframe tbody tr th {\n",
              "        vertical-align: top;\n",
              "    }\n",
              "\n",
              "    .dataframe thead th {\n",
              "        text-align: right;\n",
              "    }\n",
              "</style>\n",
              "<table border=\"1\" class=\"dataframe\">\n",
              "  <thead>\n",
              "    <tr style=\"text-align: right;\">\n",
              "      <th></th>\n",
              "      <th>Area</th>\n",
              "      <th>BHK</th>\n",
              "      <th>Bathroom</th>\n",
              "      <th>Furnishing</th>\n",
              "      <th>Locality</th>\n",
              "      <th>Parking</th>\n",
              "      <th>Price</th>\n",
              "      <th>Status</th>\n",
              "      <th>Transaction</th>\n",
              "      <th>Type</th>\n",
              "      <th>Per_Sqft</th>\n",
              "    </tr>\n",
              "  </thead>\n",
              "  <tbody>\n",
              "    <tr>\n",
              "      <th>0</th>\n",
              "      <td>800.0</td>\n",
              "      <td>3</td>\n",
              "      <td>2.0</td>\n",
              "      <td>Semi-Furnished</td>\n",
              "      <td>Rohini Sector 25</td>\n",
              "      <td>1.0</td>\n",
              "      <td>6500000</td>\n",
              "      <td>Ready_to_move</td>\n",
              "      <td>New_Property</td>\n",
              "      <td>Builder_Floor</td>\n",
              "      <td>NaN</td>\n",
              "    </tr>\n",
              "    <tr>\n",
              "      <th>1</th>\n",
              "      <td>750.0</td>\n",
              "      <td>2</td>\n",
              "      <td>2.0</td>\n",
              "      <td>Semi-Furnished</td>\n",
              "      <td>J R Designers Floors, Rohini Sector 24</td>\n",
              "      <td>1.0</td>\n",
              "      <td>5000000</td>\n",
              "      <td>Ready_to_move</td>\n",
              "      <td>New_Property</td>\n",
              "      <td>Apartment</td>\n",
              "      <td>6667.0</td>\n",
              "    </tr>\n",
              "    <tr>\n",
              "      <th>2</th>\n",
              "      <td>950.0</td>\n",
              "      <td>2</td>\n",
              "      <td>2.0</td>\n",
              "      <td>Furnished</td>\n",
              "      <td>Citizen Apartment, Rohini Sector 13</td>\n",
              "      <td>1.0</td>\n",
              "      <td>15500000</td>\n",
              "      <td>Ready_to_move</td>\n",
              "      <td>Resale</td>\n",
              "      <td>Apartment</td>\n",
              "      <td>6667.0</td>\n",
              "    </tr>\n",
              "    <tr>\n",
              "      <th>3</th>\n",
              "      <td>600.0</td>\n",
              "      <td>2</td>\n",
              "      <td>2.0</td>\n",
              "      <td>Semi-Furnished</td>\n",
              "      <td>Rohini Sector 24</td>\n",
              "      <td>1.0</td>\n",
              "      <td>4200000</td>\n",
              "      <td>Ready_to_move</td>\n",
              "      <td>Resale</td>\n",
              "      <td>Builder_Floor</td>\n",
              "      <td>6667.0</td>\n",
              "    </tr>\n",
              "    <tr>\n",
              "      <th>4</th>\n",
              "      <td>650.0</td>\n",
              "      <td>2</td>\n",
              "      <td>2.0</td>\n",
              "      <td>Semi-Furnished</td>\n",
              "      <td>Rohini Sector 24 carpet area 650 sqft status R...</td>\n",
              "      <td>1.0</td>\n",
              "      <td>6200000</td>\n",
              "      <td>Ready_to_move</td>\n",
              "      <td>New_Property</td>\n",
              "      <td>Builder_Floor</td>\n",
              "      <td>6667.0</td>\n",
              "    </tr>\n",
              "  </tbody>\n",
              "</table>\n",
              "</div>\n",
              "    <div class=\"colab-df-buttons\">\n",
              "\n",
              "  <div class=\"colab-df-container\">\n",
              "    <button class=\"colab-df-convert\" onclick=\"convertToInteractive('df-e7fd0689-7c5b-49c0-a481-66cf6cb602c6')\"\n",
              "            title=\"Convert this dataframe to an interactive table.\"\n",
              "            style=\"display:none;\">\n",
              "\n",
              "  <svg xmlns=\"http://www.w3.org/2000/svg\" height=\"24px\" viewBox=\"0 -960 960 960\">\n",
              "    <path d=\"M120-120v-720h720v720H120Zm60-500h600v-160H180v160Zm220 220h160v-160H400v160Zm0 220h160v-160H400v160ZM180-400h160v-160H180v160Zm440 0h160v-160H620v160ZM180-180h160v-160H180v160Zm440 0h160v-160H620v160Z\"/>\n",
              "  </svg>\n",
              "    </button>\n",
              "\n",
              "  <style>\n",
              "    .colab-df-container {\n",
              "      display:flex;\n",
              "      gap: 12px;\n",
              "    }\n",
              "\n",
              "    .colab-df-convert {\n",
              "      background-color: #E8F0FE;\n",
              "      border: none;\n",
              "      border-radius: 50%;\n",
              "      cursor: pointer;\n",
              "      display: none;\n",
              "      fill: #1967D2;\n",
              "      height: 32px;\n",
              "      padding: 0 0 0 0;\n",
              "      width: 32px;\n",
              "    }\n",
              "\n",
              "    .colab-df-convert:hover {\n",
              "      background-color: #E2EBFA;\n",
              "      box-shadow: 0px 1px 2px rgba(60, 64, 67, 0.3), 0px 1px 3px 1px rgba(60, 64, 67, 0.15);\n",
              "      fill: #174EA6;\n",
              "    }\n",
              "\n",
              "    .colab-df-buttons div {\n",
              "      margin-bottom: 4px;\n",
              "    }\n",
              "\n",
              "    [theme=dark] .colab-df-convert {\n",
              "      background-color: #3B4455;\n",
              "      fill: #D2E3FC;\n",
              "    }\n",
              "\n",
              "    [theme=dark] .colab-df-convert:hover {\n",
              "      background-color: #434B5C;\n",
              "      box-shadow: 0px 1px 3px 1px rgba(0, 0, 0, 0.15);\n",
              "      filter: drop-shadow(0px 1px 2px rgba(0, 0, 0, 0.3));\n",
              "      fill: #FFFFFF;\n",
              "    }\n",
              "  </style>\n",
              "\n",
              "    <script>\n",
              "      const buttonEl =\n",
              "        document.querySelector('#df-e7fd0689-7c5b-49c0-a481-66cf6cb602c6 button.colab-df-convert');\n",
              "      buttonEl.style.display =\n",
              "        google.colab.kernel.accessAllowed ? 'block' : 'none';\n",
              "\n",
              "      async function convertToInteractive(key) {\n",
              "        const element = document.querySelector('#df-e7fd0689-7c5b-49c0-a481-66cf6cb602c6');\n",
              "        const dataTable =\n",
              "          await google.colab.kernel.invokeFunction('convertToInteractive',\n",
              "                                                    [key], {});\n",
              "        if (!dataTable) return;\n",
              "\n",
              "        const docLinkHtml = 'Like what you see? Visit the ' +\n",
              "          '<a target=\"_blank\" href=https://colab.research.google.com/notebooks/data_table.ipynb>data table notebook</a>'\n",
              "          + ' to learn more about interactive tables.';\n",
              "        element.innerHTML = '';\n",
              "        dataTable['output_type'] = 'display_data';\n",
              "        await google.colab.output.renderOutput(dataTable, element);\n",
              "        const docLink = document.createElement('div');\n",
              "        docLink.innerHTML = docLinkHtml;\n",
              "        element.appendChild(docLink);\n",
              "      }\n",
              "    </script>\n",
              "  </div>\n",
              "\n",
              "\n",
              "<div id=\"df-0e1b7aad-9f2b-4f05-84c4-478e32a9f504\">\n",
              "  <button class=\"colab-df-quickchart\" onclick=\"quickchart('df-0e1b7aad-9f2b-4f05-84c4-478e32a9f504')\"\n",
              "            title=\"Suggest charts\"\n",
              "            style=\"display:none;\">\n",
              "\n",
              "<svg xmlns=\"http://www.w3.org/2000/svg\" height=\"24px\"viewBox=\"0 0 24 24\"\n",
              "     width=\"24px\">\n",
              "    <g>\n",
              "        <path d=\"M19 3H5c-1.1 0-2 .9-2 2v14c0 1.1.9 2 2 2h14c1.1 0 2-.9 2-2V5c0-1.1-.9-2-2-2zM9 17H7v-7h2v7zm4 0h-2V7h2v10zm4 0h-2v-4h2v4z\"/>\n",
              "    </g>\n",
              "</svg>\n",
              "  </button>\n",
              "\n",
              "<style>\n",
              "  .colab-df-quickchart {\n",
              "      --bg-color: #E8F0FE;\n",
              "      --fill-color: #1967D2;\n",
              "      --hover-bg-color: #E2EBFA;\n",
              "      --hover-fill-color: #174EA6;\n",
              "      --disabled-fill-color: #AAA;\n",
              "      --disabled-bg-color: #DDD;\n",
              "  }\n",
              "\n",
              "  [theme=dark] .colab-df-quickchart {\n",
              "      --bg-color: #3B4455;\n",
              "      --fill-color: #D2E3FC;\n",
              "      --hover-bg-color: #434B5C;\n",
              "      --hover-fill-color: #FFFFFF;\n",
              "      --disabled-bg-color: #3B4455;\n",
              "      --disabled-fill-color: #666;\n",
              "  }\n",
              "\n",
              "  .colab-df-quickchart {\n",
              "    background-color: var(--bg-color);\n",
              "    border: none;\n",
              "    border-radius: 50%;\n",
              "    cursor: pointer;\n",
              "    display: none;\n",
              "    fill: var(--fill-color);\n",
              "    height: 32px;\n",
              "    padding: 0;\n",
              "    width: 32px;\n",
              "  }\n",
              "\n",
              "  .colab-df-quickchart:hover {\n",
              "    background-color: var(--hover-bg-color);\n",
              "    box-shadow: 0 1px 2px rgba(60, 64, 67, 0.3), 0 1px 3px 1px rgba(60, 64, 67, 0.15);\n",
              "    fill: var(--button-hover-fill-color);\n",
              "  }\n",
              "\n",
              "  .colab-df-quickchart-complete:disabled,\n",
              "  .colab-df-quickchart-complete:disabled:hover {\n",
              "    background-color: var(--disabled-bg-color);\n",
              "    fill: var(--disabled-fill-color);\n",
              "    box-shadow: none;\n",
              "  }\n",
              "\n",
              "  .colab-df-spinner {\n",
              "    border: 2px solid var(--fill-color);\n",
              "    border-color: transparent;\n",
              "    border-bottom-color: var(--fill-color);\n",
              "    animation:\n",
              "      spin 1s steps(1) infinite;\n",
              "  }\n",
              "\n",
              "  @keyframes spin {\n",
              "    0% {\n",
              "      border-color: transparent;\n",
              "      border-bottom-color: var(--fill-color);\n",
              "      border-left-color: var(--fill-color);\n",
              "    }\n",
              "    20% {\n",
              "      border-color: transparent;\n",
              "      border-left-color: var(--fill-color);\n",
              "      border-top-color: var(--fill-color);\n",
              "    }\n",
              "    30% {\n",
              "      border-color: transparent;\n",
              "      border-left-color: var(--fill-color);\n",
              "      border-top-color: var(--fill-color);\n",
              "      border-right-color: var(--fill-color);\n",
              "    }\n",
              "    40% {\n",
              "      border-color: transparent;\n",
              "      border-right-color: var(--fill-color);\n",
              "      border-top-color: var(--fill-color);\n",
              "    }\n",
              "    60% {\n",
              "      border-color: transparent;\n",
              "      border-right-color: var(--fill-color);\n",
              "    }\n",
              "    80% {\n",
              "      border-color: transparent;\n",
              "      border-right-color: var(--fill-color);\n",
              "      border-bottom-color: var(--fill-color);\n",
              "    }\n",
              "    90% {\n",
              "      border-color: transparent;\n",
              "      border-bottom-color: var(--fill-color);\n",
              "    }\n",
              "  }\n",
              "</style>\n",
              "\n",
              "  <script>\n",
              "    async function quickchart(key) {\n",
              "      const quickchartButtonEl =\n",
              "        document.querySelector('#' + key + ' button');\n",
              "      quickchartButtonEl.disabled = true;  // To prevent multiple clicks.\n",
              "      quickchartButtonEl.classList.add('colab-df-spinner');\n",
              "      try {\n",
              "        const charts = await google.colab.kernel.invokeFunction(\n",
              "            'suggestCharts', [key], {});\n",
              "      } catch (error) {\n",
              "        console.error('Error during call to suggestCharts:', error);\n",
              "      }\n",
              "      quickchartButtonEl.classList.remove('colab-df-spinner');\n",
              "      quickchartButtonEl.classList.add('colab-df-quickchart-complete');\n",
              "    }\n",
              "    (() => {\n",
              "      let quickchartButtonEl =\n",
              "        document.querySelector('#df-0e1b7aad-9f2b-4f05-84c4-478e32a9f504 button');\n",
              "      quickchartButtonEl.style.display =\n",
              "        google.colab.kernel.accessAllowed ? 'block' : 'none';\n",
              "    })();\n",
              "  </script>\n",
              "</div>\n",
              "\n",
              "    </div>\n",
              "  </div>\n"
            ],
            "application/vnd.google.colaboratory.intrinsic+json": {
              "type": "dataframe",
              "variable_name": "house_df",
              "summary": "{\n  \"name\": \"house_df\",\n  \"rows\": 1259,\n  \"fields\": [\n    {\n      \"column\": \"Area\",\n      \"properties\": {\n        \"dtype\": \"number\",\n        \"std\": 1568.055040319187,\n        \"min\": 28.0,\n        \"max\": 24300.0,\n        \"num_unique_values\": 315,\n        \"samples\": [\n          2552.0,\n          1600.0,\n          1250.0\n        ],\n        \"semantic_type\": \"\",\n        \"description\": \"\"\n      }\n    },\n    {\n      \"column\": \"BHK\",\n      \"properties\": {\n        \"dtype\": \"number\",\n        \"std\": 0,\n        \"min\": 1,\n        \"max\": 10,\n        \"num_unique_values\": 8,\n        \"samples\": [\n          2,\n          5,\n          3\n        ],\n        \"semantic_type\": \"\",\n        \"description\": \"\"\n      }\n    },\n    {\n      \"column\": \"Bathroom\",\n      \"properties\": {\n        \"dtype\": \"number\",\n        \"std\": 1.0422201707565528,\n        \"min\": 1.0,\n        \"max\": 7.0,\n        \"num_unique_values\": 7,\n        \"samples\": [\n          2.0,\n          3.0,\n          6.0\n        ],\n        \"semantic_type\": \"\",\n        \"description\": \"\"\n      }\n    },\n    {\n      \"column\": \"Furnishing\",\n      \"properties\": {\n        \"dtype\": \"category\",\n        \"num_unique_values\": 3,\n        \"samples\": [\n          \"Semi-Furnished\",\n          \"Furnished\",\n          \"Unfurnished\"\n        ],\n        \"semantic_type\": \"\",\n        \"description\": \"\"\n      }\n    },\n    {\n      \"column\": \"Locality\",\n      \"properties\": {\n        \"dtype\": \"category\",\n        \"num_unique_values\": 365,\n        \"samples\": [\n          \"Sunder Apartments, Sunder Vihar, Paschim Vihar\",\n          \"Kunj Vihar Apartment, Dwarka Sector 12\",\n          \"Rohini Sector 18 carpet area 40 sqm status Ready to Move floor 2 out of 4 floors transaction Resale furnishing Furnished facing East overlooking Main Road car parking 2 Open bathroom 1 balcony 1 ownership Freehold East Facing Property It an LIG three side corner flat in second floor, having full scope of expansion. interior decorated with 2 textured wall , kajaria tiles , fully modular kitchen, branded bathroom and toilet fittings, LED panel, ac in one bedroom, false ceiling in entire flat.south facing unobstructed view balcony. It was all renovated only 2.5 yrs back so every thing is in brand new condition. read more Contact Owner View Phone No. Share Feedback Owner Pramod\"\n        ],\n        \"semantic_type\": \"\",\n        \"description\": \"\"\n      }\n    },\n    {\n      \"column\": \"Parking\",\n      \"properties\": {\n        \"dtype\": \"number\",\n        \"std\": 6.279211536469023,\n        \"min\": 1.0,\n        \"max\": 114.0,\n        \"num_unique_values\": 9,\n        \"samples\": [\n          10.0,\n          5.0,\n          3.0\n        ],\n        \"semantic_type\": \"\",\n        \"description\": \"\"\n      }\n    },\n    {\n      \"column\": \"Price\",\n      \"properties\": {\n        \"dtype\": \"number\",\n        \"std\": 25601154,\n        \"min\": 1000000,\n        \"max\": 240000000,\n        \"num_unique_values\": 284,\n        \"samples\": [\n          7700000,\n          8550000,\n          5600000\n        ],\n        \"semantic_type\": \"\",\n        \"description\": \"\"\n      }\n    },\n    {\n      \"column\": \"Status\",\n      \"properties\": {\n        \"dtype\": \"category\",\n        \"num_unique_values\": 2,\n        \"samples\": [\n          \"Almost_ready\",\n          \"Ready_to_move\"\n        ],\n        \"semantic_type\": \"\",\n        \"description\": \"\"\n      }\n    },\n    {\n      \"column\": \"Transaction\",\n      \"properties\": {\n        \"dtype\": \"category\",\n        \"num_unique_values\": 2,\n        \"samples\": [\n          \"Resale\",\n          \"New_Property\"\n        ],\n        \"semantic_type\": \"\",\n        \"description\": \"\"\n      }\n    },\n    {\n      \"column\": \"Type\",\n      \"properties\": {\n        \"dtype\": \"category\",\n        \"num_unique_values\": 2,\n        \"samples\": [\n          \"Apartment\",\n          \"Builder_Floor\"\n        ],\n        \"semantic_type\": \"\",\n        \"description\": \"\"\n      }\n    },\n    {\n      \"column\": \"Per_Sqft\",\n      \"properties\": {\n        \"dtype\": \"number\",\n        \"std\": 21134.738568292476,\n        \"min\": 1259.0,\n        \"max\": 183333.0,\n        \"num_unique_values\": 251,\n        \"samples\": [\n          15384.0,\n          22000.0\n        ],\n        \"semantic_type\": \"\",\n        \"description\": \"\"\n      }\n    }\n  ]\n}"
            }
          },
          "metadata": {},
          "execution_count": 3
        }
      ],
      "source": [
        "# first 5 records in dataframe\n",
        "house_df.head(5)"
      ]
    },
    {
      "cell_type": "markdown",
      "metadata": {
        "id": "cAK_NL0v2NAH"
      },
      "source": [
        "for simple regression task we only need one input and one output column here we will  size in sq ft and price  as input and output columns"
      ]
    },
    {
      "cell_type": "code",
      "execution_count": null,
      "metadata": {
        "colab": {
          "base_uri": "https://localhost:8080/"
        },
        "id": "EM91dT142c0o",
        "outputId": "a270775e-037f-4936-f561-6a5ee2616d6f"
      },
      "outputs": [
        {
          "output_type": "stream",
          "name": "stdout",
          "text": [
            "<class 'pandas.core.frame.DataFrame'>\n",
            "RangeIndex: 1259 entries, 0 to 1258\n",
            "Data columns (total 11 columns):\n",
            " #   Column       Non-Null Count  Dtype  \n",
            "---  ------       --------------  -----  \n",
            " 0   Area         1259 non-null   float64\n",
            " 1   BHK          1259 non-null   int64  \n",
            " 2   Bathroom     1257 non-null   float64\n",
            " 3   Furnishing   1254 non-null   object \n",
            " 4   Locality     1259 non-null   object \n",
            " 5   Parking      1226 non-null   float64\n",
            " 6   Price        1259 non-null   int64  \n",
            " 7   Status       1259 non-null   object \n",
            " 8   Transaction  1259 non-null   object \n",
            " 9   Type         1254 non-null   object \n",
            " 10  Per_Sqft     1018 non-null   float64\n",
            "dtypes: float64(4), int64(2), object(5)\n",
            "memory usage: 108.3+ KB\n"
          ]
        }
      ],
      "source": [
        "#information about the features of data set\n",
        "house_df.info()"
      ]
    },
    {
      "cell_type": "code",
      "execution_count": null,
      "metadata": {
        "id": "2QgENyO-3Lio"
      },
      "outputs": [],
      "source": [
        "#Removing  unnecessary column\n",
        "house_df = house_df[['Area', 'BHK', 'Bathroom', 'Furnishing', 'Parking', 'Price', 'Status',\n",
        "       'Transaction', 'Type', 'Per_Sqft']]"
      ]
    },
    {
      "cell_type": "code",
      "execution_count": null,
      "metadata": {
        "colab": {
          "base_uri": "https://localhost:8080/"
        },
        "id": "m8XUa5X86Hzl",
        "outputId": "bb4477d1-20b0-4674-89a3-c07a1e4ab4c9"
      },
      "outputs": [
        {
          "output_type": "execute_result",
          "data": {
            "text/plain": [
              "Index(['Area', 'BHK', 'Bathroom', 'Furnishing', 'Parking', 'Price', 'Status',\n",
              "       'Transaction', 'Type', 'Per_Sqft'],\n",
              "      dtype='object')"
            ]
          },
          "metadata": {},
          "execution_count": 6
        }
      ],
      "source": [
        "house_df.columns"
      ]
    },
    {
      "cell_type": "markdown",
      "metadata": {
        "id": "7C4-3bT5iJB8"
      },
      "source": [
        "# **handelling null values**\n"
      ]
    },
    {
      "cell_type": "code",
      "execution_count": null,
      "metadata": {
        "colab": {
          "base_uri": "https://localhost:8080/"
        },
        "id": "XQXKGry9hM8d",
        "outputId": "bb39c808-e5c7-4fc0-c34a-d2e0924a4223"
      },
      "outputs": [
        {
          "output_type": "execute_result",
          "data": {
            "text/plain": [
              "0    Semi-Furnished\n",
              "Name: Furnishing, dtype: object"
            ]
          },
          "metadata": {},
          "execution_count": 7
        }
      ],
      "source": [
        "# Furnishing\n",
        "house_df['Furnishing'].mode()"
      ]
    },
    {
      "cell_type": "code",
      "execution_count": null,
      "metadata": {
        "id": "gvJjEh6xgsX2",
        "colab": {
          "base_uri": "https://localhost:8080/"
        },
        "outputId": "dccce2ea-677a-464c-fb8a-21662ce93243"
      },
      "outputs": [
        {
          "output_type": "stream",
          "name": "stderr",
          "text": [
            "<ipython-input-8-8673342db350>:2: SettingWithCopyWarning: \n",
            "A value is trying to be set on a copy of a slice from a DataFrame\n",
            "\n",
            "See the caveats in the documentation: https://pandas.pydata.org/pandas-docs/stable/user_guide/indexing.html#returning-a-view-versus-a-copy\n",
            "  house_df['Furnishing'].fillna(value = 'Semi-Furnished',inplace = True)\n"
          ]
        }
      ],
      "source": [
        "#replacing null value with most occured value mode\n",
        "house_df['Furnishing'].fillna(value = 'Semi-Furnished',inplace = True)"
      ]
    },
    {
      "cell_type": "code",
      "execution_count": null,
      "metadata": {
        "colab": {
          "base_uri": "https://localhost:8080/"
        },
        "id": "AaRHC-H1gMBP",
        "outputId": "93055a69-9d3b-4aec-b700-d53ca6f8fbd6"
      },
      "outputs": [
        {
          "output_type": "execute_result",
          "data": {
            "text/plain": [
              "array(['Semi-Furnished', 'Furnished', 'Unfurnished'], dtype=object)"
            ]
          },
          "metadata": {},
          "execution_count": 9
        }
      ],
      "source": [
        "house_df['Furnishing'].unique()"
      ]
    },
    {
      "cell_type": "code",
      "execution_count": null,
      "metadata": {
        "colab": {
          "base_uri": "https://localhost:8080/"
        },
        "id": "ftTCRa8h2L-O",
        "outputId": "713e1503-2893-406c-a26f-256a8cec5c74"
      },
      "outputs": [
        {
          "output_type": "execute_result",
          "data": {
            "text/plain": [
              "0    2.0\n",
              "Name: Bathroom, dtype: float64"
            ]
          },
          "metadata": {},
          "execution_count": 10
        }
      ],
      "source": [
        "#Bathroom\n",
        "house_df['Bathroom'].mode()\n"
      ]
    },
    {
      "cell_type": "code",
      "execution_count": null,
      "metadata": {
        "id": "eLjDkeF-i5CZ"
      },
      "outputs": [],
      "source": [
        "#replacing null value with most occured value mode\n",
        "house_df['Bathroom'].fillna(value = 2.0,inplace = True)"
      ]
    },
    {
      "cell_type": "code",
      "execution_count": null,
      "metadata": {
        "colab": {
          "base_uri": "https://localhost:8080/"
        },
        "id": "k71tO6dBtT6A",
        "outputId": "095a5dbb-7340-420c-f722-f013668eef79"
      },
      "outputs": [
        {
          "output_type": "execute_result",
          "data": {
            "text/plain": [
              "1.935562805872757"
            ]
          },
          "metadata": {},
          "execution_count": 12
        }
      ],
      "source": [
        "#Parking\n",
        "house_df['Parking'].mean()"
      ]
    },
    {
      "cell_type": "code",
      "execution_count": null,
      "metadata": {
        "id": "nzl_Oj3otgMO"
      },
      "outputs": [],
      "source": [
        "house_df['Parking'].fillna(value = 2.0,inplace = True)"
      ]
    },
    {
      "cell_type": "code",
      "execution_count": null,
      "metadata": {
        "colab": {
          "base_uri": "https://localhost:8080/"
        },
        "id": "ZHotxWyujI6h",
        "outputId": "52b70ab5-79e1-4b3c-a464-a5407c4fd5c2"
      },
      "outputs": [
        {
          "output_type": "execute_result",
          "data": {
            "text/plain": [
              "array(['Builder_Floor', 'Apartment', nan], dtype=object)"
            ]
          },
          "metadata": {},
          "execution_count": 14
        }
      ],
      "source": [
        "#Type\n",
        "house_df['Type'].unique()\n"
      ]
    },
    {
      "cell_type": "code",
      "execution_count": null,
      "metadata": {
        "id": "OgDxrKzKjQTr"
      },
      "outputs": [],
      "source": [
        "house_df['Type'].fillna(value = 'Builder_Floor',inplace = True)"
      ]
    },
    {
      "cell_type": "code",
      "execution_count": null,
      "metadata": {
        "colab": {
          "base_uri": "https://localhost:8080/"
        },
        "id": "g127R01g3UTW",
        "outputId": "7725fa57-d5b7-4102-a44f-76a54ab0e366"
      },
      "outputs": [
        {
          "output_type": "execute_result",
          "data": {
            "text/plain": [
              "241"
            ]
          },
          "metadata": {},
          "execution_count": 16
        }
      ],
      "source": [
        "# checking null values\n",
        "house_df['Per_Sqft'].isna().sum()"
      ]
    },
    {
      "cell_type": "code",
      "execution_count": null,
      "metadata": {
        "id": "DdW7o1wz4I9L"
      },
      "outputs": [],
      "source": [
        "#handelling null values by replacing with mean\n",
        "house_df['Per_Sqft'].fillna(value =house_df['Per_Sqft'].mean(),inplace = True )"
      ]
    },
    {
      "cell_type": "code",
      "execution_count": null,
      "metadata": {
        "colab": {
          "base_uri": "https://localhost:8080/"
        },
        "id": "vLR7fyyc4DnA",
        "outputId": "37bbc1b2-1377-459a-d372-069fef497c0c"
      },
      "outputs": [
        {
          "output_type": "execute_result",
          "data": {
            "text/plain": [
              "0"
            ]
          },
          "metadata": {},
          "execution_count": 18
        }
      ],
      "source": [
        "# checking null values\n",
        "house_df['Price'].isna().sum()"
      ]
    },
    {
      "cell_type": "code",
      "execution_count": null,
      "metadata": {
        "colab": {
          "base_uri": "https://localhost:8080/"
        },
        "id": "K4wnE5LFkJ9W",
        "outputId": "59f8c9ef-0f28-45f7-ef8d-e3d7c951db7a"
      },
      "outputs": [
        {
          "output_type": "execute_result",
          "data": {
            "text/plain": [
              "0    Resale\n",
              "Name: Transaction, dtype: object"
            ]
          },
          "metadata": {},
          "execution_count": 19
        }
      ],
      "source": [
        "#Transaction\n",
        "house_df['Transaction'].mode()\n"
      ]
    },
    {
      "cell_type": "code",
      "execution_count": null,
      "metadata": {
        "id": "XdeHpnffkJ6I"
      },
      "outputs": [],
      "source": [
        "#replacing null value with most occured value mode\n",
        "house_df['Transaction'].fillna(value ='Resale',inplace = True )"
      ]
    },
    {
      "cell_type": "markdown",
      "metadata": {
        "id": "Lq31GJ3nxkAA"
      },
      "source": [
        "# **Scaling**"
      ]
    },
    {
      "cell_type": "code",
      "execution_count": null,
      "metadata": {
        "id": "VdA-c4Bjxq29"
      },
      "outputs": [],
      "source": [
        "from sklearn.preprocessing import MinMaxScaler\n",
        "\n",
        "# Assuming df is your DataFrame and you want to scale certain columns\n",
        "columns_to_scale = ['Area', 'BHK', 'Bathroom', 'Parking','Per_Sqft','Price']\n",
        "\n",
        "# Create a StandardScaler instance\n",
        "scaler = MinMaxScaler()\n",
        "\n",
        "# Fit the scaler on the selected columns and transform the data\n",
        "house_df[columns_to_scale] = scaler.fit_transform(house_df[columns_to_scale])"
      ]
    },
    {
      "cell_type": "code",
      "execution_count": null,
      "metadata": {
        "colab": {
          "base_uri": "https://localhost:8080/",
          "height": 112
        },
        "id": "SZVXWBR7yQou",
        "outputId": "48771a36-a0ab-4985-de61-aebb7128bd14"
      },
      "outputs": [
        {
          "output_type": "execute_result",
          "data": {
            "text/plain": [
              "       Area       BHK  Bathroom      Furnishing  Parking     Price  \\\n",
              "0  0.031806  0.222222  0.166667  Semi-Furnished      0.0  0.023013   \n",
              "1  0.029746  0.111111  0.166667  Semi-Furnished      0.0  0.016736   \n",
              "\n",
              "          Status   Transaction           Type  Per_Sqft  \n",
              "0  Ready_to_move  New_Property  Builder_Floor  0.079260  \n",
              "1  Ready_to_move  New_Property      Apartment  0.029702  "
            ],
            "text/html": [
              "\n",
              "  <div id=\"df-8e9d26dc-2291-4830-86de-f46c8019d7ed\" class=\"colab-df-container\">\n",
              "    <div>\n",
              "<style scoped>\n",
              "    .dataframe tbody tr th:only-of-type {\n",
              "        vertical-align: middle;\n",
              "    }\n",
              "\n",
              "    .dataframe tbody tr th {\n",
              "        vertical-align: top;\n",
              "    }\n",
              "\n",
              "    .dataframe thead th {\n",
              "        text-align: right;\n",
              "    }\n",
              "</style>\n",
              "<table border=\"1\" class=\"dataframe\">\n",
              "  <thead>\n",
              "    <tr style=\"text-align: right;\">\n",
              "      <th></th>\n",
              "      <th>Area</th>\n",
              "      <th>BHK</th>\n",
              "      <th>Bathroom</th>\n",
              "      <th>Furnishing</th>\n",
              "      <th>Parking</th>\n",
              "      <th>Price</th>\n",
              "      <th>Status</th>\n",
              "      <th>Transaction</th>\n",
              "      <th>Type</th>\n",
              "      <th>Per_Sqft</th>\n",
              "    </tr>\n",
              "  </thead>\n",
              "  <tbody>\n",
              "    <tr>\n",
              "      <th>0</th>\n",
              "      <td>0.031806</td>\n",
              "      <td>0.222222</td>\n",
              "      <td>0.166667</td>\n",
              "      <td>Semi-Furnished</td>\n",
              "      <td>0.0</td>\n",
              "      <td>0.023013</td>\n",
              "      <td>Ready_to_move</td>\n",
              "      <td>New_Property</td>\n",
              "      <td>Builder_Floor</td>\n",
              "      <td>0.079260</td>\n",
              "    </tr>\n",
              "    <tr>\n",
              "      <th>1</th>\n",
              "      <td>0.029746</td>\n",
              "      <td>0.111111</td>\n",
              "      <td>0.166667</td>\n",
              "      <td>Semi-Furnished</td>\n",
              "      <td>0.0</td>\n",
              "      <td>0.016736</td>\n",
              "      <td>Ready_to_move</td>\n",
              "      <td>New_Property</td>\n",
              "      <td>Apartment</td>\n",
              "      <td>0.029702</td>\n",
              "    </tr>\n",
              "  </tbody>\n",
              "</table>\n",
              "</div>\n",
              "    <div class=\"colab-df-buttons\">\n",
              "\n",
              "  <div class=\"colab-df-container\">\n",
              "    <button class=\"colab-df-convert\" onclick=\"convertToInteractive('df-8e9d26dc-2291-4830-86de-f46c8019d7ed')\"\n",
              "            title=\"Convert this dataframe to an interactive table.\"\n",
              "            style=\"display:none;\">\n",
              "\n",
              "  <svg xmlns=\"http://www.w3.org/2000/svg\" height=\"24px\" viewBox=\"0 -960 960 960\">\n",
              "    <path d=\"M120-120v-720h720v720H120Zm60-500h600v-160H180v160Zm220 220h160v-160H400v160Zm0 220h160v-160H400v160ZM180-400h160v-160H180v160Zm440 0h160v-160H620v160ZM180-180h160v-160H180v160Zm440 0h160v-160H620v160Z\"/>\n",
              "  </svg>\n",
              "    </button>\n",
              "\n",
              "  <style>\n",
              "    .colab-df-container {\n",
              "      display:flex;\n",
              "      gap: 12px;\n",
              "    }\n",
              "\n",
              "    .colab-df-convert {\n",
              "      background-color: #E8F0FE;\n",
              "      border: none;\n",
              "      border-radius: 50%;\n",
              "      cursor: pointer;\n",
              "      display: none;\n",
              "      fill: #1967D2;\n",
              "      height: 32px;\n",
              "      padding: 0 0 0 0;\n",
              "      width: 32px;\n",
              "    }\n",
              "\n",
              "    .colab-df-convert:hover {\n",
              "      background-color: #E2EBFA;\n",
              "      box-shadow: 0px 1px 2px rgba(60, 64, 67, 0.3), 0px 1px 3px 1px rgba(60, 64, 67, 0.15);\n",
              "      fill: #174EA6;\n",
              "    }\n",
              "\n",
              "    .colab-df-buttons div {\n",
              "      margin-bottom: 4px;\n",
              "    }\n",
              "\n",
              "    [theme=dark] .colab-df-convert {\n",
              "      background-color: #3B4455;\n",
              "      fill: #D2E3FC;\n",
              "    }\n",
              "\n",
              "    [theme=dark] .colab-df-convert:hover {\n",
              "      background-color: #434B5C;\n",
              "      box-shadow: 0px 1px 3px 1px rgba(0, 0, 0, 0.15);\n",
              "      filter: drop-shadow(0px 1px 2px rgba(0, 0, 0, 0.3));\n",
              "      fill: #FFFFFF;\n",
              "    }\n",
              "  </style>\n",
              "\n",
              "    <script>\n",
              "      const buttonEl =\n",
              "        document.querySelector('#df-8e9d26dc-2291-4830-86de-f46c8019d7ed button.colab-df-convert');\n",
              "      buttonEl.style.display =\n",
              "        google.colab.kernel.accessAllowed ? 'block' : 'none';\n",
              "\n",
              "      async function convertToInteractive(key) {\n",
              "        const element = document.querySelector('#df-8e9d26dc-2291-4830-86de-f46c8019d7ed');\n",
              "        const dataTable =\n",
              "          await google.colab.kernel.invokeFunction('convertToInteractive',\n",
              "                                                    [key], {});\n",
              "        if (!dataTable) return;\n",
              "\n",
              "        const docLinkHtml = 'Like what you see? Visit the ' +\n",
              "          '<a target=\"_blank\" href=https://colab.research.google.com/notebooks/data_table.ipynb>data table notebook</a>'\n",
              "          + ' to learn more about interactive tables.';\n",
              "        element.innerHTML = '';\n",
              "        dataTable['output_type'] = 'display_data';\n",
              "        await google.colab.output.renderOutput(dataTable, element);\n",
              "        const docLink = document.createElement('div');\n",
              "        docLink.innerHTML = docLinkHtml;\n",
              "        element.appendChild(docLink);\n",
              "      }\n",
              "    </script>\n",
              "  </div>\n",
              "\n",
              "\n",
              "<div id=\"df-1fc1abf0-1fa4-4156-bf04-07de36834222\">\n",
              "  <button class=\"colab-df-quickchart\" onclick=\"quickchart('df-1fc1abf0-1fa4-4156-bf04-07de36834222')\"\n",
              "            title=\"Suggest charts\"\n",
              "            style=\"display:none;\">\n",
              "\n",
              "<svg xmlns=\"http://www.w3.org/2000/svg\" height=\"24px\"viewBox=\"0 0 24 24\"\n",
              "     width=\"24px\">\n",
              "    <g>\n",
              "        <path d=\"M19 3H5c-1.1 0-2 .9-2 2v14c0 1.1.9 2 2 2h14c1.1 0 2-.9 2-2V5c0-1.1-.9-2-2-2zM9 17H7v-7h2v7zm4 0h-2V7h2v10zm4 0h-2v-4h2v4z\"/>\n",
              "    </g>\n",
              "</svg>\n",
              "  </button>\n",
              "\n",
              "<style>\n",
              "  .colab-df-quickchart {\n",
              "      --bg-color: #E8F0FE;\n",
              "      --fill-color: #1967D2;\n",
              "      --hover-bg-color: #E2EBFA;\n",
              "      --hover-fill-color: #174EA6;\n",
              "      --disabled-fill-color: #AAA;\n",
              "      --disabled-bg-color: #DDD;\n",
              "  }\n",
              "\n",
              "  [theme=dark] .colab-df-quickchart {\n",
              "      --bg-color: #3B4455;\n",
              "      --fill-color: #D2E3FC;\n",
              "      --hover-bg-color: #434B5C;\n",
              "      --hover-fill-color: #FFFFFF;\n",
              "      --disabled-bg-color: #3B4455;\n",
              "      --disabled-fill-color: #666;\n",
              "  }\n",
              "\n",
              "  .colab-df-quickchart {\n",
              "    background-color: var(--bg-color);\n",
              "    border: none;\n",
              "    border-radius: 50%;\n",
              "    cursor: pointer;\n",
              "    display: none;\n",
              "    fill: var(--fill-color);\n",
              "    height: 32px;\n",
              "    padding: 0;\n",
              "    width: 32px;\n",
              "  }\n",
              "\n",
              "  .colab-df-quickchart:hover {\n",
              "    background-color: var(--hover-bg-color);\n",
              "    box-shadow: 0 1px 2px rgba(60, 64, 67, 0.3), 0 1px 3px 1px rgba(60, 64, 67, 0.15);\n",
              "    fill: var(--button-hover-fill-color);\n",
              "  }\n",
              "\n",
              "  .colab-df-quickchart-complete:disabled,\n",
              "  .colab-df-quickchart-complete:disabled:hover {\n",
              "    background-color: var(--disabled-bg-color);\n",
              "    fill: var(--disabled-fill-color);\n",
              "    box-shadow: none;\n",
              "  }\n",
              "\n",
              "  .colab-df-spinner {\n",
              "    border: 2px solid var(--fill-color);\n",
              "    border-color: transparent;\n",
              "    border-bottom-color: var(--fill-color);\n",
              "    animation:\n",
              "      spin 1s steps(1) infinite;\n",
              "  }\n",
              "\n",
              "  @keyframes spin {\n",
              "    0% {\n",
              "      border-color: transparent;\n",
              "      border-bottom-color: var(--fill-color);\n",
              "      border-left-color: var(--fill-color);\n",
              "    }\n",
              "    20% {\n",
              "      border-color: transparent;\n",
              "      border-left-color: var(--fill-color);\n",
              "      border-top-color: var(--fill-color);\n",
              "    }\n",
              "    30% {\n",
              "      border-color: transparent;\n",
              "      border-left-color: var(--fill-color);\n",
              "      border-top-color: var(--fill-color);\n",
              "      border-right-color: var(--fill-color);\n",
              "    }\n",
              "    40% {\n",
              "      border-color: transparent;\n",
              "      border-right-color: var(--fill-color);\n",
              "      border-top-color: var(--fill-color);\n",
              "    }\n",
              "    60% {\n",
              "      border-color: transparent;\n",
              "      border-right-color: var(--fill-color);\n",
              "    }\n",
              "    80% {\n",
              "      border-color: transparent;\n",
              "      border-right-color: var(--fill-color);\n",
              "      border-bottom-color: var(--fill-color);\n",
              "    }\n",
              "    90% {\n",
              "      border-color: transparent;\n",
              "      border-bottom-color: var(--fill-color);\n",
              "    }\n",
              "  }\n",
              "</style>\n",
              "\n",
              "  <script>\n",
              "    async function quickchart(key) {\n",
              "      const quickchartButtonEl =\n",
              "        document.querySelector('#' + key + ' button');\n",
              "      quickchartButtonEl.disabled = true;  // To prevent multiple clicks.\n",
              "      quickchartButtonEl.classList.add('colab-df-spinner');\n",
              "      try {\n",
              "        const charts = await google.colab.kernel.invokeFunction(\n",
              "            'suggestCharts', [key], {});\n",
              "      } catch (error) {\n",
              "        console.error('Error during call to suggestCharts:', error);\n",
              "      }\n",
              "      quickchartButtonEl.classList.remove('colab-df-spinner');\n",
              "      quickchartButtonEl.classList.add('colab-df-quickchart-complete');\n",
              "    }\n",
              "    (() => {\n",
              "      let quickchartButtonEl =\n",
              "        document.querySelector('#df-1fc1abf0-1fa4-4156-bf04-07de36834222 button');\n",
              "      quickchartButtonEl.style.display =\n",
              "        google.colab.kernel.accessAllowed ? 'block' : 'none';\n",
              "    })();\n",
              "  </script>\n",
              "</div>\n",
              "\n",
              "    </div>\n",
              "  </div>\n"
            ],
            "application/vnd.google.colaboratory.intrinsic+json": {
              "type": "dataframe",
              "variable_name": "house_df",
              "summary": "{\n  \"name\": \"house_df\",\n  \"rows\": 1259,\n  \"fields\": [\n    {\n      \"column\": \"Area\",\n      \"properties\": {\n        \"dtype\": \"number\",\n        \"std\": 0.06460345419904363,\n        \"min\": 0.0,\n        \"max\": 1.0,\n        \"num_unique_values\": 315,\n        \"samples\": [\n          0.10398813447593935,\n          0.06476598549769282,\n          0.05034607778510217\n        ],\n        \"semantic_type\": \"\",\n        \"description\": \"\"\n      }\n    },\n    {\n      \"column\": \"BHK\",\n      \"properties\": {\n        \"dtype\": \"number\",\n        \"std\": 0.10604720933372475,\n        \"min\": 0.0,\n        \"max\": 1.0,\n        \"num_unique_values\": 8,\n        \"samples\": [\n          0.1111111111111111,\n          0.4444444444444445,\n          0.2222222222222222\n        ],\n        \"semantic_type\": \"\",\n        \"description\": \"\"\n      }\n    },\n    {\n      \"column\": \"Bathroom\",\n      \"properties\": {\n        \"dtype\": \"number\",\n        \"std\": 0.1736045012708646,\n        \"min\": 0.0,\n        \"max\": 0.9999999999999999,\n        \"num_unique_values\": 7,\n        \"samples\": [\n          0.16666666666666666,\n          0.33333333333333337,\n          0.8333333333333334\n        ],\n        \"semantic_type\": \"\",\n        \"description\": \"\"\n      }\n    },\n    {\n      \"column\": \"Furnishing\",\n      \"properties\": {\n        \"dtype\": \"category\",\n        \"num_unique_values\": 3,\n        \"samples\": [\n          \"Semi-Furnished\",\n          \"Furnished\",\n          \"Unfurnished\"\n        ],\n        \"semantic_type\": \"\",\n        \"description\": \"\"\n      }\n    },\n    {\n      \"column\": \"Parking\",\n      \"properties\": {\n        \"dtype\": \"number\",\n        \"std\": 0.05483463969441878,\n        \"min\": 0.0,\n        \"max\": 1.0,\n        \"num_unique_values\": 9,\n        \"samples\": [\n          0.07964601769911504,\n          0.035398230088495575,\n          0.017699115044247787\n        ],\n        \"semantic_type\": \"\",\n        \"description\": \"\"\n      }\n    },\n    {\n      \"column\": \"Price\",\n      \"properties\": {\n        \"dtype\": \"number\",\n        \"std\": 0.10711780136309543,\n        \"min\": 0.0,\n        \"max\": 1.0,\n        \"num_unique_values\": 284,\n        \"samples\": [\n          0.028033472803347285,\n          0.03158995815899582,\n          0.019246861924686193\n        ],\n        \"semantic_type\": \"\",\n        \"description\": \"\"\n      }\n    },\n    {\n      \"column\": \"Status\",\n      \"properties\": {\n        \"dtype\": \"category\",\n        \"num_unique_values\": 2,\n        \"samples\": [\n          \"Almost_ready\",\n          \"Ready_to_move\"\n        ],\n        \"semantic_type\": \"\",\n        \"description\": \"\"\n      }\n    },\n    {\n      \"column\": \"Transaction\",\n      \"properties\": {\n        \"dtype\": \"category\",\n        \"num_unique_values\": 2,\n        \"samples\": [\n          \"Resale\",\n          \"New_Property\"\n        ],\n        \"semantic_type\": \"\",\n        \"description\": \"\"\n      }\n    },\n    {\n      \"column\": \"Type\",\n      \"properties\": {\n        \"dtype\": \"category\",\n        \"num_unique_values\": 2,\n        \"samples\": [\n          \"Apartment\",\n          \"Builder_Floor\"\n        ],\n        \"semantic_type\": \"\",\n        \"description\": \"\"\n      }\n    },\n    {\n      \"column\": \"Per_Sqft\",\n      \"properties\": {\n        \"dtype\": \"number\",\n        \"std\": 0.10436841849648416,\n        \"min\": 0.0,\n        \"max\": 1.0,\n        \"num_unique_values\": 252,\n        \"samples\": [\n          0.011176774278590023,\n          0.07241561123499236\n        ],\n        \"semantic_type\": \"\",\n        \"description\": \"\"\n      }\n    }\n  ]\n}"
            }
          },
          "metadata": {},
          "execution_count": 22
        }
      ],
      "source": [
        "house_df.head(2)"
      ]
    },
    {
      "cell_type": "code",
      "execution_count": null,
      "metadata": {
        "id": "_pRK8H0-5-ve"
      },
      "outputs": [],
      "source": [
        "#creatig a function to detect outliers by IQR method\n",
        "def outliers(df,column):\n",
        "     Q1 = df[column].quantile(0.25) # First quartile\n",
        "     Q3 = df[column].quantile(0.75) # Third Quartile\n",
        "\n",
        "# interquartile range (IQR)\n",
        "     IQR = Q3 - Q1\n",
        "\n",
        "# lower and upper bounds for outliers\n",
        "     lower_bound = Q1 - 1.5 * IQR\n",
        "     upper_bound = Q3 + 1.5 * IQR\n",
        "\n",
        "# values greater than upper bound and values less than lower bond is an outlier\n",
        "     outliers_count = ((df[column] < lower_bound) | (df[column] > upper_bound)).sum()\n",
        "     result = print( 'outliers count ' , outliers_count,'lower bound ' , lower_bound, 'upper bound' ,upper_bound)\n",
        "     return result\n"
      ]
    },
    {
      "cell_type": "code",
      "execution_count": null,
      "metadata": {
        "colab": {
          "base_uri": "https://localhost:8080/",
          "height": 589
        },
        "id": "KGk_q5OYvNUT",
        "outputId": "e2cdd24f-b4a0-4076-a58f-3865f06dac3d"
      },
      "outputs": [
        {
          "output_type": "display_data",
          "data": {
            "text/plain": [
              "<Figure size 1200x600 with 1 Axes>"
            ],
            "image/png": "[encoded data removed]"
          },
          "metadata": {}
        }
      ],
      "source": [
        "#plotting box plot to see outliers\n",
        "abc = house_df[['Area', 'BHK', 'Bathroom', 'Parking','Per_Sqft']]\n",
        "plt.figure(figsize=(12, 6))\n",
        "abc.boxplot()\n",
        "plt.title('Box plot for each column')\n",
        "plt.xticks(rotation=45)\n",
        "plt.show()\n",
        "\n"
      ]
    },
    {
      "cell_type": "code",
      "execution_count": null,
      "metadata": {
        "colab": {
          "base_uri": "https://localhost:8080/"
        },
        "id": "nKpDYC6syuMI",
        "outputId": "52384e06-b7e7-4e38-af1c-cbe9f13c9caa"
      },
      "outputs": [
        {
          "output_type": "stream",
          "name": "stdout",
          "text": [
            "outliers count  67 lower bound  -0.023813447593935395 upper bound 0.12450560316413974\n",
            "outliers count  35 lower bound  -0.05555555555555555 upper bound 0.38888888888888884\n",
            "outliers count  67 lower bound  -0.0833333333333334 upper bound 0.5833333333333335\n",
            "outliers count  35 lower bound  -0.01327433628318584 upper bound 0.022123893805309734\n"
          ]
        }
      ],
      "source": [
        "#count of outliers and upper and lower bond value\n",
        "outliers(house_df,'Area')\n",
        "outliers(house_df,'BHK')\n",
        "outliers(house_df,'Bathroom')\n",
        "outliers(house_df,'Parking')"
      ]
    },
    {
      "cell_type": "code",
      "execution_count": null,
      "metadata": {
        "id": "oD2NMcfQnBs1"
      },
      "outputs": [],
      "source": [
        "def remove_outliers(data, colm):\n",
        "    q1 = data[colm].quantile(0.25)\n",
        "    q3 = data[colm].quantile(0.75)\n",
        "    IQR = q3 - q1\n",
        "    lower_bound = q1 - 1.5 * IQR\n",
        "    upper_bound = q3 + 1.5 * IQR\n",
        "    data = data[(data[colm] >= lower_bound) & (data[colm] <= upper_bound)]\n",
        "    return data\n"
      ]
    },
    {
      "cell_type": "code",
      "execution_count": null,
      "metadata": {
        "id": "pl7eKjk5lUhy"
      },
      "outputs": [],
      "source": [
        "house_df = remove_outliers(house_df,'Bathroom')\n",
        "house_df = remove_outliers(house_df,'Area')\n",
        "house_df = remove_outliers(house_df,'Parking')\n",
        "house_df = remove_outliers(house_df,'BHK')\n",
        "house_df = remove_outliers(house_df,'Per_Sqft')\n",
        "\n",
        "house_df = remove_outliers(house_df,'Bathroom')\n",
        "house_df = remove_outliers(house_df,'Area')\n",
        "house_df = remove_outliers(house_df,'Parking')\n",
        "house_df = remove_outliers(house_df,'BHK')\n",
        "house_df = remove_outliers(house_df,'Per_Sqft')"
      ]
    },
    {
      "cell_type": "code",
      "execution_count": null,
      "metadata": {
        "colab": {
          "base_uri": "https://localhost:8080/"
        },
        "id": "EYyBrMiEl2AY",
        "outputId": "323231ee-8a2a-4722-8b61-74d943c7e086"
      },
      "outputs": [
        {
          "output_type": "stream",
          "name": "stdout",
          "text": [
            "<class 'pandas.core.frame.DataFrame'>\n",
            "Index: 1039 entries, 0 to 1257\n",
            "Data columns (total 10 columns):\n",
            " #   Column       Non-Null Count  Dtype  \n",
            "---  ------       --------------  -----  \n",
            " 0   Area         1039 non-null   float64\n",
            " 1   BHK          1039 non-null   float64\n",
            " 2   Bathroom     1039 non-null   float64\n",
            " 3   Furnishing   1039 non-null   object \n",
            " 4   Parking      1039 non-null   float64\n",
            " 5   Price        1039 non-null   float64\n",
            " 6   Status       1039 non-null   object \n",
            " 7   Transaction  1039 non-null   object \n",
            " 8   Type         1039 non-null   object \n",
            " 9   Per_Sqft     1039 non-null   float64\n",
            "dtypes: float64(6), object(4)\n",
            "memory usage: 89.3+ KB\n"
          ]
        }
      ],
      "source": [
        "house_df.info()"
      ]
    },
    {
      "cell_type": "code",
      "execution_count": null,
      "metadata": {
        "colab": {
          "base_uri": "https://localhost:8080/",
          "height": 589
        },
        "id": "b_bmGt99wPdj",
        "outputId": "822be065-4289-49ad-c5bd-a9814500653d"
      },
      "outputs": [
        {
          "output_type": "display_data",
          "data": {
            "text/plain": [
              "<Figure size 1200x600 with 1 Axes>"
            ],
            "image/png": "[encoded data removed]"
          },
          "metadata": {}
        }
      ],
      "source": [
        "#checking if outliers are removed or not\n",
        "abc = house_df[['Area', 'BHK', 'Bathroom', 'Parking','Per_Sqft']]\n",
        "plt.figure(figsize=(12, 6))  # Adjust figure size as needed\n",
        "abc.boxplot()\n",
        "plt.title('Box plot for each column')\n",
        "plt.xticks(rotation=45)  # Rotate x-axis labels for better readability\n",
        "plt.show()\n"
      ]
    },
    {
      "cell_type": "code",
      "execution_count": null,
      "metadata": {
        "id": "ggn0ADaAGDg1"
      },
      "outputs": [],
      "source": [
        "#splitting the data\n",
        "x = house_df.drop(columns = ['Price'])\n",
        "y = house_df['Price'].values"
      ]
    },
    {
      "cell_type": "code",
      "execution_count": null,
      "metadata": {
        "id": "vgMCE3JPJRI5"
      },
      "outputs": [],
      "source": [
        "from sklearn.model_selection import train_test_split\n",
        "\n",
        "X_train, X_test , y_train , y_test  = train_test_split(x,y,test_size = 0.2,random_state = 42 )\n"
      ]
    },
    {
      "cell_type": "markdown",
      "metadata": {
        "id": "cfAvvjyCkEEf"
      },
      "source": [
        "# **Converting categorical column to numerical **"
      ]
    },
    {
      "cell_type": "code",
      "execution_count": null,
      "metadata": {
        "colab": {
          "base_uri": "https://localhost:8080/"
        },
        "id": "nclfUC_vmk3Y",
        "outputId": "b3b820d9-0011-4de9-dab4-6f15a4dfbce4"
      },
      "outputs": [
        {
          "output_type": "stream",
          "name": "stdout",
          "text": [
            "<class 'pandas.core.frame.DataFrame'>\n",
            "Index: 1039 entries, 0 to 1257\n",
            "Data columns (total 9 columns):\n",
            " #   Column       Non-Null Count  Dtype  \n",
            "---  ------       --------------  -----  \n",
            " 0   Area         1039 non-null   float64\n",
            " 1   BHK          1039 non-null   float64\n",
            " 2   Bathroom     1039 non-null   float64\n",
            " 3   Furnishing   1039 non-null   object \n",
            " 4   Parking      1039 non-null   float64\n",
            " 5   Status       1039 non-null   object \n",
            " 6   Transaction  1039 non-null   object \n",
            " 7   Type         1039 non-null   object \n",
            " 8   Per_Sqft     1039 non-null   float64\n",
            "dtypes: float64(5), object(4)\n",
            "memory usage: 81.2+ KB\n"
          ]
        }
      ],
      "source": [
        "x.info()"
      ]
    },
    {
      "cell_type": "code",
      "execution_count": null,
      "metadata": {
        "colab": {
          "base_uri": "https://localhost:8080/"
        },
        "id": "RGGRxDRSmhA2",
        "outputId": "d24cf720-aa44-4664-b870-d981f4ef7f5c"
      },
      "outputs": [
        {
          "output_type": "execute_result",
          "data": {
            "text/plain": [
              "Index(['Area', 'BHK', 'Bathroom', 'Furnishing', 'Parking', 'Status',\n",
              "       'Transaction', 'Type', 'Per_Sqft'],\n",
              "      dtype='object')"
            ]
          },
          "metadata": {},
          "execution_count": 33
        }
      ],
      "source": [
        "x.columns"
      ]
    },
    {
      "cell_type": "code",
      "execution_count": null,
      "metadata": {
        "id": "0g_OHNHGkKAy"
      },
      "outputs": [],
      "source": [
        "from sklearn.preprocessing import OneHotEncoder\n",
        "ohe = OneHotEncoder(drop = 'first',sparse_output  = False, dtype = np.int32)"
      ]
    },
    {
      "cell_type": "code",
      "execution_count": null,
      "metadata": {
        "id": "XbmX6gO2mQBe"
      },
      "outputs": [],
      "source": [
        "X_train_new = ohe.fit_transform(X_train[['Furnishing','Status','Transaction','Type']])\n",
        "X_test_new = ohe.fit_transform(X_test[['Furnishing','Status','Transaction','Type']])"
      ]
    },
    {
      "cell_type": "code",
      "execution_count": null,
      "metadata": {
        "id": "nA6_AKcLqg9i"
      },
      "outputs": [],
      "source": [
        "a = np.hstack((X_train[['Area', 'BHK', 'Bathroom',  'Parking', 'Per_Sqft']].values,X_train_new))"
      ]
    },
    {
      "cell_type": "markdown",
      "metadata": {
        "id": "EzZHLoFfsPeu"
      },
      "source": []
    },
    {
      "cell_type": "code",
      "execution_count": null,
      "metadata": {
        "id": "VCmR-Pl5rJZo"
      },
      "outputs": [],
      "source": [
        "import pandas as pd\n",
        "\n",
        "original_columns = ['Area', 'BHK', 'Bathroom', 'Parking',  'Per_Sqft']\n",
        "\n",
        "# Concatenate original features with encoded features\n",
        "combined_data = np.hstack((X_train[original_columns].values, X_train_new))\n",
        "combined_data1 = np.hstack((X_test[original_columns].values, X_test_new))\n",
        "\n",
        "# Column names for the combined DataFrame\n",
        "combined_columns = original_columns + list(ohe.get_feature_names_out(['Furnishing', 'Status', 'Transaction','Type']))\n",
        "combined_columns1 = original_columns + list(ohe.get_feature_names_out(['Furnishing', 'Status', 'Transaction','Type']))\n",
        "\n",
        "# Create DataFrame from combined data\n",
        "X_train_combined = pd.DataFrame(combined_data, columns=combined_columns)\n",
        "X_test_combined = pd.DataFrame(combined_data1, columns=combined_columns1)\n",
        "\n",
        "\n"
      ]
    },
    {
      "cell_type": "code",
      "execution_count": null,
      "metadata": {
        "id": "yIuGbsEtNpR6"
      },
      "outputs": [],
      "source": [
        "from sklearn.metrics import mean_absolute_error, mean_squared_error, r2_score\n",
        "import numpy as np\n",
        "\n",
        "def regression_metrics(y_test, y_pred):\n",
        "\n",
        "    #Mean Absolute Error (MAE)\n",
        "    mae = mean_absolute_error(y_test, y_pred)\n",
        "\n",
        "    # Mean Squared Error (MSE)\n",
        "    mse = mean_squared_error(y_test, y_pred)\n",
        "\n",
        "    #Root Mean Squared Error (RMSE)\n",
        "    rmse = np.sqrt(mse)\n",
        "\n",
        "\n",
        "    # R^2 score\n",
        "    r2 = r2_score(y_test, y_pred)\n",
        "\n",
        "    metrics = {\n",
        "        'MAE': mae,\n",
        "        'MSE': mse,\n",
        "        'RMSE': rmse,\n",
        "        'R2': r2\n",
        "    }\n",
        "\n",
        "    return metrics\n"
      ]
    },
    {
      "cell_type": "code",
      "execution_count": null,
      "metadata": {
        "colab": {
          "base_uri": "https://localhost:8080/"
        },
        "id": "zior5Ce4MYq2",
        "outputId": "b4ca0b9d-e300-4227-8468-771733118d1d"
      },
      "outputs": [
        {
          "output_type": "execute_result",
          "data": {
            "text/plain": [
              "{'MAE': 0.020415750336495876,\n",
              " 'MSE': 0.000779941506894155,\n",
              " 'RMSE': 0.027927432873326455,\n",
              " 'R2': 0.6847748791198642}"
            ]
          },
          "metadata": {},
          "execution_count": 39
        }
      ],
      "source": [
        "from sklearn.metrics import mean_absolute_error, mean_squared_error, r2_score\n",
        "\n",
        "from sklearn.linear_model import LinearRegression\n",
        "# Linear Regression\n",
        "model = LinearRegression()\n",
        "model.fit(X_train_combined, y_train)\n",
        "\n",
        "# Make predictions\n",
        "LR = model.predict(X_test_combined)\n",
        "regression_metrics(y_test,LR)"
      ]
    },
    {
      "cell_type": "code",
      "execution_count": null,
      "metadata": {
        "colab": {
          "base_uri": "https://localhost:8080/"
        },
        "id": "GLbVgy7669QH",
        "outputId": "723c86d8-988f-4a8d-f300-6dec2a3dec88"
      },
      "outputs": [
        {
          "output_type": "stream",
          "name": "stdout",
          "text": [
            "Best Hyperparameters: {'max_depth': 20, 'min_samples_leaf': 2, 'min_samples_split': 10}\n"
          ]
        }
      ],
      "source": [
        "from sklearn.model_selection import GridSearchCV\n",
        "\n",
        "# Define the parameter grid\n",
        "param_grid = {\n",
        "    'max_depth': [None , 10, 20],\n",
        "    'min_samples_split': [2, 5, 10],\n",
        "    'min_samples_leaf': [1, 2, 4]\n",
        "}\n",
        "\n",
        "# Creating the grid search\n",
        "grid_search = GridSearchCV(DecisionTreeRegressor  (), param_grid, cv=5)\n",
        "grid_search.fit(X_train_combined, y_train)\n",
        "\n",
        "#best parameters\n",
        "best_params = grid_search.best_params_\n",
        "print(\"Best Hyperparameters:\", best_params)\n",
        "\n",
        "best_model = grid_search.best_estimator_\n"
      ]
    },
    {
      "cell_type": "code",
      "execution_count": null,
      "metadata": {
        "colab": {
          "base_uri": "https://localhost:8080/"
        },
        "id": "jCFu2JndiBdl",
        "outputId": "213e9c7e-1d21-4e9b-f95c-f4cad3bb4459"
      },
      "outputs": [
        {
          "output_type": "execute_result",
          "data": {
            "text/plain": [
              "{'MAE': 0.01685306136919513,\n",
              " 'MSE': 0.0007221714857574547,\n",
              " 'RMSE': 0.026873248515158245,\n",
              " 'R2': 0.7081235042861046}"
            ]
          },
          "metadata": {},
          "execution_count": 41
        }
      ],
      "source": [
        "# Decision Tree Regression\n",
        "model =DecisionTreeRegressor(max_depth =10,min_samples_split = 2,min_samples_leaf = 10)\n",
        "model.fit(X_train_combined, y_train)\n",
        "\n",
        "\n",
        "# Make predictions\n",
        "DT = model.predict(X_test_combined)\n",
        "# Evaluate performance\n",
        "regression_metrics(y_test ,DT )"
      ]
    },
    {
      "cell_type": "code",
      "execution_count": null,
      "metadata": {
        "colab": {
          "base_uri": "https://localhost:8080/",
          "height": 487
        },
        "id": "mEt3PhYREaS7",
        "outputId": "c0805d91-18a6-4154-8d24-d7fae93ee116"
      },
      "outputs": [
        {
          "output_type": "display_data",
          "data": {
            "text/plain": [
              "<Figure size 640x480 with 1 Axes>"
            ],
            "image/png": "[encoded data removed]"
          },
          "metadata": {}
        }
      ],
      "source": [
        "# visualizing  regression line\n",
        "import matplotlib.pyplot as plt\n",
        "import numpy as np\n",
        "from sklearn.linear_model import LinearRegression\n",
        "from sklearn.tree import DecisionTreeRegressor\n",
        "\n",
        "# Plot Decision Tree\n",
        "plt.scatter(y_test, DT, color='green')\n",
        "plt.plot([min(y_test), max(y_test)], [min(y_test), max(y_test)], color='red', label='Regression Line')\n",
        "plt.xlabel('Actual Values')\n",
        "plt.ylabel('Predicted Values')\n",
        "plt.title('Decision Tree')\n",
        "plt.legend()\n",
        "\n",
        "plt.tight_layout()\n",
        "plt.show()\n"
      ]
    },
    {
      "cell_type": "markdown",
      "metadata": {
        "id": "mgdJLuB_84SN"
      },
      "source": [
        "#The model demonstrates  low errors (MAE, MSE, RMSE), indicating good accuracy in predicting the target variable.\n",
        "\n",
        "\n",
        "#R2 score indicates that the model explains approximately 70.8% of the variance in the target variable, suggesting a moderately good fit to the data."
      ]
    },
    {
      "cell_type": "markdown",
      "source": [
        "#Batch gradient descent implementation\n"
      ],
      "metadata": {
        "id": "liAK54ZyldO-"
      }
    },
    {
      "cell_type": "code",
      "source": [
        "y_train = y_train.reshape(-1, 1)\n",
        "y_test = y_test.reshape(-1, 1)"
      ],
      "metadata": {
        "id": "MVhKSNe2jTRw"
      },
      "execution_count": null,
      "outputs": []
    },
    {
      "cell_type": "code",
      "source": [
        "import numpy as np\n",
        "from sklearn.metrics import r2_score\n",
        "\n",
        "class LinearRegressionBGD:\n",
        "    def __init__(self, learning_rate=0.001, num_iterations=1000):\n",
        "        self.learning_rate = learning_rate\n",
        "        self.num_iterations = num_iterations\n",
        "        self.theta = None\n",
        "        self.cost_history = None\n",
        "\n",
        "    def fit(self, X, y):\n",
        "        # Normalize features\n",
        "        X_normalized = (X - np.mean(X, axis=0)) / np.std(X, axis=0)\n",
        "\n",
        "        # Add bias term (intercept)\n",
        "        X_normalized = np.hstack((np.ones((X_normalized.shape[0], 1)), X_normalized))\n",
        "\n",
        "        # Initialize coefficients\n",
        "        self.theta = np.zeros((X_normalized.shape[1], 1))\n",
        "        self.cost_history = []\n",
        "\n",
        "        m = X_normalized.shape[0]\n",
        "\n",
        "        # Batch gradient descent\n",
        "        for _ in range(self.num_iterations):\n",
        "            predictions = np.dot(X_normalized, self.theta)\n",
        "            error = predictions - y\n",
        "            gradient = (1 / m) * np.dot(X_normalized.T, error)\n",
        "            self.theta -= self.learning_rate * gradient\n",
        "            cost = (1 / (2 * m)) * np.sum(np.square(error))\n",
        "            self.cost_history.append(cost)\n",
        "\n",
        "    def predict(self, X):\n",
        "        # Normalize features\n",
        "        X_normalized = (X - np.mean(X, axis=0)) / np.std(X, axis=0)\n",
        "\n",
        "        # Add bias term (intercept)\n",
        "        X_normalized = np.hstack((np.ones((X_normalized.shape[0], 1)), X_normalized))\n",
        "\n",
        "        return np.dot(X_normalized, self.theta)\n",
        "\n"
      ],
      "metadata": {
        "id": "vSSJCu31ZQrI"
      },
      "execution_count": null,
      "outputs": []
    },
    {
      "cell_type": "code",
      "source": [
        "# Create an instance of LinearRegressionBGD\n",
        "model = LinearRegressionBGD(learning_rate=0.5, num_iterations=1000)\n",
        "\n",
        "# Fit the model\n",
        "model.fit(X_train_combined, y_train)\n",
        "\n",
        "# Get predictions\n",
        "predictions_train = model.predict(X_train_combined)\n",
        "predictions_test = model.predict(X_test_combined)\n",
        "regression_metrics(y_test, predictions_test)\n",
        "\n"
      ],
      "metadata": {
        "colab": {
          "base_uri": "https://localhost:8080/"
        },
        "id": "S3BTWVgtamGc",
        "outputId": "9cdfb979-f0b4-4ae6-b28c-a5c0482f3aa9"
      },
      "execution_count": null,
      "outputs": [
        {
          "output_type": "execute_result",
          "data": {
            "text/plain": [
              "{'MAE': 0.020958073315944792,\n",
              " 'MSE': 0.0008141634134604792,\n",
              " 'RMSE': 0.028533548911070968,\n",
              " 'R2': 0.6709435795432124}"
            ]
          },
          "metadata": {},
          "execution_count": 45
        }
      ]
    },
    {
      "cell_type": "code",
      "source": [
        "plt.scatter(y_test, predictions_test, color='green')\n",
        "plt.plot([min(y_test), max(y_test)], [min(y_test), max(y_test)], color='red', label='Regression Line')\n",
        "plt.xlabel('Actual Values')\n",
        "plt.ylabel('Predicted Values')\n",
        "plt.title('Batch gradient descent')\n",
        "plt.legend()\n",
        "\n",
        "plt.tight_layout()\n",
        "plt.show()"
      ],
      "metadata": {
        "colab": {
          "base_uri": "https://localhost:8080/",
          "height": 487
        },
        "id": "T6wzoQQ9bTnS",
        "outputId": "9ca97a19-888a-4633-a345-0a60ddb9889d"
      },
      "execution_count": null,
      "outputs": [
        {
          "output_type": "display_data",
          "data": {
            "text/plain": [
              "<Figure size 640x480 with 1 Axes>"
            ],
            "image/png": "[encoded data removed]"
          },
          "metadata": {}
        }
      ]
    },
    {
      "cell_type": "markdown",
      "source": [
        "# polynomial regression"
      ],
      "metadata": {
        "id": "pKmRstX-MIRj"
      }
    },
    {
      "cell_type": "code",
      "source": [
        "import numpy as np\n",
        "import matplotlib.pyplot as plt\n",
        "from sklearn.model_selection import train_test_split\n",
        "from sklearn.linear_model import LinearRegression\n",
        "from sklearn.preprocessing import PolynomialFeatures\n",
        "from sklearn.metrics import mean_squared_error, r2_score\n",
        "\n",
        "\n",
        "# Define polynomial degree\n",
        "degree = 2\n",
        "\n",
        "# Transform features to polynomial features\n",
        "poly_features = PolynomialFeatures(degree=degree)\n",
        "X_train_poly = poly_features.fit_transform(X_train_combined)\n",
        "X_test_poly = poly_features.transform(X_test_combined)\n",
        "\n",
        "# Fit linear regression model\n",
        "lin_reg = LinearRegression()\n",
        "lin_reg.fit(X_train_poly, y_train)\n",
        "\n",
        "# Predict on training data\n",
        "y_train_pred = lin_reg.predict(X_train_poly)\n",
        "\n",
        "# Predict on test data\n",
        "y_test_pred = lin_reg.predict(X_test_poly)\n",
        "\n",
        "# Compute and print regression metrics\n",
        "regression_metrics(y_train, y_train_pred)"
      ],
      "metadata": {
        "colab": {
          "base_uri": "https://localhost:8080/"
        },
        "id": "ppoUQ37vLg5n",
        "outputId": "d7cea949-b933-44c8-d88e-6dce67ccd3cd"
      },
      "execution_count": null,
      "outputs": [
        {
          "output_type": "execute_result",
          "data": {
            "text/plain": [
              "{'MAE': 0.01807558465943251,\n",
              " 'MSE': 0.0007848867256993006,\n",
              " 'RMSE': 0.02801582991273506,\n",
              " 'R2': 0.7719393219134784}"
            ]
          },
          "metadata": {},
          "execution_count": 47
        }
      ]
    },
    {
      "cell_type": "code",
      "source": [
        "plt.scatter(y_test, y_test_pred, color='green')\n",
        "plt.plot([min(y_test), max(y_test)], [min(y_test), max(y_test)], color='red', label='Regression Line')\n",
        "plt.xlabel('Actual Values')\n",
        "plt.ylabel('Predicted Values')\n",
        "plt.title('Polynomial regresson')\n",
        "plt.legend()\n",
        "\n",
        "plt.tight_layout()\n",
        "plt.show()"
      ],
      "metadata": {
        "colab": {
          "base_uri": "https://localhost:8080/",
          "height": 487
        },
        "id": "v7CRtRltYHLV",
        "outputId": "94427ea7-a356-4fb6-962b-89bf4205e8f6"
      },
      "execution_count": null,
      "outputs": [
        {
          "output_type": "display_data",
          "data": {
            "text/plain": [
              "<Figure size 640x480 with 1 Axes>"
            ],
            "image/png": "[encoded data removed]"
          },
          "metadata": {}
        }
      ]
    }
  ],
  "metadata": {
    "colab": {
      "provenance": [],
      "mount_file_id": "1LkN6SP6pYsThDlkVVJy4C46Dr-pxZMNv",
      "authorship_tag": "ABX9TyMth7ZU+ECzg/rQGbCixtfF",
      "include_colab_link": true
    },
    "kernelspec": {
      "display_name": "Python 3",
      "name": "python3"
    },
    "language_info": {
      "name": "python"
    }
  },
  "nbformat": 4,
  "nbformat_minor": 0
}