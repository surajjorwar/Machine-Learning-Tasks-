{
  "nbformat": 4,
  "nbformat_minor": 0,
  "metadata": {
    "colab": {
      "provenance": [],
      "mount_file_id": "1LkN6SP6pYsThDlkVVJy4C46Dr-pxZMNv",
      "authorship_tag": "ABX9TyPKVEXWYqZmi2ttEAfuVrNf",
      "include_colab_link": true
    },
    "kernelspec": {
      "name": "python3",
      "display_name": "Python 3"
    },
    "language_info": {
      "name": "python"
    }
  },
  "cells": [
    {
      "cell_type": "markdown",
      "metadata": {
        "id": "view-in-github",
        "colab_type": "text"
      },
      "source": [
        "<a href=\"https://colab.research.google.com/github/surajjorwar/Machine-Learning-Tasks-/blob/main/regression(video4).ipynb\" target=\"_parent\"><img src=\"https://colab.research.google.com/assets/colab-badge.svg\" alt=\"Open In Colab\"/></a>"
      ]
    },
    {
      "cell_type": "code",
      "execution_count": 1032,
      "metadata": {
        "id": "ZTfU8FFP03jX"
      },
      "outputs": [],
      "source": [
        "import numpy as np\n",
        "import pandas as pd\n",
        "import seaborn as sns\n",
        "import matplotlib.pyplot as plt\n",
        "#Linear regresson and decision tree regression algorithm are used in this project\n",
        "from sklearn.linear_model import LinearRegression\n",
        "from sklearn.tree import DecisionTreeRegressor\n"
      ]
    },
    {
      "cell_type": "code",
      "source": [
        "#Loading the data set\n",
        "house_df = pd.read_csv('/content/drive/MyDrive/andrew ng /house data/MagicBricks.csv')"
      ],
      "metadata": {
        "id": "u5bU6xUJ1Jvu"
      },
      "execution_count": 1033,
      "outputs": []
    },
    {
      "cell_type": "code",
      "source": [
        "# first 5 records in dataframe\n",
        "house_df.head(5)"
      ],
      "metadata": {
        "colab": {
          "base_uri": "https://localhost:8080/",
          "height": 293
        },
        "id": "WKc6SnRo2B2o",
        "outputId": "ef059e8b-6e06-4b00-b165-a18c85e2c50b"
      },
      "execution_count": 1034,
      "outputs": [
        {
          "output_type": "execute_result",
          "data": {
            "text/plain": [
              "    Area  BHK  Bathroom      Furnishing  \\\n",
              "0  800.0    3       2.0  Semi-Furnished   \n",
              "1  750.0    2       2.0  Semi-Furnished   \n",
              "2  950.0    2       2.0       Furnished   \n",
              "3  600.0    2       2.0  Semi-Furnished   \n",
              "4  650.0    2       2.0  Semi-Furnished   \n",
              "\n",
              "                                            Locality  Parking     Price  \\\n",
              "0                                   Rohini Sector 25      1.0   6500000   \n",
              "1             J R Designers Floors, Rohini Sector 24      1.0   5000000   \n",
              "2                Citizen Apartment, Rohini Sector 13      1.0  15500000   \n",
              "3                                   Rohini Sector 24      1.0   4200000   \n",
              "4  Rohini Sector 24 carpet area 650 sqft status R...      1.0   6200000   \n",
              "\n",
              "          Status   Transaction           Type  Per_Sqft  \n",
              "0  Ready_to_move  New_Property  Builder_Floor       NaN  \n",
              "1  Ready_to_move  New_Property      Apartment    6667.0  \n",
              "2  Ready_to_move        Resale      Apartment    6667.0  \n",
              "3  Ready_to_move        Resale  Builder_Floor    6667.0  \n",
              "4  Ready_to_move  New_Property  Builder_Floor    6667.0  "
            ],
            "text/html": [
              "\n",
              "  <div id=\"df-4830137f-9dd1-4d6e-aed7-5f8b5bec7da8\" class=\"colab-df-container\">\n",
              "    <div>\n",
              "<style scoped>\n",
              "    .dataframe tbody tr th:only-of-type {\n",
              "        vertical-align: middle;\n",
              "    }\n",
              "\n",
              "    .dataframe tbody tr th {\n",
              "        vertical-align: top;\n",
              "    }\n",
              "\n",
              "    .dataframe thead th {\n",
              "        text-align: right;\n",
              "    }\n",
              "</style>\n",
              "<table border=\"1\" class=\"dataframe\">\n",
              "  <thead>\n",
              "    <tr style=\"text-align: right;\">\n",
              "      <th></th>\n",
              "      <th>Area</th>\n",
              "      <th>BHK</th>\n",
              "      <th>Bathroom</th>\n",
              "      <th>Furnishing</th>\n",
              "      <th>Locality</th>\n",
              "      <th>Parking</th>\n",
              "      <th>Price</th>\n",
              "      <th>Status</th>\n",
              "      <th>Transaction</th>\n",
              "      <th>Type</th>\n",
              "      <th>Per_Sqft</th>\n",
              "    </tr>\n",
              "  </thead>\n",
              "  <tbody>\n",
              "    <tr>\n",
              "      <th>0</th>\n",
              "      <td>800.0</td>\n",
              "      <td>3</td>\n",
              "      <td>2.0</td>\n",
              "      <td>Semi-Furnished</td>\n",
              "      <td>Rohini Sector 25</td>\n",
              "      <td>1.0</td>\n",
              "      <td>6500000</td>\n",
              "      <td>Ready_to_move</td>\n",
              "      <td>New_Property</td>\n",
              "      <td>Builder_Floor</td>\n",
              "      <td>NaN</td>\n",
              "    </tr>\n",
              "    <tr>\n",
              "      <th>1</th>\n",
              "      <td>750.0</td>\n",
              "      <td>2</td>\n",
              "      <td>2.0</td>\n",
              "      <td>Semi-Furnished</td>\n",
              "      <td>J R Designers Floors, Rohini Sector 24</td>\n",
              "      <td>1.0</td>\n",
              "      <td>5000000</td>\n",
              "      <td>Ready_to_move</td>\n",
              "      <td>New_Property</td>\n",
              "      <td>Apartment</td>\n",
              "      <td>6667.0</td>\n",
              "    </tr>\n",
              "    <tr>\n",
              "      <th>2</th>\n",
              "      <td>950.0</td>\n",
              "      <td>2</td>\n",
              "      <td>2.0</td>\n",
              "      <td>Furnished</td>\n",
              "      <td>Citizen Apartment, Rohini Sector 13</td>\n",
              "      <td>1.0</td>\n",
              "      <td>15500000</td>\n",
              "      <td>Ready_to_move</td>\n",
              "      <td>Resale</td>\n",
              "      <td>Apartment</td>\n",
              "      <td>6667.0</td>\n",
              "    </tr>\n",
              "    <tr>\n",
              "      <th>3</th>\n",
              "      <td>600.0</td>\n",
              "      <td>2</td>\n",
              "      <td>2.0</td>\n",
              "      <td>Semi-Furnished</td>\n",
              "      <td>Rohini Sector 24</td>\n",
              "      <td>1.0</td>\n",
              "      <td>4200000</td>\n",
              "      <td>Ready_to_move</td>\n",
              "      <td>Resale</td>\n",
              "      <td>Builder_Floor</td>\n",
              "      <td>6667.0</td>\n",
              "    </tr>\n",
              "    <tr>\n",
              "      <th>4</th>\n",
              "      <td>650.0</td>\n",
              "      <td>2</td>\n",
              "      <td>2.0</td>\n",
              "      <td>Semi-Furnished</td>\n",
              "      <td>Rohini Sector 24 carpet area 650 sqft status R...</td>\n",
              "      <td>1.0</td>\n",
              "      <td>6200000</td>\n",
              "      <td>Ready_to_move</td>\n",
              "      <td>New_Property</td>\n",
              "      <td>Builder_Floor</td>\n",
              "      <td>6667.0</td>\n",
              "    </tr>\n",
              "  </tbody>\n",
              "</table>\n",
              "</div>\n",
              "    <div class=\"colab-df-buttons\">\n",
              "\n",
              "  <div class=\"colab-df-container\">\n",
              "    <button class=\"colab-df-convert\" onclick=\"convertToInteractive('df-4830137f-9dd1-4d6e-aed7-5f8b5bec7da8')\"\n",
              "            title=\"Convert this dataframe to an interactive table.\"\n",
              "            style=\"display:none;\">\n",
              "\n",
              "  <svg xmlns=\"http://www.w3.org/2000/svg\" height=\"24px\" viewBox=\"0 -960 960 960\">\n",
              "    <path d=\"M120-120v-720h720v720H120Zm60-500h600v-160H180v160Zm220 220h160v-160H400v160Zm0 220h160v-160H400v160ZM180-400h160v-160H180v160Zm440 0h160v-160H620v160ZM180-180h160v-160H180v160Zm440 0h160v-160H620v160Z\"/>\n",
              "  </svg>\n",
              "    </button>\n",
              "\n",
              "  <style>\n",
              "    .colab-df-container {\n",
              "      display:flex;\n",
              "      gap: 12px;\n",
              "    }\n",
              "\n",
              "    .colab-df-convert {\n",
              "      background-color: #E8F0FE;\n",
              "      border: none;\n",
              "      border-radius: 50%;\n",
              "      cursor: pointer;\n",
              "      display: none;\n",
              "      fill: #1967D2;\n",
              "      height: 32px;\n",
              "      padding: 0 0 0 0;\n",
              "      width: 32px;\n",
              "    }\n",
              "\n",
              "    .colab-df-convert:hover {\n",
              "      background-color: #E2EBFA;\n",
              "      box-shadow: 0px 1px 2px rgba(60, 64, 67, 0.3), 0px 1px 3px 1px rgba(60, 64, 67, 0.15);\n",
              "      fill: #174EA6;\n",
              "    }\n",
              "\n",
              "    .colab-df-buttons div {\n",
              "      margin-bottom: 4px;\n",
              "    }\n",
              "\n",
              "    [theme=dark] .colab-df-convert {\n",
              "      background-color: #3B4455;\n",
              "      fill: #D2E3FC;\n",
              "    }\n",
              "\n",
              "    [theme=dark] .colab-df-convert:hover {\n",
              "      background-color: #434B5C;\n",
              "      box-shadow: 0px 1px 3px 1px rgba(0, 0, 0, 0.15);\n",
              "      filter: drop-shadow(0px 1px 2px rgba(0, 0, 0, 0.3));\n",
              "      fill: #FFFFFF;\n",
              "    }\n",
              "  </style>\n",
              "\n",
              "    <script>\n",
              "      const buttonEl =\n",
              "        document.querySelector('#df-4830137f-9dd1-4d6e-aed7-5f8b5bec7da8 button.colab-df-convert');\n",
              "      buttonEl.style.display =\n",
              "        google.colab.kernel.accessAllowed ? 'block' : 'none';\n",
              "\n",
              "      async function convertToInteractive(key) {\n",
              "        const element = document.querySelector('#df-4830137f-9dd1-4d6e-aed7-5f8b5bec7da8');\n",
              "        const dataTable =\n",
              "          await google.colab.kernel.invokeFunction('convertToInteractive',\n",
              "                                                    [key], {});\n",
              "        if (!dataTable) return;\n",
              "\n",
              "        const docLinkHtml = 'Like what you see? Visit the ' +\n",
              "          '<a target=\"_blank\" href=https://colab.research.google.com/notebooks/data_table.ipynb>data table notebook</a>'\n",
              "          + ' to learn more about interactive tables.';\n",
              "        element.innerHTML = '';\n",
              "        dataTable['output_type'] = 'display_data';\n",
              "        await google.colab.output.renderOutput(dataTable, element);\n",
              "        const docLink = document.createElement('div');\n",
              "        docLink.innerHTML = docLinkHtml;\n",
              "        element.appendChild(docLink);\n",
              "      }\n",
              "    </script>\n",
              "  </div>\n",
              "\n",
              "\n",
              "<div id=\"df-8537e899-8283-4818-ae1d-c3412c789d13\">\n",
              "  <button class=\"colab-df-quickchart\" onclick=\"quickchart('df-8537e899-8283-4818-ae1d-c3412c789d13')\"\n",
              "            title=\"Suggest charts\"\n",
              "            style=\"display:none;\">\n",
              "\n",
              "<svg xmlns=\"http://www.w3.org/2000/svg\" height=\"24px\"viewBox=\"0 0 24 24\"\n",
              "     width=\"24px\">\n",
              "    <g>\n",
              "        <path d=\"M19 3H5c-1.1 0-2 .9-2 2v14c0 1.1.9 2 2 2h14c1.1 0 2-.9 2-2V5c0-1.1-.9-2-2-2zM9 17H7v-7h2v7zm4 0h-2V7h2v10zm4 0h-2v-4h2v4z\"/>\n",
              "    </g>\n",
              "</svg>\n",
              "  </button>\n",
              "\n",
              "<style>\n",
              "  .colab-df-quickchart {\n",
              "      --bg-color: #E8F0FE;\n",
              "      --fill-color: #1967D2;\n",
              "      --hover-bg-color: #E2EBFA;\n",
              "      --hover-fill-color: #174EA6;\n",
              "      --disabled-fill-color: #AAA;\n",
              "      --disabled-bg-color: #DDD;\n",
              "  }\n",
              "\n",
              "  [theme=dark] .colab-df-quickchart {\n",
              "      --bg-color: #3B4455;\n",
              "      --fill-color: #D2E3FC;\n",
              "      --hover-bg-color: #434B5C;\n",
              "      --hover-fill-color: #FFFFFF;\n",
              "      --disabled-bg-color: #3B4455;\n",
              "      --disabled-fill-color: #666;\n",
              "  }\n",
              "\n",
              "  .colab-df-quickchart {\n",
              "    background-color: var(--bg-color);\n",
              "    border: none;\n",
              "    border-radius: 50%;\n",
              "    cursor: pointer;\n",
              "    display: none;\n",
              "    fill: var(--fill-color);\n",
              "    height: 32px;\n",
              "    padding: 0;\n",
              "    width: 32px;\n",
              "  }\n",
              "\n",
              "  .colab-df-quickchart:hover {\n",
              "    background-color: var(--hover-bg-color);\n",
              "    box-shadow: 0 1px 2px rgba(60, 64, 67, 0.3), 0 1px 3px 1px rgba(60, 64, 67, 0.15);\n",
              "    fill: var(--button-hover-fill-color);\n",
              "  }\n",
              "\n",
              "  .colab-df-quickchart-complete:disabled,\n",
              "  .colab-df-quickchart-complete:disabled:hover {\n",
              "    background-color: var(--disabled-bg-color);\n",
              "    fill: var(--disabled-fill-color);\n",
              "    box-shadow: none;\n",
              "  }\n",
              "\n",
              "  .colab-df-spinner {\n",
              "    border: 2px solid var(--fill-color);\n",
              "    border-color: transparent;\n",
              "    border-bottom-color: var(--fill-color);\n",
              "    animation:\n",
              "      spin 1s steps(1) infinite;\n",
              "  }\n",
              "\n",
              "  @keyframes spin {\n",
              "    0% {\n",
              "      border-color: transparent;\n",
              "      border-bottom-color: var(--fill-color);\n",
              "      border-left-color: var(--fill-color);\n",
              "    }\n",
              "    20% {\n",
              "      border-color: transparent;\n",
              "      border-left-color: var(--fill-color);\n",
              "      border-top-color: var(--fill-color);\n",
              "    }\n",
              "    30% {\n",
              "      border-color: transparent;\n",
              "      border-left-color: var(--fill-color);\n",
              "      border-top-color: var(--fill-color);\n",
              "      border-right-color: var(--fill-color);\n",
              "    }\n",
              "    40% {\n",
              "      border-color: transparent;\n",
              "      border-right-color: var(--fill-color);\n",
              "      border-top-color: var(--fill-color);\n",
              "    }\n",
              "    60% {\n",
              "      border-color: transparent;\n",
              "      border-right-color: var(--fill-color);\n",
              "    }\n",
              "    80% {\n",
              "      border-color: transparent;\n",
              "      border-right-color: var(--fill-color);\n",
              "      border-bottom-color: var(--fill-color);\n",
              "    }\n",
              "    90% {\n",
              "      border-color: transparent;\n",
              "      border-bottom-color: var(--fill-color);\n",
              "    }\n",
              "  }\n",
              "</style>\n",
              "\n",
              "  <script>\n",
              "    async function quickchart(key) {\n",
              "      const quickchartButtonEl =\n",
              "        document.querySelector('#' + key + ' button');\n",
              "      quickchartButtonEl.disabled = true;  // To prevent multiple clicks.\n",
              "      quickchartButtonEl.classList.add('colab-df-spinner');\n",
              "      try {\n",
              "        const charts = await google.colab.kernel.invokeFunction(\n",
              "            'suggestCharts', [key], {});\n",
              "      } catch (error) {\n",
              "        console.error('Error during call to suggestCharts:', error);\n",
              "      }\n",
              "      quickchartButtonEl.classList.remove('colab-df-spinner');\n",
              "      quickchartButtonEl.classList.add('colab-df-quickchart-complete');\n",
              "    }\n",
              "    (() => {\n",
              "      let quickchartButtonEl =\n",
              "        document.querySelector('#df-8537e899-8283-4818-ae1d-c3412c789d13 button');\n",
              "      quickchartButtonEl.style.display =\n",
              "        google.colab.kernel.accessAllowed ? 'block' : 'none';\n",
              "    })();\n",
              "  </script>\n",
              "</div>\n",
              "\n",
              "    </div>\n",
              "  </div>\n"
            ],
            "application/vnd.google.colaboratory.intrinsic+json": {
              "type": "dataframe",
              "variable_name": "house_df",
              "summary": "{\n  \"name\": \"house_df\",\n  \"rows\": 1259,\n  \"fields\": [\n    {\n      \"column\": \"Area\",\n      \"properties\": {\n        \"dtype\": \"number\",\n        \"std\": 1568.055040319187,\n        \"min\": 28.0,\n        \"max\": 24300.0,\n        \"num_unique_values\": 315,\n        \"samples\": [\n          2552.0,\n          1600.0,\n          1250.0\n        ],\n        \"semantic_type\": \"\",\n        \"description\": \"\"\n      }\n    },\n    {\n      \"column\": \"BHK\",\n      \"properties\": {\n        \"dtype\": \"number\",\n        \"std\": 0,\n        \"min\": 1,\n        \"max\": 10,\n        \"num_unique_values\": 8,\n        \"samples\": [\n          2,\n          5,\n          3\n        ],\n        \"semantic_type\": \"\",\n        \"description\": \"\"\n      }\n    },\n    {\n      \"column\": \"Bathroom\",\n      \"properties\": {\n        \"dtype\": \"number\",\n        \"std\": 1.0422201707565528,\n        \"min\": 1.0,\n        \"max\": 7.0,\n        \"num_unique_values\": 7,\n        \"samples\": [\n          2.0,\n          3.0,\n          6.0\n        ],\n        \"semantic_type\": \"\",\n        \"description\": \"\"\n      }\n    },\n    {\n      \"column\": \"Furnishing\",\n      \"properties\": {\n        \"dtype\": \"category\",\n        \"num_unique_values\": 3,\n        \"samples\": [\n          \"Semi-Furnished\",\n          \"Furnished\",\n          \"Unfurnished\"\n        ],\n        \"semantic_type\": \"\",\n        \"description\": \"\"\n      }\n    },\n    {\n      \"column\": \"Locality\",\n      \"properties\": {\n        \"dtype\": \"category\",\n        \"num_unique_values\": 365,\n        \"samples\": [\n          \"Sunder Apartments, Sunder Vihar, Paschim Vihar\",\n          \"Kunj Vihar Apartment, Dwarka Sector 12\",\n          \"Rohini Sector 18 carpet area 40 sqm status Ready to Move floor 2 out of 4 floors transaction Resale furnishing Furnished facing East overlooking Main Road car parking 2 Open bathroom 1 balcony 1 ownership Freehold East Facing Property It an LIG three side corner flat in second floor, having full scope of expansion. interior decorated with 2 textured wall , kajaria tiles , fully modular kitchen, branded bathroom and toilet fittings, LED panel, ac in one bedroom, false ceiling in entire flat.south facing unobstructed view balcony. It was all renovated only 2.5 yrs back so every thing is in brand new condition. read more Contact Owner View Phone No. Share Feedback Owner Pramod\"\n        ],\n        \"semantic_type\": \"\",\n        \"description\": \"\"\n      }\n    },\n    {\n      \"column\": \"Parking\",\n      \"properties\": {\n        \"dtype\": \"number\",\n        \"std\": 6.279211536469023,\n        \"min\": 1.0,\n        \"max\": 114.0,\n        \"num_unique_values\": 9,\n        \"samples\": [\n          10.0,\n          5.0,\n          3.0\n        ],\n        \"semantic_type\": \"\",\n        \"description\": \"\"\n      }\n    },\n    {\n      \"column\": \"Price\",\n      \"properties\": {\n        \"dtype\": \"number\",\n        \"std\": 25601154,\n        \"min\": 1000000,\n        \"max\": 240000000,\n        \"num_unique_values\": 284,\n        \"samples\": [\n          7700000,\n          8550000,\n          5600000\n        ],\n        \"semantic_type\": \"\",\n        \"description\": \"\"\n      }\n    },\n    {\n      \"column\": \"Status\",\n      \"properties\": {\n        \"dtype\": \"category\",\n        \"num_unique_values\": 2,\n        \"samples\": [\n          \"Almost_ready\",\n          \"Ready_to_move\"\n        ],\n        \"semantic_type\": \"\",\n        \"description\": \"\"\n      }\n    },\n    {\n      \"column\": \"Transaction\",\n      \"properties\": {\n        \"dtype\": \"category\",\n        \"num_unique_values\": 2,\n        \"samples\": [\n          \"Resale\",\n          \"New_Property\"\n        ],\n        \"semantic_type\": \"\",\n        \"description\": \"\"\n      }\n    },\n    {\n      \"column\": \"Type\",\n      \"properties\": {\n        \"dtype\": \"category\",\n        \"num_unique_values\": 2,\n        \"samples\": [\n          \"Apartment\",\n          \"Builder_Floor\"\n        ],\n        \"semantic_type\": \"\",\n        \"description\": \"\"\n      }\n    },\n    {\n      \"column\": \"Per_Sqft\",\n      \"properties\": {\n        \"dtype\": \"number\",\n        \"std\": 21134.738568292476,\n        \"min\": 1259.0,\n        \"max\": 183333.0,\n        \"num_unique_values\": 251,\n        \"samples\": [\n          15384.0,\n          22000.0\n        ],\n        \"semantic_type\": \"\",\n        \"description\": \"\"\n      }\n    }\n  ]\n}"
            }
          },
          "metadata": {},
          "execution_count": 1034
        }
      ]
    },
    {
      "cell_type": "markdown",
      "source": [
        "for simple regression task we only need one input and one output column here we will  size in sq ft and price  as input and output columns"
      ],
      "metadata": {
        "id": "cAK_NL0v2NAH"
      }
    },
    {
      "cell_type": "code",
      "source": [
        "#information about the features of data set\n",
        "house_df.info()"
      ],
      "metadata": {
        "colab": {
          "base_uri": "https://localhost:8080/"
        },
        "id": "EM91dT142c0o",
        "outputId": "62c7d6f5-cfe6-41a5-a76b-a438d5ae1d33"
      },
      "execution_count": 1035,
      "outputs": [
        {
          "output_type": "stream",
          "name": "stdout",
          "text": [
            "<class 'pandas.core.frame.DataFrame'>\n",
            "RangeIndex: 1259 entries, 0 to 1258\n",
            "Data columns (total 11 columns):\n",
            " #   Column       Non-Null Count  Dtype  \n",
            "---  ------       --------------  -----  \n",
            " 0   Area         1259 non-null   float64\n",
            " 1   BHK          1259 non-null   int64  \n",
            " 2   Bathroom     1257 non-null   float64\n",
            " 3   Furnishing   1254 non-null   object \n",
            " 4   Locality     1259 non-null   object \n",
            " 5   Parking      1226 non-null   float64\n",
            " 6   Price        1259 non-null   int64  \n",
            " 7   Status       1259 non-null   object \n",
            " 8   Transaction  1259 non-null   object \n",
            " 9   Type         1254 non-null   object \n",
            " 10  Per_Sqft     1018 non-null   float64\n",
            "dtypes: float64(4), int64(2), object(5)\n",
            "memory usage: 108.3+ KB\n"
          ]
        }
      ]
    },
    {
      "cell_type": "code",
      "source": [
        "#Removing  unnecessary column\n",
        "house_df = house_df[['Area', 'BHK', 'Bathroom', 'Furnishing', 'Parking', 'Price', 'Status',\n",
        "       'Transaction', 'Type', 'Per_Sqft']]"
      ],
      "metadata": {
        "id": "2QgENyO-3Lio"
      },
      "execution_count": 1036,
      "outputs": []
    },
    {
      "cell_type": "code",
      "source": [
        "house_df.columns"
      ],
      "metadata": {
        "colab": {
          "base_uri": "https://localhost:8080/"
        },
        "id": "m8XUa5X86Hzl",
        "outputId": "d6e19491-5838-41dd-f4f2-d0a484dd2666"
      },
      "execution_count": 1037,
      "outputs": [
        {
          "output_type": "execute_result",
          "data": {
            "text/plain": [
              "Index(['Area', 'BHK', 'Bathroom', 'Furnishing', 'Parking', 'Price', 'Status',\n",
              "       'Transaction', 'Type', 'Per_Sqft'],\n",
              "      dtype='object')"
            ]
          },
          "metadata": {},
          "execution_count": 1037
        }
      ]
    },
    {
      "cell_type": "markdown",
      "source": [
        "# **handelling null values**\n"
      ],
      "metadata": {
        "id": "7C4-3bT5iJB8"
      }
    },
    {
      "cell_type": "code",
      "source": [
        "# Furnishing\n",
        "house_df['Furnishing'].mode()"
      ],
      "metadata": {
        "colab": {
          "base_uri": "https://localhost:8080/"
        },
        "id": "XQXKGry9hM8d",
        "outputId": "202c028e-41f9-489e-bb64-79eba944b956"
      },
      "execution_count": 1038,
      "outputs": [
        {
          "output_type": "execute_result",
          "data": {
            "text/plain": [
              "0    Semi-Furnished\n",
              "Name: Furnishing, dtype: object"
            ]
          },
          "metadata": {},
          "execution_count": 1038
        }
      ]
    },
    {
      "cell_type": "code",
      "source": [
        "#replacing null value with most occured value mode\n",
        "house_df['Furnishing'].fillna(value = 'Semi-Furnished',inplace = True)"
      ],
      "metadata": {
        "colab": {
          "base_uri": "https://localhost:8080/"
        },
        "id": "gvJjEh6xgsX2",
        "outputId": "4e8d3efd-c161-4e12-e5d1-0546bc8595de"
      },
      "execution_count": 1039,
      "outputs": [
        {
          "output_type": "stream",
          "name": "stderr",
          "text": [
            "<ipython-input-1039-b60d8933b070>:2: SettingWithCopyWarning: \n",
            "A value is trying to be set on a copy of a slice from a DataFrame\n",
            "\n",
            "See the caveats in the documentation: https://pandas.pydata.org/pandas-docs/stable/user_guide/indexing.html#returning-a-view-versus-a-copy\n",
            "  house_df['Furnishing'].fillna(value = 'Semi-Furnished',inplace = True)\n"
          ]
        }
      ]
    },
    {
      "cell_type": "code",
      "source": [
        "house_df['Furnishing'].unique()"
      ],
      "metadata": {
        "colab": {
          "base_uri": "https://localhost:8080/"
        },
        "id": "AaRHC-H1gMBP",
        "outputId": "b090b76c-7ca8-4d06-d45f-b95f39372ddd"
      },
      "execution_count": 1040,
      "outputs": [
        {
          "output_type": "execute_result",
          "data": {
            "text/plain": [
              "array(['Semi-Furnished', 'Furnished', 'Unfurnished'], dtype=object)"
            ]
          },
          "metadata": {},
          "execution_count": 1040
        }
      ]
    },
    {
      "cell_type": "code",
      "source": [
        "#Bathroom\n",
        "house_df['Bathroom'].mode()\n"
      ],
      "metadata": {
        "colab": {
          "base_uri": "https://localhost:8080/"
        },
        "id": "ftTCRa8h2L-O",
        "outputId": "d37b01fb-eaa8-4c7e-8ef9-ad4f40341a25"
      },
      "execution_count": 1041,
      "outputs": [
        {
          "output_type": "execute_result",
          "data": {
            "text/plain": [
              "0    2.0\n",
              "Name: Bathroom, dtype: float64"
            ]
          },
          "metadata": {},
          "execution_count": 1041
        }
      ]
    },
    {
      "cell_type": "code",
      "source": [
        "#replacing null value with most occured value mode\n",
        "house_df['Bathroom'].fillna(value = 2.0,inplace = True)"
      ],
      "metadata": {
        "colab": {
          "base_uri": "https://localhost:8080/"
        },
        "id": "eLjDkeF-i5CZ",
        "outputId": "eeadfc8f-ac2d-41ef-d0d1-83e4c04cd25b"
      },
      "execution_count": 1042,
      "outputs": [
        {
          "output_type": "stream",
          "name": "stderr",
          "text": [
            "<ipython-input-1042-45d6f0671ab5>:2: SettingWithCopyWarning: \n",
            "A value is trying to be set on a copy of a slice from a DataFrame\n",
            "\n",
            "See the caveats in the documentation: https://pandas.pydata.org/pandas-docs/stable/user_guide/indexing.html#returning-a-view-versus-a-copy\n",
            "  house_df['Bathroom'].fillna(value = 2.0,inplace = True)\n"
          ]
        }
      ]
    },
    {
      "cell_type": "code",
      "source": [
        "#Parking\n",
        "house_df['Parking'].mean()"
      ],
      "metadata": {
        "colab": {
          "base_uri": "https://localhost:8080/"
        },
        "id": "k71tO6dBtT6A",
        "outputId": "3630512d-436e-47ff-f75f-d92be20022fa"
      },
      "execution_count": 1043,
      "outputs": [
        {
          "output_type": "execute_result",
          "data": {
            "text/plain": [
              "1.935562805872757"
            ]
          },
          "metadata": {},
          "execution_count": 1043
        }
      ]
    },
    {
      "cell_type": "code",
      "source": [
        "house_df['Parking'].fillna(value = 2.0,inplace = True)"
      ],
      "metadata": {
        "colab": {
          "base_uri": "https://localhost:8080/"
        },
        "id": "nzl_Oj3otgMO",
        "outputId": "ffec1ba8-44ed-4dcd-eacc-9ca62434102f"
      },
      "execution_count": 1044,
      "outputs": [
        {
          "output_type": "stream",
          "name": "stderr",
          "text": [
            "<ipython-input-1044-f2adb8785e74>:1: SettingWithCopyWarning: \n",
            "A value is trying to be set on a copy of a slice from a DataFrame\n",
            "\n",
            "See the caveats in the documentation: https://pandas.pydata.org/pandas-docs/stable/user_guide/indexing.html#returning-a-view-versus-a-copy\n",
            "  house_df['Parking'].fillna(value = 2.0,inplace = True)\n"
          ]
        }
      ]
    },
    {
      "cell_type": "code",
      "source": [
        "#Type\n",
        "house_df['Type'].unique()\n"
      ],
      "metadata": {
        "colab": {
          "base_uri": "https://localhost:8080/"
        },
        "id": "ZHotxWyujI6h",
        "outputId": "59addb07-dbb5-43f0-f54f-fba8c71fc5e4"
      },
      "execution_count": 1045,
      "outputs": [
        {
          "output_type": "execute_result",
          "data": {
            "text/plain": [
              "array(['Builder_Floor', 'Apartment', nan], dtype=object)"
            ]
          },
          "metadata": {},
          "execution_count": 1045
        }
      ]
    },
    {
      "cell_type": "code",
      "source": [
        "house_df['Type'].fillna(value = 'Builder_Floor',inplace = True)"
      ],
      "metadata": {
        "colab": {
          "base_uri": "https://localhost:8080/"
        },
        "id": "OgDxrKzKjQTr",
        "outputId": "8677ed6d-583a-41ae-86dd-bfc98dc4f03c"
      },
      "execution_count": 1046,
      "outputs": [
        {
          "output_type": "stream",
          "name": "stderr",
          "text": [
            "<ipython-input-1046-7e8b35d4470a>:1: SettingWithCopyWarning: \n",
            "A value is trying to be set on a copy of a slice from a DataFrame\n",
            "\n",
            "See the caveats in the documentation: https://pandas.pydata.org/pandas-docs/stable/user_guide/indexing.html#returning-a-view-versus-a-copy\n",
            "  house_df['Type'].fillna(value = 'Builder_Floor',inplace = True)\n"
          ]
        }
      ]
    },
    {
      "cell_type": "code",
      "source": [
        "# checking null values\n",
        "house_df['Per_Sqft'].isna().sum()"
      ],
      "metadata": {
        "colab": {
          "base_uri": "https://localhost:8080/"
        },
        "id": "g127R01g3UTW",
        "outputId": "cc88a015-4e18-4abd-f9a6-c32515ed6ad9"
      },
      "execution_count": 1047,
      "outputs": [
        {
          "output_type": "execute_result",
          "data": {
            "text/plain": [
              "241"
            ]
          },
          "metadata": {},
          "execution_count": 1047
        }
      ]
    },
    {
      "cell_type": "code",
      "source": [
        "#handelling null values by replacing with mean\n",
        "house_df['Per_Sqft'].fillna(value =house_df['Per_Sqft'].mean(),inplace = True )"
      ],
      "metadata": {
        "id": "DdW7o1wz4I9L"
      },
      "execution_count": 1048,
      "outputs": []
    },
    {
      "cell_type": "code",
      "source": [
        "# checking null values\n",
        "house_df['Price'].isna().sum()"
      ],
      "metadata": {
        "colab": {
          "base_uri": "https://localhost:8080/"
        },
        "id": "vLR7fyyc4DnA",
        "outputId": "fc6b8261-b8a0-4b8f-8c55-743acb2d577b"
      },
      "execution_count": 1049,
      "outputs": [
        {
          "output_type": "execute_result",
          "data": {
            "text/plain": [
              "0"
            ]
          },
          "metadata": {},
          "execution_count": 1049
        }
      ]
    },
    {
      "cell_type": "code",
      "source": [
        "#Transaction\n",
        "house_df['Transaction'].mode()\n"
      ],
      "metadata": {
        "colab": {
          "base_uri": "https://localhost:8080/"
        },
        "id": "K4wnE5LFkJ9W",
        "outputId": "018c6edb-d46f-4f79-e37c-f1869920a31e"
      },
      "execution_count": 1050,
      "outputs": [
        {
          "output_type": "execute_result",
          "data": {
            "text/plain": [
              "0    Resale\n",
              "Name: Transaction, dtype: object"
            ]
          },
          "metadata": {},
          "execution_count": 1050
        }
      ]
    },
    {
      "cell_type": "code",
      "source": [
        "#replacing null value with most occured value mode\n",
        "house_df['Transaction'].fillna(value ='Resale',inplace = True )"
      ],
      "metadata": {
        "id": "XdeHpnffkJ6I"
      },
      "execution_count": 1051,
      "outputs": []
    },
    {
      "cell_type": "markdown",
      "source": [
        "# **Scaling**"
      ],
      "metadata": {
        "id": "Lq31GJ3nxkAA"
      }
    },
    {
      "cell_type": "code",
      "source": [
        "from sklearn.preprocessing import MinMaxScaler\n",
        "\n",
        "# Assuming df is your DataFrame and you want to scale certain columns\n",
        "columns_to_scale = ['Area', 'BHK', 'Bathroom', 'Parking','Per_Sqft','Price']\n",
        "\n",
        "# Create a StandardScaler instance\n",
        "scaler = MinMaxScaler()\n",
        "\n",
        "# Fit the scaler on the selected columns and transform the data\n",
        "house_df[columns_to_scale] = scaler.fit_transform(house_df[columns_to_scale])"
      ],
      "metadata": {
        "id": "VdA-c4Bjxq29"
      },
      "execution_count": 1052,
      "outputs": []
    },
    {
      "cell_type": "code",
      "source": [
        "house_df.head(2)"
      ],
      "metadata": {
        "colab": {
          "base_uri": "https://localhost:8080/",
          "height": 112
        },
        "id": "SZVXWBR7yQou",
        "outputId": "db30fa51-bbc6-4dc6-f830-7f374b1a2339"
      },
      "execution_count": 1053,
      "outputs": [
        {
          "output_type": "execute_result",
          "data": {
            "text/plain": [
              "       Area       BHK  Bathroom      Furnishing  Parking     Price  \\\n",
              "0  0.031806  0.222222  0.166667  Semi-Furnished      0.0  0.023013   \n",
              "1  0.029746  0.111111  0.166667  Semi-Furnished      0.0  0.016736   \n",
              "\n",
              "          Status   Transaction           Type  Per_Sqft  \n",
              "0  Ready_to_move  New_Property  Builder_Floor  0.079260  \n",
              "1  Ready_to_move  New_Property      Apartment  0.029702  "
            ],
            "text/html": [
              "\n",
              "  <div id=\"df-deec13e8-407f-4517-85e9-d4c039f0d0a1\" class=\"colab-df-container\">\n",
              "    <div>\n",
              "<style scoped>\n",
              "    .dataframe tbody tr th:only-of-type {\n",
              "        vertical-align: middle;\n",
              "    }\n",
              "\n",
              "    .dataframe tbody tr th {\n",
              "        vertical-align: top;\n",
              "    }\n",
              "\n",
              "    .dataframe thead th {\n",
              "        text-align: right;\n",
              "    }\n",
              "</style>\n",
              "<table border=\"1\" class=\"dataframe\">\n",
              "  <thead>\n",
              "    <tr style=\"text-align: right;\">\n",
              "      <th></th>\n",
              "      <th>Area</th>\n",
              "      <th>BHK</th>\n",
              "      <th>Bathroom</th>\n",
              "      <th>Furnishing</th>\n",
              "      <th>Parking</th>\n",
              "      <th>Price</th>\n",
              "      <th>Status</th>\n",
              "      <th>Transaction</th>\n",
              "      <th>Type</th>\n",
              "      <th>Per_Sqft</th>\n",
              "    </tr>\n",
              "  </thead>\n",
              "  <tbody>\n",
              "    <tr>\n",
              "      <th>0</th>\n",
              "      <td>0.031806</td>\n",
              "      <td>0.222222</td>\n",
              "      <td>0.166667</td>\n",
              "      <td>Semi-Furnished</td>\n",
              "      <td>0.0</td>\n",
              "      <td>0.023013</td>\n",
              "      <td>Ready_to_move</td>\n",
              "      <td>New_Property</td>\n",
              "      <td>Builder_Floor</td>\n",
              "      <td>0.079260</td>\n",
              "    </tr>\n",
              "    <tr>\n",
              "      <th>1</th>\n",
              "      <td>0.029746</td>\n",
              "      <td>0.111111</td>\n",
              "      <td>0.166667</td>\n",
              "      <td>Semi-Furnished</td>\n",
              "      <td>0.0</td>\n",
              "      <td>0.016736</td>\n",
              "      <td>Ready_to_move</td>\n",
              "      <td>New_Property</td>\n",
              "      <td>Apartment</td>\n",
              "      <td>0.029702</td>\n",
              "    </tr>\n",
              "  </tbody>\n",
              "</table>\n",
              "</div>\n",
              "    <div class=\"colab-df-buttons\">\n",
              "\n",
              "  <div class=\"colab-df-container\">\n",
              "    <button class=\"colab-df-convert\" onclick=\"convertToInteractive('df-deec13e8-407f-4517-85e9-d4c039f0d0a1')\"\n",
              "            title=\"Convert this dataframe to an interactive table.\"\n",
              "            style=\"display:none;\">\n",
              "\n",
              "  <svg xmlns=\"http://www.w3.org/2000/svg\" height=\"24px\" viewBox=\"0 -960 960 960\">\n",
              "    <path d=\"M120-120v-720h720v720H120Zm60-500h600v-160H180v160Zm220 220h160v-160H400v160Zm0 220h160v-160H400v160ZM180-400h160v-160H180v160Zm440 0h160v-160H620v160ZM180-180h160v-160H180v160Zm440 0h160v-160H620v160Z\"/>\n",
              "  </svg>\n",
              "    </button>\n",
              "\n",
              "  <style>\n",
              "    .colab-df-container {\n",
              "      display:flex;\n",
              "      gap: 12px;\n",
              "    }\n",
              "\n",
              "    .colab-df-convert {\n",
              "      background-color: #E8F0FE;\n",
              "      border: none;\n",
              "      border-radius: 50%;\n",
              "      cursor: pointer;\n",
              "      display: none;\n",
              "      fill: #1967D2;\n",
              "      height: 32px;\n",
              "      padding: 0 0 0 0;\n",
              "      width: 32px;\n",
              "    }\n",
              "\n",
              "    .colab-df-convert:hover {\n",
              "      background-color: #E2EBFA;\n",
              "      box-shadow: 0px 1px 2px rgba(60, 64, 67, 0.3), 0px 1px 3px 1px rgba(60, 64, 67, 0.15);\n",
              "      fill: #174EA6;\n",
              "    }\n",
              "\n",
              "    .colab-df-buttons div {\n",
              "      margin-bottom: 4px;\n",
              "    }\n",
              "\n",
              "    [theme=dark] .colab-df-convert {\n",
              "      background-color: #3B4455;\n",
              "      fill: #D2E3FC;\n",
              "    }\n",
              "\n",
              "    [theme=dark] .colab-df-convert:hover {\n",
              "      background-color: #434B5C;\n",
              "      box-shadow: 0px 1px 3px 1px rgba(0, 0, 0, 0.15);\n",
              "      filter: drop-shadow(0px 1px 2px rgba(0, 0, 0, 0.3));\n",
              "      fill: #FFFFFF;\n",
              "    }\n",
              "  </style>\n",
              "\n",
              "    <script>\n",
              "      const buttonEl =\n",
              "        document.querySelector('#df-deec13e8-407f-4517-85e9-d4c039f0d0a1 button.colab-df-convert');\n",
              "      buttonEl.style.display =\n",
              "        google.colab.kernel.accessAllowed ? 'block' : 'none';\n",
              "\n",
              "      async function convertToInteractive(key) {\n",
              "        const element = document.querySelector('#df-deec13e8-407f-4517-85e9-d4c039f0d0a1');\n",
              "        const dataTable =\n",
              "          await google.colab.kernel.invokeFunction('convertToInteractive',\n",
              "                                                    [key], {});\n",
              "        if (!dataTable) return;\n",
              "\n",
              "        const docLinkHtml = 'Like what you see? Visit the ' +\n",
              "          '<a target=\"_blank\" href=https://colab.research.google.com/notebooks/data_table.ipynb>data table notebook</a>'\n",
              "          + ' to learn more about interactive tables.';\n",
              "        element.innerHTML = '';\n",
              "        dataTable['output_type'] = 'display_data';\n",
              "        await google.colab.output.renderOutput(dataTable, element);\n",
              "        const docLink = document.createElement('div');\n",
              "        docLink.innerHTML = docLinkHtml;\n",
              "        element.appendChild(docLink);\n",
              "      }\n",
              "    </script>\n",
              "  </div>\n",
              "\n",
              "\n",
              "<div id=\"df-6f59d941-0714-4f96-a2a7-9e43ab11b65a\">\n",
              "  <button class=\"colab-df-quickchart\" onclick=\"quickchart('df-6f59d941-0714-4f96-a2a7-9e43ab11b65a')\"\n",
              "            title=\"Suggest charts\"\n",
              "            style=\"display:none;\">\n",
              "\n",
              "<svg xmlns=\"http://www.w3.org/2000/svg\" height=\"24px\"viewBox=\"0 0 24 24\"\n",
              "     width=\"24px\">\n",
              "    <g>\n",
              "        <path d=\"M19 3H5c-1.1 0-2 .9-2 2v14c0 1.1.9 2 2 2h14c1.1 0 2-.9 2-2V5c0-1.1-.9-2-2-2zM9 17H7v-7h2v7zm4 0h-2V7h2v10zm4 0h-2v-4h2v4z\"/>\n",
              "    </g>\n",
              "</svg>\n",
              "  </button>\n",
              "\n",
              "<style>\n",
              "  .colab-df-quickchart {\n",
              "      --bg-color: #E8F0FE;\n",
              "      --fill-color: #1967D2;\n",
              "      --hover-bg-color: #E2EBFA;\n",
              "      --hover-fill-color: #174EA6;\n",
              "      --disabled-fill-color: #AAA;\n",
              "      --disabled-bg-color: #DDD;\n",
              "  }\n",
              "\n",
              "  [theme=dark] .colab-df-quickchart {\n",
              "      --bg-color: #3B4455;\n",
              "      --fill-color: #D2E3FC;\n",
              "      --hover-bg-color: #434B5C;\n",
              "      --hover-fill-color: #FFFFFF;\n",
              "      --disabled-bg-color: #3B4455;\n",
              "      --disabled-fill-color: #666;\n",
              "  }\n",
              "\n",
              "  .colab-df-quickchart {\n",
              "    background-color: var(--bg-color);\n",
              "    border: none;\n",
              "    border-radius: 50%;\n",
              "    cursor: pointer;\n",
              "    display: none;\n",
              "    fill: var(--fill-color);\n",
              "    height: 32px;\n",
              "    padding: 0;\n",
              "    width: 32px;\n",
              "  }\n",
              "\n",
              "  .colab-df-quickchart:hover {\n",
              "    background-color: var(--hover-bg-color);\n",
              "    box-shadow: 0 1px 2px rgba(60, 64, 67, 0.3), 0 1px 3px 1px rgba(60, 64, 67, 0.15);\n",
              "    fill: var(--button-hover-fill-color);\n",
              "  }\n",
              "\n",
              "  .colab-df-quickchart-complete:disabled,\n",
              "  .colab-df-quickchart-complete:disabled:hover {\n",
              "    background-color: var(--disabled-bg-color);\n",
              "    fill: var(--disabled-fill-color);\n",
              "    box-shadow: none;\n",
              "  }\n",
              "\n",
              "  .colab-df-spinner {\n",
              "    border: 2px solid var(--fill-color);\n",
              "    border-color: transparent;\n",
              "    border-bottom-color: var(--fill-color);\n",
              "    animation:\n",
              "      spin 1s steps(1) infinite;\n",
              "  }\n",
              "\n",
              "  @keyframes spin {\n",
              "    0% {\n",
              "      border-color: transparent;\n",
              "      border-bottom-color: var(--fill-color);\n",
              "      border-left-color: var(--fill-color);\n",
              "    }\n",
              "    20% {\n",
              "      border-color: transparent;\n",
              "      border-left-color: var(--fill-color);\n",
              "      border-top-color: var(--fill-color);\n",
              "    }\n",
              "    30% {\n",
              "      border-color: transparent;\n",
              "      border-left-color: var(--fill-color);\n",
              "      border-top-color: var(--fill-color);\n",
              "      border-right-color: var(--fill-color);\n",
              "    }\n",
              "    40% {\n",
              "      border-color: transparent;\n",
              "      border-right-color: var(--fill-color);\n",
              "      border-top-color: var(--fill-color);\n",
              "    }\n",
              "    60% {\n",
              "      border-color: transparent;\n",
              "      border-right-color: var(--fill-color);\n",
              "    }\n",
              "    80% {\n",
              "      border-color: transparent;\n",
              "      border-right-color: var(--fill-color);\n",
              "      border-bottom-color: var(--fill-color);\n",
              "    }\n",
              "    90% {\n",
              "      border-color: transparent;\n",
              "      border-bottom-color: var(--fill-color);\n",
              "    }\n",
              "  }\n",
              "</style>\n",
              "\n",
              "  <script>\n",
              "    async function quickchart(key) {\n",
              "      const quickchartButtonEl =\n",
              "        document.querySelector('#' + key + ' button');\n",
              "      quickchartButtonEl.disabled = true;  // To prevent multiple clicks.\n",
              "      quickchartButtonEl.classList.add('colab-df-spinner');\n",
              "      try {\n",
              "        const charts = await google.colab.kernel.invokeFunction(\n",
              "            'suggestCharts', [key], {});\n",
              "      } catch (error) {\n",
              "        console.error('Error during call to suggestCharts:', error);\n",
              "      }\n",
              "      quickchartButtonEl.classList.remove('colab-df-spinner');\n",
              "      quickchartButtonEl.classList.add('colab-df-quickchart-complete');\n",
              "    }\n",
              "    (() => {\n",
              "      let quickchartButtonEl =\n",
              "        document.querySelector('#df-6f59d941-0714-4f96-a2a7-9e43ab11b65a button');\n",
              "      quickchartButtonEl.style.display =\n",
              "        google.colab.kernel.accessAllowed ? 'block' : 'none';\n",
              "    })();\n",
              "  </script>\n",
              "</div>\n",
              "\n",
              "    </div>\n",
              "  </div>\n"
            ],
            "application/vnd.google.colaboratory.intrinsic+json": {
              "type": "dataframe",
              "variable_name": "house_df",
              "summary": "{\n  \"name\": \"house_df\",\n  \"rows\": 1259,\n  \"fields\": [\n    {\n      \"column\": \"Area\",\n      \"properties\": {\n        \"dtype\": \"number\",\n        \"std\": 0.06460345419904363,\n        \"min\": 0.0,\n        \"max\": 1.0,\n        \"num_unique_values\": 315,\n        \"samples\": [\n          0.10398813447593935,\n          0.06476598549769282,\n          0.05034607778510217\n        ],\n        \"semantic_type\": \"\",\n        \"description\": \"\"\n      }\n    },\n    {\n      \"column\": \"BHK\",\n      \"properties\": {\n        \"dtype\": \"number\",\n        \"std\": 0.10604720933372475,\n        \"min\": 0.0,\n        \"max\": 1.0,\n        \"num_unique_values\": 8,\n        \"samples\": [\n          0.1111111111111111,\n          0.4444444444444445,\n          0.2222222222222222\n        ],\n        \"semantic_type\": \"\",\n        \"description\": \"\"\n      }\n    },\n    {\n      \"column\": \"Bathroom\",\n      \"properties\": {\n        \"dtype\": \"number\",\n        \"std\": 0.1736045012708646,\n        \"min\": 0.0,\n        \"max\": 0.9999999999999999,\n        \"num_unique_values\": 7,\n        \"samples\": [\n          0.16666666666666666,\n          0.33333333333333337,\n          0.8333333333333334\n        ],\n        \"semantic_type\": \"\",\n        \"description\": \"\"\n      }\n    },\n    {\n      \"column\": \"Furnishing\",\n      \"properties\": {\n        \"dtype\": \"category\",\n        \"num_unique_values\": 3,\n        \"samples\": [\n          \"Semi-Furnished\",\n          \"Furnished\",\n          \"Unfurnished\"\n        ],\n        \"semantic_type\": \"\",\n        \"description\": \"\"\n      }\n    },\n    {\n      \"column\": \"Parking\",\n      \"properties\": {\n        \"dtype\": \"number\",\n        \"std\": 0.05483463969441878,\n        \"min\": 0.0,\n        \"max\": 1.0,\n        \"num_unique_values\": 9,\n        \"samples\": [\n          0.07964601769911504,\n          0.035398230088495575,\n          0.017699115044247787\n        ],\n        \"semantic_type\": \"\",\n        \"description\": \"\"\n      }\n    },\n    {\n      \"column\": \"Price\",\n      \"properties\": {\n        \"dtype\": \"number\",\n        \"std\": 0.10711780136309543,\n        \"min\": 0.0,\n        \"max\": 1.0,\n        \"num_unique_values\": 284,\n        \"samples\": [\n          0.028033472803347285,\n          0.03158995815899582,\n          0.019246861924686193\n        ],\n        \"semantic_type\": \"\",\n        \"description\": \"\"\n      }\n    },\n    {\n      \"column\": \"Status\",\n      \"properties\": {\n        \"dtype\": \"category\",\n        \"num_unique_values\": 2,\n        \"samples\": [\n          \"Almost_ready\",\n          \"Ready_to_move\"\n        ],\n        \"semantic_type\": \"\",\n        \"description\": \"\"\n      }\n    },\n    {\n      \"column\": \"Transaction\",\n      \"properties\": {\n        \"dtype\": \"category\",\n        \"num_unique_values\": 2,\n        \"samples\": [\n          \"Resale\",\n          \"New_Property\"\n        ],\n        \"semantic_type\": \"\",\n        \"description\": \"\"\n      }\n    },\n    {\n      \"column\": \"Type\",\n      \"properties\": {\n        \"dtype\": \"category\",\n        \"num_unique_values\": 2,\n        \"samples\": [\n          \"Apartment\",\n          \"Builder_Floor\"\n        ],\n        \"semantic_type\": \"\",\n        \"description\": \"\"\n      }\n    },\n    {\n      \"column\": \"Per_Sqft\",\n      \"properties\": {\n        \"dtype\": \"number\",\n        \"std\": 0.10436841849648416,\n        \"min\": 0.0,\n        \"max\": 1.0,\n        \"num_unique_values\": 252,\n        \"samples\": [\n          0.011176774278590023,\n          0.07241561123499236\n        ],\n        \"semantic_type\": \"\",\n        \"description\": \"\"\n      }\n    }\n  ]\n}"
            }
          },
          "metadata": {},
          "execution_count": 1053
        }
      ]
    },
    {
      "cell_type": "code",
      "source": [
        "#creatig a function to detect outliers by IQR method\n",
        "def outliers(df,column):\n",
        "     Q1 = df[column].quantile(0.25) # First quartile\n",
        "     Q3 = df[column].quantile(0.75) # Third Quartile\n",
        "\n",
        "# interquartile range (IQR)\n",
        "     IQR = Q3 - Q1\n",
        "\n",
        "# lower and upper bounds for outliers\n",
        "     lower_bound = Q1 - 1.5 * IQR\n",
        "     upper_bound = Q3 + 1.5 * IQR\n",
        "\n",
        "# values greater than upper bound and values less than lower bond is an outlier\n",
        "     outliers_count = ((df[column] < lower_bound) | (df[column] > upper_bound)).sum()\n",
        "     result = print( 'outliers count ' , outliers_count,'lower bound ' , lower_bound, 'upper bound' ,upper_bound)\n",
        "     return result\n"
      ],
      "metadata": {
        "id": "_pRK8H0-5-ve"
      },
      "execution_count": 1054,
      "outputs": []
    },
    {
      "cell_type": "code",
      "source": [
        "#plotting box plot to see outliers\n",
        "abc = house_df[['Area', 'BHK', 'Bathroom', 'Parking','Per_Sqft']]\n",
        "plt.figure(figsize=(12, 6))\n",
        "abc.boxplot()\n",
        "plt.title('Box plot for each column')\n",
        "plt.xticks(rotation=45)\n",
        "plt.show()\n",
        "\n"
      ],
      "metadata": {
        "colab": {
          "base_uri": "https://localhost:8080/",
          "height": 589
        },
        "id": "KGk_q5OYvNUT",
        "outputId": "6b84a5bc-1986-4777-c51e-4cfe64f1251c"
      },
      "execution_count": 1055,
      "outputs": [
        {
          "output_type": "display_data",
          "data": {
            "text/plain": [
              "<Figure size 1200x600 with 1 Axes>"
            ],
            "image/png": "[encoded data removed]"
          },
          "metadata": {}
        }
      ]
    },
    {
      "cell_type": "code",
      "source": [
        "#count of outliers and upper and lower bond value\n",
        "outliers(house_df,'Area')\n",
        "outliers(house_df,'BHK')\n",
        "outliers(house_df,'Bathroom')\n",
        "outliers(house_df,'Parking')"
      ],
      "metadata": {
        "colab": {
          "base_uri": "https://localhost:8080/"
        },
        "id": "nKpDYC6syuMI",
        "outputId": "935fbb7e-7c04-4ec3-8438-01e153b6501c"
      },
      "execution_count": 1056,
      "outputs": [
        {
          "output_type": "stream",
          "name": "stdout",
          "text": [
            "outliers count  67 lower bound  -0.023813447593935395 upper bound 0.12450560316413974\n",
            "outliers count  35 lower bound  -0.05555555555555555 upper bound 0.38888888888888884\n",
            "outliers count  67 lower bound  -0.0833333333333334 upper bound 0.5833333333333335\n",
            "outliers count  35 lower bound  -0.01327433628318584 upper bound 0.022123893805309734\n"
          ]
        }
      ]
    },
    {
      "cell_type": "code",
      "source": [
        "def remove_outliers(data, colm):\n",
        "    q1 = data[colm].quantile(0.25)\n",
        "    q3 = data[colm].quantile(0.75)\n",
        "    IQR = q3 - q1\n",
        "    lower_bound = q1 - 1.5 * IQR\n",
        "    upper_bound = q3 + 1.5 * IQR\n",
        "    data = data[(data[colm] >= lower_bound) & (data[colm] <= upper_bound)]\n",
        "    return data\n"
      ],
      "metadata": {
        "id": "oD2NMcfQnBs1"
      },
      "execution_count": 1057,
      "outputs": []
    },
    {
      "cell_type": "code",
      "source": [
        "house_df = remove_outliers(house_df,'Bathroom')\n",
        "house_df = remove_outliers(house_df,'Area')\n",
        "house_df = remove_outliers(house_df,'Parking')\n",
        "house_df = remove_outliers(house_df,'BHK')\n",
        "house_df = remove_outliers(house_df,'Per_Sqft')\n",
        "\n",
        "house_df = remove_outliers(house_df,'Bathroom')\n",
        "house_df = remove_outliers(house_df,'Area')\n",
        "house_df = remove_outliers(house_df,'Parking')\n",
        "house_df = remove_outliers(house_df,'BHK')\n",
        "house_df = remove_outliers(house_df,'Per_Sqft')"
      ],
      "metadata": {
        "id": "pl7eKjk5lUhy"
      },
      "execution_count": 1058,
      "outputs": []
    },
    {
      "cell_type": "code",
      "source": [
        "house_df.info()"
      ],
      "metadata": {
        "colab": {
          "base_uri": "https://localhost:8080/"
        },
        "id": "EYyBrMiEl2AY",
        "outputId": "df503ba0-77c7-4796-8f64-66d8904e18b4"
      },
      "execution_count": 1059,
      "outputs": [
        {
          "output_type": "stream",
          "name": "stdout",
          "text": [
            "<class 'pandas.core.frame.DataFrame'>\n",
            "Int64Index: 1039 entries, 0 to 1257\n",
            "Data columns (total 10 columns):\n",
            " #   Column       Non-Null Count  Dtype  \n",
            "---  ------       --------------  -----  \n",
            " 0   Area         1039 non-null   float64\n",
            " 1   BHK          1039 non-null   float64\n",
            " 2   Bathroom     1039 non-null   float64\n",
            " 3   Furnishing   1039 non-null   object \n",
            " 4   Parking      1039 non-null   float64\n",
            " 5   Price        1039 non-null   float64\n",
            " 6   Status       1039 non-null   object \n",
            " 7   Transaction  1039 non-null   object \n",
            " 8   Type         1039 non-null   object \n",
            " 9   Per_Sqft     1039 non-null   float64\n",
            "dtypes: float64(6), object(4)\n",
            "memory usage: 89.3+ KB\n"
          ]
        }
      ]
    },
    {
      "cell_type": "code",
      "source": [
        "#checking if outliers are removed or not\n",
        "abc = house_df[['Area', 'BHK', 'Bathroom', 'Parking','Per_Sqft']]\n",
        "plt.figure(figsize=(12, 6))  # Adjust figure size as needed\n",
        "abc.boxplot()\n",
        "plt.title('Box plot for each column')\n",
        "plt.xticks(rotation=45)  # Rotate x-axis labels for better readability\n",
        "plt.show()\n"
      ],
      "metadata": {
        "colab": {
          "base_uri": "https://localhost:8080/",
          "height": 589
        },
        "id": "b_bmGt99wPdj",
        "outputId": "fac46e6e-5827-44ec-a9a8-e59d14759dba"
      },
      "execution_count": 1060,
      "outputs": [
        {
          "output_type": "display_data",
          "data": {
            "text/plain": [
              "<Figure size 1200x600 with 1 Axes>"
            ],
            "image/png": "[encoded data removed]"
          },
          "metadata": {}
        }
      ]
    },
    {
      "cell_type": "code",
      "source": [
        "#splitting the data\n",
        "x = house_df.drop(columns = ['Price'])\n",
        "y = house_df['Price'].values"
      ],
      "metadata": {
        "id": "ggn0ADaAGDg1"
      },
      "execution_count": 1061,
      "outputs": []
    },
    {
      "cell_type": "code",
      "source": [
        "from sklearn.model_selection import train_test_split\n",
        "\n",
        "X_train, X_test , y_train , y_test  = train_test_split(x,y,test_size = 0.2,random_state = 42 )\n"
      ],
      "metadata": {
        "id": "vgMCE3JPJRI5"
      },
      "execution_count": 1062,
      "outputs": []
    },
    {
      "cell_type": "markdown",
      "source": [
        "# **Converting categorical column to numerical **"
      ],
      "metadata": {
        "id": "cfAvvjyCkEEf"
      }
    },
    {
      "cell_type": "code",
      "source": [
        "x.info()"
      ],
      "metadata": {
        "colab": {
          "base_uri": "https://localhost:8080/"
        },
        "id": "nclfUC_vmk3Y",
        "outputId": "744ccf3e-03ac-49e4-fb98-9f47106814d0"
      },
      "execution_count": 1063,
      "outputs": [
        {
          "output_type": "stream",
          "name": "stdout",
          "text": [
            "<class 'pandas.core.frame.DataFrame'>\n",
            "Int64Index: 1039 entries, 0 to 1257\n",
            "Data columns (total 9 columns):\n",
            " #   Column       Non-Null Count  Dtype  \n",
            "---  ------       --------------  -----  \n",
            " 0   Area         1039 non-null   float64\n",
            " 1   BHK          1039 non-null   float64\n",
            " 2   Bathroom     1039 non-null   float64\n",
            " 3   Furnishing   1039 non-null   object \n",
            " 4   Parking      1039 non-null   float64\n",
            " 5   Status       1039 non-null   object \n",
            " 6   Transaction  1039 non-null   object \n",
            " 7   Type         1039 non-null   object \n",
            " 8   Per_Sqft     1039 non-null   float64\n",
            "dtypes: float64(5), object(4)\n",
            "memory usage: 81.2+ KB\n"
          ]
        }
      ]
    },
    {
      "cell_type": "code",
      "source": [
        "x.columns"
      ],
      "metadata": {
        "colab": {
          "base_uri": "https://localhost:8080/"
        },
        "id": "RGGRxDRSmhA2",
        "outputId": "8dd1cdfa-d1dd-496f-9ef3-eedd63f801cc"
      },
      "execution_count": 1064,
      "outputs": [
        {
          "output_type": "execute_result",
          "data": {
            "text/plain": [
              "Index(['Area', 'BHK', 'Bathroom', 'Furnishing', 'Parking', 'Status',\n",
              "       'Transaction', 'Type', 'Per_Sqft'],\n",
              "      dtype='object')"
            ]
          },
          "metadata": {},
          "execution_count": 1064
        }
      ]
    },
    {
      "cell_type": "code",
      "source": [
        "from sklearn.preprocessing import OneHotEncoder\n",
        "ohe = OneHotEncoder(drop = 'first',sparse_output  = False, dtype = np.int32)"
      ],
      "metadata": {
        "id": "0g_OHNHGkKAy"
      },
      "execution_count": 1065,
      "outputs": []
    },
    {
      "cell_type": "code",
      "source": [
        "X_train_new = ohe.fit_transform(X_train[['Furnishing','Status','Transaction','Type']])\n",
        "X_test_new = ohe.fit_transform(X_test[['Furnishing','Status','Transaction','Type']])"
      ],
      "metadata": {
        "id": "XbmX6gO2mQBe"
      },
      "execution_count": 1066,
      "outputs": []
    },
    {
      "cell_type": "code",
      "source": [
        "a = np.hstack((X_train[['Area', 'BHK', 'Bathroom',  'Parking', 'Per_Sqft']].values,X_train_new))"
      ],
      "metadata": {
        "id": "nA6_AKcLqg9i"
      },
      "execution_count": 1067,
      "outputs": []
    },
    {
      "cell_type": "markdown",
      "source": [],
      "metadata": {
        "id": "EzZHLoFfsPeu"
      }
    },
    {
      "cell_type": "code",
      "source": [
        "import pandas as pd\n",
        "\n",
        "original_columns = ['Area', 'BHK', 'Bathroom', 'Parking',  'Per_Sqft']\n",
        "\n",
        "# Concatenate original features with encoded features\n",
        "combined_data = np.hstack((X_train[original_columns].values, X_train_new))\n",
        "combined_data1 = np.hstack((X_test[original_columns].values, X_test_new))\n",
        "\n",
        "# Column names for the combined DataFrame\n",
        "combined_columns = original_columns + list(ohe.get_feature_names_out(['Furnishing', 'Status', 'Transaction','Type']))\n",
        "combined_columns1 = original_columns + list(ohe.get_feature_names_out(['Furnishing', 'Status', 'Transaction','Type']))\n",
        "\n",
        "# Create DataFrame from combined data\n",
        "X_train_combined = pd.DataFrame(combined_data, columns=combined_columns)\n",
        "X_tets_combined = pd.DataFrame(combined_data1, columns=combined_columns1)\n",
        "\n",
        "\n"
      ],
      "metadata": {
        "id": "VCmR-Pl5rJZo"
      },
      "execution_count": 1068,
      "outputs": []
    },
    {
      "cell_type": "code",
      "source": [
        "from sklearn.metrics import mean_absolute_error, mean_squared_error, r2_score\n",
        "import numpy as np\n",
        "\n",
        "def regression_metrics(y_test, y_pred):\n",
        "\n",
        "    #Mean Absolute Error (MAE)\n",
        "    mae = mean_absolute_error(y_test, y_pred)\n",
        "\n",
        "    # Mean Squared Error (MSE)\n",
        "    mse = mean_squared_error(y_test, y_pred)\n",
        "\n",
        "    #Root Mean Squared Error (RMSE)\n",
        "    rmse = np.sqrt(mse)\n",
        "\n",
        "\n",
        "    # R^2 score\n",
        "    r2 = r2_score(y_test, y_pred)\n",
        "\n",
        "    metrics = {\n",
        "        'MAE': mae,\n",
        "        'MSE': mse,\n",
        "        'RMSE': rmse,\n",
        "        'R2': r2\n",
        "    }\n",
        "\n",
        "    return metrics\n"
      ],
      "metadata": {
        "id": "yIuGbsEtNpR6"
      },
      "execution_count": 1069,
      "outputs": []
    },
    {
      "cell_type": "code",
      "source": [
        "from sklearn.metrics import mean_absolute_error, mean_squared_error, r2_score\n",
        "\n",
        "from sklearn.linear_model import LinearRegression\n",
        "# Linear Regression\n",
        "model = LinearRegression()\n",
        "model.fit(X_train_combined, y_train)\n",
        "\n",
        "# Make predictions\n",
        "LR = model.predict(X_tets_combined)\n",
        "regression_metrics(y_test,LR)"
      ],
      "metadata": {
        "id": "zior5Ce4MYq2",
        "colab": {
          "base_uri": "https://localhost:8080/"
        },
        "outputId": "42f23ee7-4046-402a-f255-355c48184cd1"
      },
      "execution_count": 1070,
      "outputs": [
        {
          "output_type": "execute_result",
          "data": {
            "text/plain": [
              "{'MAE': 0.020415750336495876,\n",
              " 'MSE': 0.000779941506894155,\n",
              " 'RMSE': 0.027927432873326455,\n",
              " 'R2': 0.6847748791198642}"
            ]
          },
          "metadata": {},
          "execution_count": 1070
        }
      ]
    },
    {
      "cell_type": "code",
      "source": [
        "from sklearn.model_selection import GridSearchCV\n",
        "\n",
        "# Define the parameter grid\n",
        "param_grid = {\n",
        "    'max_depth': [None , 10, 20],\n",
        "    'min_samples_split': [2, 5, 10],\n",
        "    'min_samples_leaf': [1, 2, 4]\n",
        "}\n",
        "\n",
        "# Creating the grid search\n",
        "grid_search = GridSearchCV(DecisionTreeRegressor  (), param_grid, cv=5)\n",
        "grid_search.fit(X_train_combined, y_train)\n",
        "\n",
        "#best parameters\n",
        "best_params = grid_search.best_params_\n",
        "print(\"Best Hyperparameters:\", best_params)\n",
        "\n",
        "best_model = grid_search.best_estimator_\n"
      ],
      "metadata": {
        "colab": {
          "base_uri": "https://localhost:8080/"
        },
        "id": "GLbVgy7669QH",
        "outputId": "94fe3284-6201-41c4-f561-9ef3d439fc4a"
      },
      "execution_count": 1071,
      "outputs": [
        {
          "output_type": "stream",
          "name": "stdout",
          "text": [
            "Best Hyperparameters: {'max_depth': 10, 'min_samples_leaf': 2, 'min_samples_split': 10}\n"
          ]
        }
      ]
    },
    {
      "cell_type": "code",
      "source": [
        "# Decision Tree Regression\n",
        "model =DecisionTreeRegressor(max_depth =10,min_samples_split = 2,min_samples_leaf = 10)\n",
        "model.fit(X_train_combined, y_train)\n",
        "\n",
        "\n",
        "# Make predictions\n",
        "DT = model.predict(X_tets_combined)\n",
        "# Evaluate performance\n",
        "regression_metrics(y_test ,DT )"
      ],
      "metadata": {
        "colab": {
          "base_uri": "https://localhost:8080/"
        },
        "id": "jCFu2JndiBdl",
        "outputId": "8b2b25f1-497c-40da-aa4a-40c7c4edbaaa"
      },
      "execution_count": 1072,
      "outputs": [
        {
          "output_type": "execute_result",
          "data": {
            "text/plain": [
              "{'MAE': 0.016853061369195125,\n",
              " 'MSE': 0.000722171485757455,\n",
              " 'RMSE': 0.02687324851515825,\n",
              " 'R2': 0.7081235042861045}"
            ]
          },
          "metadata": {},
          "execution_count": 1072
        }
      ]
    },
    {
      "cell_type": "markdown",
      "source": [
        "#The model demonstrates  low errors (MAE, MSE, RMSE), indicating good accuracy in predicting the target variable.\n",
        "\n",
        "\n",
        "#R2 score indicates that the model explains approximately 70.8% of the variance in the target variable, suggesting a moderately good fit to the data."
      ],
      "metadata": {
        "id": "mgdJLuB_84SN"
      }
    }
  ]
}