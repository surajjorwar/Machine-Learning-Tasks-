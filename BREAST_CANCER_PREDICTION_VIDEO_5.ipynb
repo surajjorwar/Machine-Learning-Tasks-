{
  "nbformat": 4,
  "nbformat_minor": 0,
  "metadata": {
    "colab": {
      "provenance": [],
      "mount_file_id": "1r0aVrtYuCM_81rSYy4wArlw4mBCeeROo",
      "authorship_tag": "ABX9TyM71Zm+GZ11Nl8jgPzxARRS",
      "include_colab_link": true
    },
    "kernelspec": {
      "name": "python3",
      "display_name": "Python 3"
    },
    "language_info": {
      "name": "python"
    }
  },
  "cells": [
    {
      "cell_type": "markdown",
      "metadata": {
        "id": "view-in-github",
        "colab_type": "text"
      },
      "source": [
        "<a href=\"https://colab.research.google.com/github/surajjorwar/Machine-Learning-Tasks-/blob/main/BREAST_CANCER_PREDICTION_VIDEO_5.ipynb\" target=\"_parent\"><img src=\"https://colab.research.google.com/assets/colab-badge.svg\" alt=\"Open In Colab\"/></a>"
      ]
    },
    {
      "cell_type": "code",
      "execution_count": 47,
      "metadata": {
        "id": "_22j7edhR1Hd"
      },
      "outputs": [],
      "source": [
        "import pandas as pd\n",
        "import numpy as np\n",
        "import matplotlib.pyplot as plt\n",
        "import seaborn as sns\n",
        "\n",
        "\n",
        "from sklearn.ensemble import RandomForestClassifier\n",
        "from sklearn.linear_model import LogisticRegression\n",
        "from sklearn.preprocessing import OneHotEncoder\n",
        "from sklearn.model_selection import train_test_split\n",
        "from sklearn.metrics import accuracy_score, classification_report, confusion_matrix\n"
      ]
    },
    {
      "cell_type": "code",
      "source": [
        "#loading data set\n",
        "df = pd.read_csv('/content/drive/MyDrive/andrew ng /BREAST CANCER DATA/breast-cancer-dataset.csv')"
      ],
      "metadata": {
        "id": "tuK9_qv3VPlR"
      },
      "execution_count": 48,
      "outputs": []
    },
    {
      "cell_type": "code",
      "source": [
        "df.head()"
      ],
      "metadata": {
        "colab": {
          "base_uri": "https://localhost:8080/",
          "height": 206
        },
        "id": "wETP7A3-VpNN",
        "outputId": "3dc65d4a-1da9-47eb-8da4-e3aa61ec4769"
      },
      "execution_count": 49,
      "outputs": [
        {
          "output_type": "execute_result",
          "data": {
            "text/plain": [
              "   S/N  Year  Age  Menopause Tumor Size (cm) Inv-Nodes Breast Metastasis  \\\n",
              "0    1  2019   40          1               2         0  Right          0   \n",
              "1    2  2019   39          1               2         0   Left          0   \n",
              "2    3  2019   45          0               4         0   Left          0   \n",
              "3    4  2019   26          1               3         0   Left          0   \n",
              "4    5  2019   21          1               1         0  Right          0   \n",
              "\n",
              "  Breast Quadrant History Diagnosis Result  \n",
              "0     Upper inner       0           Benign  \n",
              "1     Upper outer       0           Benign  \n",
              "2     Lower outer       0           Benign  \n",
              "3     Lower inner       1           Benign  \n",
              "4     Upper outer       1           Benign  "
            ],
            "text/html": [
              "\n",
              "  <div id=\"df-926194d3-2535-49d9-82ad-e279f786b3b0\" class=\"colab-df-container\">\n",
              "    <div>\n",
              "<style scoped>\n",
              "    .dataframe tbody tr th:only-of-type {\n",
              "        vertical-align: middle;\n",
              "    }\n",
              "\n",
              "    .dataframe tbody tr th {\n",
              "        vertical-align: top;\n",
              "    }\n",
              "\n",
              "    .dataframe thead th {\n",
              "        text-align: right;\n",
              "    }\n",
              "</style>\n",
              "<table border=\"1\" class=\"dataframe\">\n",
              "  <thead>\n",
              "    <tr style=\"text-align: right;\">\n",
              "      <th></th>\n",
              "      <th>S/N</th>\n",
              "      <th>Year</th>\n",
              "      <th>Age</th>\n",
              "      <th>Menopause</th>\n",
              "      <th>Tumor Size (cm)</th>\n",
              "      <th>Inv-Nodes</th>\n",
              "      <th>Breast</th>\n",
              "      <th>Metastasis</th>\n",
              "      <th>Breast Quadrant</th>\n",
              "      <th>History</th>\n",
              "      <th>Diagnosis Result</th>\n",
              "    </tr>\n",
              "  </thead>\n",
              "  <tbody>\n",
              "    <tr>\n",
              "      <th>0</th>\n",
              "      <td>1</td>\n",
              "      <td>2019</td>\n",
              "      <td>40</td>\n",
              "      <td>1</td>\n",
              "      <td>2</td>\n",
              "      <td>0</td>\n",
              "      <td>Right</td>\n",
              "      <td>0</td>\n",
              "      <td>Upper inner</td>\n",
              "      <td>0</td>\n",
              "      <td>Benign</td>\n",
              "    </tr>\n",
              "    <tr>\n",
              "      <th>1</th>\n",
              "      <td>2</td>\n",
              "      <td>2019</td>\n",
              "      <td>39</td>\n",
              "      <td>1</td>\n",
              "      <td>2</td>\n",
              "      <td>0</td>\n",
              "      <td>Left</td>\n",
              "      <td>0</td>\n",
              "      <td>Upper outer</td>\n",
              "      <td>0</td>\n",
              "      <td>Benign</td>\n",
              "    </tr>\n",
              "    <tr>\n",
              "      <th>2</th>\n",
              "      <td>3</td>\n",
              "      <td>2019</td>\n",
              "      <td>45</td>\n",
              "      <td>0</td>\n",
              "      <td>4</td>\n",
              "      <td>0</td>\n",
              "      <td>Left</td>\n",
              "      <td>0</td>\n",
              "      <td>Lower outer</td>\n",
              "      <td>0</td>\n",
              "      <td>Benign</td>\n",
              "    </tr>\n",
              "    <tr>\n",
              "      <th>3</th>\n",
              "      <td>4</td>\n",
              "      <td>2019</td>\n",
              "      <td>26</td>\n",
              "      <td>1</td>\n",
              "      <td>3</td>\n",
              "      <td>0</td>\n",
              "      <td>Left</td>\n",
              "      <td>0</td>\n",
              "      <td>Lower inner</td>\n",
              "      <td>1</td>\n",
              "      <td>Benign</td>\n",
              "    </tr>\n",
              "    <tr>\n",
              "      <th>4</th>\n",
              "      <td>5</td>\n",
              "      <td>2019</td>\n",
              "      <td>21</td>\n",
              "      <td>1</td>\n",
              "      <td>1</td>\n",
              "      <td>0</td>\n",
              "      <td>Right</td>\n",
              "      <td>0</td>\n",
              "      <td>Upper outer</td>\n",
              "      <td>1</td>\n",
              "      <td>Benign</td>\n",
              "    </tr>\n",
              "  </tbody>\n",
              "</table>\n",
              "</div>\n",
              "    <div class=\"colab-df-buttons\">\n",
              "\n",
              "  <div class=\"colab-df-container\">\n",
              "    <button class=\"colab-df-convert\" onclick=\"convertToInteractive('df-926194d3-2535-49d9-82ad-e279f786b3b0')\"\n",
              "            title=\"Convert this dataframe to an interactive table.\"\n",
              "            style=\"display:none;\">\n",
              "\n",
              "  <svg xmlns=\"http://www.w3.org/2000/svg\" height=\"24px\" viewBox=\"0 -960 960 960\">\n",
              "    <path d=\"M120-120v-720h720v720H120Zm60-500h600v-160H180v160Zm220 220h160v-160H400v160Zm0 220h160v-160H400v160ZM180-400h160v-160H180v160Zm440 0h160v-160H620v160ZM180-180h160v-160H180v160Zm440 0h160v-160H620v160Z\"/>\n",
              "  </svg>\n",
              "    </button>\n",
              "\n",
              "  <style>\n",
              "    .colab-df-container {\n",
              "      display:flex;\n",
              "      gap: 12px;\n",
              "    }\n",
              "\n",
              "    .colab-df-convert {\n",
              "      background-color: #E8F0FE;\n",
              "      border: none;\n",
              "      border-radius: 50%;\n",
              "      cursor: pointer;\n",
              "      display: none;\n",
              "      fill: #1967D2;\n",
              "      height: 32px;\n",
              "      padding: 0 0 0 0;\n",
              "      width: 32px;\n",
              "    }\n",
              "\n",
              "    .colab-df-convert:hover {\n",
              "      background-color: #E2EBFA;\n",
              "      box-shadow: 0px 1px 2px rgba(60, 64, 67, 0.3), 0px 1px 3px 1px rgba(60, 64, 67, 0.15);\n",
              "      fill: #174EA6;\n",
              "    }\n",
              "\n",
              "    .colab-df-buttons div {\n",
              "      margin-bottom: 4px;\n",
              "    }\n",
              "\n",
              "    [theme=dark] .colab-df-convert {\n",
              "      background-color: #3B4455;\n",
              "      fill: #D2E3FC;\n",
              "    }\n",
              "\n",
              "    [theme=dark] .colab-df-convert:hover {\n",
              "      background-color: #434B5C;\n",
              "      box-shadow: 0px 1px 3px 1px rgba(0, 0, 0, 0.15);\n",
              "      filter: drop-shadow(0px 1px 2px rgba(0, 0, 0, 0.3));\n",
              "      fill: #FFFFFF;\n",
              "    }\n",
              "  </style>\n",
              "\n",
              "    <script>\n",
              "      const buttonEl =\n",
              "        document.querySelector('#df-926194d3-2535-49d9-82ad-e279f786b3b0 button.colab-df-convert');\n",
              "      buttonEl.style.display =\n",
              "        google.colab.kernel.accessAllowed ? 'block' : 'none';\n",
              "\n",
              "      async function convertToInteractive(key) {\n",
              "        const element = document.querySelector('#df-926194d3-2535-49d9-82ad-e279f786b3b0');\n",
              "        const dataTable =\n",
              "          await google.colab.kernel.invokeFunction('convertToInteractive',\n",
              "                                                    [key], {});\n",
              "        if (!dataTable) return;\n",
              "\n",
              "        const docLinkHtml = 'Like what you see? Visit the ' +\n",
              "          '<a target=\"_blank\" href=https://colab.research.google.com/notebooks/data_table.ipynb>data table notebook</a>'\n",
              "          + ' to learn more about interactive tables.';\n",
              "        element.innerHTML = '';\n",
              "        dataTable['output_type'] = 'display_data';\n",
              "        await google.colab.output.renderOutput(dataTable, element);\n",
              "        const docLink = document.createElement('div');\n",
              "        docLink.innerHTML = docLinkHtml;\n",
              "        element.appendChild(docLink);\n",
              "      }\n",
              "    </script>\n",
              "  </div>\n",
              "\n",
              "\n",
              "<div id=\"df-5147efad-8173-430b-9752-386977ce81e1\">\n",
              "  <button class=\"colab-df-quickchart\" onclick=\"quickchart('df-5147efad-8173-430b-9752-386977ce81e1')\"\n",
              "            title=\"Suggest charts\"\n",
              "            style=\"display:none;\">\n",
              "\n",
              "<svg xmlns=\"http://www.w3.org/2000/svg\" height=\"24px\"viewBox=\"0 0 24 24\"\n",
              "     width=\"24px\">\n",
              "    <g>\n",
              "        <path d=\"M19 3H5c-1.1 0-2 .9-2 2v14c0 1.1.9 2 2 2h14c1.1 0 2-.9 2-2V5c0-1.1-.9-2-2-2zM9 17H7v-7h2v7zm4 0h-2V7h2v10zm4 0h-2v-4h2v4z\"/>\n",
              "    </g>\n",
              "</svg>\n",
              "  </button>\n",
              "\n",
              "<style>\n",
              "  .colab-df-quickchart {\n",
              "      --bg-color: #E8F0FE;\n",
              "      --fill-color: #1967D2;\n",
              "      --hover-bg-color: #E2EBFA;\n",
              "      --hover-fill-color: #174EA6;\n",
              "      --disabled-fill-color: #AAA;\n",
              "      --disabled-bg-color: #DDD;\n",
              "  }\n",
              "\n",
              "  [theme=dark] .colab-df-quickchart {\n",
              "      --bg-color: #3B4455;\n",
              "      --fill-color: #D2E3FC;\n",
              "      --hover-bg-color: #434B5C;\n",
              "      --hover-fill-color: #FFFFFF;\n",
              "      --disabled-bg-color: #3B4455;\n",
              "      --disabled-fill-color: #666;\n",
              "  }\n",
              "\n",
              "  .colab-df-quickchart {\n",
              "    background-color: var(--bg-color);\n",
              "    border: none;\n",
              "    border-radius: 50%;\n",
              "    cursor: pointer;\n",
              "    display: none;\n",
              "    fill: var(--fill-color);\n",
              "    height: 32px;\n",
              "    padding: 0;\n",
              "    width: 32px;\n",
              "  }\n",
              "\n",
              "  .colab-df-quickchart:hover {\n",
              "    background-color: var(--hover-bg-color);\n",
              "    box-shadow: 0 1px 2px rgba(60, 64, 67, 0.3), 0 1px 3px 1px rgba(60, 64, 67, 0.15);\n",
              "    fill: var(--button-hover-fill-color);\n",
              "  }\n",
              "\n",
              "  .colab-df-quickchart-complete:disabled,\n",
              "  .colab-df-quickchart-complete:disabled:hover {\n",
              "    background-color: var(--disabled-bg-color);\n",
              "    fill: var(--disabled-fill-color);\n",
              "    box-shadow: none;\n",
              "  }\n",
              "\n",
              "  .colab-df-spinner {\n",
              "    border: 2px solid var(--fill-color);\n",
              "    border-color: transparent;\n",
              "    border-bottom-color: var(--fill-color);\n",
              "    animation:\n",
              "      spin 1s steps(1) infinite;\n",
              "  }\n",
              "\n",
              "  @keyframes spin {\n",
              "    0% {\n",
              "      border-color: transparent;\n",
              "      border-bottom-color: var(--fill-color);\n",
              "      border-left-color: var(--fill-color);\n",
              "    }\n",
              "    20% {\n",
              "      border-color: transparent;\n",
              "      border-left-color: var(--fill-color);\n",
              "      border-top-color: var(--fill-color);\n",
              "    }\n",
              "    30% {\n",
              "      border-color: transparent;\n",
              "      border-left-color: var(--fill-color);\n",
              "      border-top-color: var(--fill-color);\n",
              "      border-right-color: var(--fill-color);\n",
              "    }\n",
              "    40% {\n",
              "      border-color: transparent;\n",
              "      border-right-color: var(--fill-color);\n",
              "      border-top-color: var(--fill-color);\n",
              "    }\n",
              "    60% {\n",
              "      border-color: transparent;\n",
              "      border-right-color: var(--fill-color);\n",
              "    }\n",
              "    80% {\n",
              "      border-color: transparent;\n",
              "      border-right-color: var(--fill-color);\n",
              "      border-bottom-color: var(--fill-color);\n",
              "    }\n",
              "    90% {\n",
              "      border-color: transparent;\n",
              "      border-bottom-color: var(--fill-color);\n",
              "    }\n",
              "  }\n",
              "</style>\n",
              "\n",
              "  <script>\n",
              "    async function quickchart(key) {\n",
              "      const quickchartButtonEl =\n",
              "        document.querySelector('#' + key + ' button');\n",
              "      quickchartButtonEl.disabled = true;  // To prevent multiple clicks.\n",
              "      quickchartButtonEl.classList.add('colab-df-spinner');\n",
              "      try {\n",
              "        const charts = await google.colab.kernel.invokeFunction(\n",
              "            'suggestCharts', [key], {});\n",
              "      } catch (error) {\n",
              "        console.error('Error during call to suggestCharts:', error);\n",
              "      }\n",
              "      quickchartButtonEl.classList.remove('colab-df-spinner');\n",
              "      quickchartButtonEl.classList.add('colab-df-quickchart-complete');\n",
              "    }\n",
              "    (() => {\n",
              "      let quickchartButtonEl =\n",
              "        document.querySelector('#df-5147efad-8173-430b-9752-386977ce81e1 button');\n",
              "      quickchartButtonEl.style.display =\n",
              "        google.colab.kernel.accessAllowed ? 'block' : 'none';\n",
              "    })();\n",
              "  </script>\n",
              "</div>\n",
              "\n",
              "    </div>\n",
              "  </div>\n"
            ],
            "application/vnd.google.colaboratory.intrinsic+json": {
              "type": "dataframe",
              "variable_name": "df",
              "summary": "{\n  \"name\": \"df\",\n  \"rows\": 213,\n  \"fields\": [\n    {\n      \"column\": \"S/N\",\n      \"properties\": {\n        \"dtype\": \"number\",\n        \"std\": 61,\n        \"min\": 1,\n        \"max\": 213,\n        \"num_unique_values\": 213,\n        \"samples\": [\n          10,\n          198,\n          67\n        ],\n        \"semantic_type\": \"\",\n        \"description\": \"\"\n      }\n    },\n    {\n      \"column\": \"Year\",\n      \"properties\": {\n        \"dtype\": \"category\",\n        \"num_unique_values\": 3,\n        \"samples\": [\n          \"2019\",\n          \"#\",\n          \"2020\"\n        ],\n        \"semantic_type\": \"\",\n        \"description\": \"\"\n      }\n    },\n    {\n      \"column\": \"Age\",\n      \"properties\": {\n        \"dtype\": \"number\",\n        \"std\": 14,\n        \"min\": 13,\n        \"max\": 77,\n        \"num_unique_values\": 58,\n        \"samples\": [\n          40,\n          50,\n          53\n        ],\n        \"semantic_type\": \"\",\n        \"description\": \"\"\n      }\n    },\n    {\n      \"column\": \"Menopause\",\n      \"properties\": {\n        \"dtype\": \"number\",\n        \"std\": 0,\n        \"min\": 0,\n        \"max\": 1,\n        \"num_unique_values\": 2,\n        \"samples\": [\n          0,\n          1\n        ],\n        \"semantic_type\": \"\",\n        \"description\": \"\"\n      }\n    },\n    {\n      \"column\": \"Tumor Size (cm)\",\n      \"properties\": {\n        \"dtype\": \"category\",\n        \"num_unique_values\": 13,\n        \"samples\": [\n          \"14\",\n          \"9\"\n        ],\n        \"semantic_type\": \"\",\n        \"description\": \"\"\n      }\n    },\n    {\n      \"column\": \"Inv-Nodes\",\n      \"properties\": {\n        \"dtype\": \"category\",\n        \"num_unique_values\": 4,\n        \"samples\": [\n          \"1\",\n          \"3\"\n        ],\n        \"semantic_type\": \"\",\n        \"description\": \"\"\n      }\n    },\n    {\n      \"column\": \"Breast\",\n      \"properties\": {\n        \"dtype\": \"category\",\n        \"num_unique_values\": 3,\n        \"samples\": [\n          \"Right\",\n          \"Left\"\n        ],\n        \"semantic_type\": \"\",\n        \"description\": \"\"\n      }\n    },\n    {\n      \"column\": \"Metastasis\",\n      \"properties\": {\n        \"dtype\": \"category\",\n        \"num_unique_values\": 3,\n        \"samples\": [\n          \"0\",\n          \"1\"\n        ],\n        \"semantic_type\": \"\",\n        \"description\": \"\"\n      }\n    },\n    {\n      \"column\": \"Breast Quadrant\",\n      \"properties\": {\n        \"dtype\": \"category\",\n        \"num_unique_values\": 6,\n        \"samples\": [\n          \"Upper inner\",\n          \"Upper outer\"\n        ],\n        \"semantic_type\": \"\",\n        \"description\": \"\"\n      }\n    },\n    {\n      \"column\": \"History\",\n      \"properties\": {\n        \"dtype\": \"category\",\n        \"num_unique_values\": 3,\n        \"samples\": [\n          \"0\",\n          \"1\"\n        ],\n        \"semantic_type\": \"\",\n        \"description\": \"\"\n      }\n    },\n    {\n      \"column\": \"Diagnosis Result\",\n      \"properties\": {\n        \"dtype\": \"category\",\n        \"num_unique_values\": 2,\n        \"samples\": [\n          \"Malignant\",\n          \"Benign\"\n        ],\n        \"semantic_type\": \"\",\n        \"description\": \"\"\n      }\n    }\n  ]\n}"
            }
          },
          "metadata": {},
          "execution_count": 49
        }
      ]
    },
    {
      "cell_type": "code",
      "source": [
        "#removing rows containing #\n",
        "df = df[~df.apply(lambda row: any('#' in str(cell) for cell in row), axis=1)]\n"
      ],
      "metadata": {
        "id": "8Dq0HpkdMNg0"
      },
      "execution_count": 50,
      "outputs": []
    },
    {
      "cell_type": "code",
      "source": [
        "df.info()"
      ],
      "metadata": {
        "colab": {
          "base_uri": "https://localhost:8080/"
        },
        "id": "aRE-UFaDWQEk",
        "outputId": "07c37b66-cdbb-40bf-a6e1-736bb8168ea7"
      },
      "execution_count": 51,
      "outputs": [
        {
          "output_type": "stream",
          "name": "stdout",
          "text": [
            "<class 'pandas.core.frame.DataFrame'>\n",
            "Index: 205 entries, 0 to 212\n",
            "Data columns (total 11 columns):\n",
            " #   Column            Non-Null Count  Dtype \n",
            "---  ------            --------------  ----- \n",
            " 0   S/N               205 non-null    int64 \n",
            " 1   Year              205 non-null    object\n",
            " 2   Age               205 non-null    int64 \n",
            " 3   Menopause         205 non-null    int64 \n",
            " 4   Tumor Size (cm)   205 non-null    object\n",
            " 5   Inv-Nodes         205 non-null    object\n",
            " 6   Breast            205 non-null    object\n",
            " 7   Metastasis        205 non-null    object\n",
            " 8   Breast Quadrant   205 non-null    object\n",
            " 9   History           205 non-null    object\n",
            " 10  Diagnosis Result  205 non-null    object\n",
            "dtypes: int64(3), object(8)\n",
            "memory usage: 19.2+ KB\n"
          ]
        }
      ]
    },
    {
      "cell_type": "code",
      "source": [
        "df = df.rename(columns={'Tumor Size (cm)':'tumor_size','Inv-Nodes':'Inv_Nodes','Breast Quadrant':'breast_quadrant','Diagnosis Result':'diagnosis_result'})"
      ],
      "metadata": {
        "id": "zVB_zW4ScAJ1"
      },
      "execution_count": 52,
      "outputs": []
    },
    {
      "cell_type": "code",
      "source": [
        "df.info()"
      ],
      "metadata": {
        "colab": {
          "base_uri": "https://localhost:8080/"
        },
        "id": "nCc9rjR1dAGR",
        "outputId": "239ae78b-80ec-4a54-e66e-2824373a9cb9"
      },
      "execution_count": 53,
      "outputs": [
        {
          "output_type": "stream",
          "name": "stdout",
          "text": [
            "<class 'pandas.core.frame.DataFrame'>\n",
            "Index: 205 entries, 0 to 212\n",
            "Data columns (total 11 columns):\n",
            " #   Column            Non-Null Count  Dtype \n",
            "---  ------            --------------  ----- \n",
            " 0   S/N               205 non-null    int64 \n",
            " 1   Year              205 non-null    object\n",
            " 2   Age               205 non-null    int64 \n",
            " 3   Menopause         205 non-null    int64 \n",
            " 4   tumor_size        205 non-null    object\n",
            " 5   Inv_Nodes         205 non-null    object\n",
            " 6   Breast            205 non-null    object\n",
            " 7   Metastasis        205 non-null    object\n",
            " 8   breast_quadrant   205 non-null    object\n",
            " 9   History           205 non-null    object\n",
            " 10  diagnosis_result  205 non-null    object\n",
            "dtypes: int64(3), object(8)\n",
            "memory usage: 19.2+ KB\n"
          ]
        }
      ]
    },
    {
      "cell_type": "code",
      "source": [
        "df.drop(columns=('S/N'),inplace=True)\n",
        "df.drop(columns=('Year'),inplace=True)"
      ],
      "metadata": {
        "id": "I8tpJQ2RdEEr"
      },
      "execution_count": 54,
      "outputs": []
    },
    {
      "cell_type": "markdown",
      "source": [
        "EDA"
      ],
      "metadata": {
        "id": "FpSnBtaCeXGk"
      }
    },
    {
      "cell_type": "code",
      "source": [
        "df.breast_quadrant.value_counts()"
      ],
      "metadata": {
        "colab": {
          "base_uri": "https://localhost:8080/"
        },
        "id": "ZylLdgCHyYsW",
        "outputId": "911c144f-ae90-478e-e9c0-751609111b59"
      },
      "execution_count": 55,
      "outputs": [
        {
          "output_type": "execute_result",
          "data": {
            "text/plain": [
              "breast_quadrant\n",
              "Upper outer     65\n",
              "Lower outer     52\n",
              "Upper inner     44\n",
              "Lower inner     43\n",
              "Upper outer      1\n",
              "Name: count, dtype: int64"
            ]
          },
          "metadata": {},
          "execution_count": 55
        }
      ]
    },
    {
      "cell_type": "code",
      "source": [
        "#replacing  'Upper outer ' with 'Upper outer' due to space it is treated as a seperate category\n",
        "df.breast_quadrant = df.breast_quadrant.replace('Upper outer ','Upper outer')"
      ],
      "metadata": {
        "id": "srCxGMAMh1Q-"
      },
      "execution_count": 56,
      "outputs": []
    },
    {
      "cell_type": "code",
      "source": [
        "# assigning numerical value to convert this column into numerical\n",
        "df.Breast = df.Breast.replace({'Left':0,'Right':1})"
      ],
      "metadata": {
        "id": "z3gcimsDIdlY"
      },
      "execution_count": 57,
      "outputs": []
    },
    {
      "cell_type": "code",
      "source": [
        "#changing data type from object to intiger\n",
        "df = df.astype({'Inv_Nodes': 'int32'})\n",
        "df = df.astype({'Breast': 'int32'})\n",
        "df = df.astype({'tumor_size': 'int32'})\n",
        "df = df.astype({'Metastasis': 'int32'})\n",
        "df = df.astype({'History': 'int32'})"
      ],
      "metadata": {
        "id": "NFKhHRSUIqt3"
      },
      "execution_count": 58,
      "outputs": []
    },
    {
      "cell_type": "markdown",
      "source": [
        "# Data splitting"
      ],
      "metadata": {
        "id": "AUjnWDnO876G"
      }
    },
    {
      "cell_type": "code",
      "source": [
        "x = df.drop(columns=(['diagnosis_result']))\n",
        "y = df['diagnosis_result']"
      ],
      "metadata": {
        "id": "dDH8UX7ubvDx"
      },
      "execution_count": 59,
      "outputs": []
    },
    {
      "cell_type": "code",
      "source": [
        "# Split the dataset into training and testing sets\n",
        "X_train, X_test, y_train, y_test = train_test_split(x, y, test_size=0.2, random_state=42)"
      ],
      "metadata": {
        "id": "oTMQ8035cSsD"
      },
      "execution_count": 60,
      "outputs": []
    },
    {
      "cell_type": "markdown",
      "source": [
        "# using one hot encoding"
      ],
      "metadata": {
        "id": "7VwyFDsA8l_4"
      }
    },
    {
      "cell_type": "code",
      "source": [
        "#encoding the data to convert categorical column to numerical\n",
        "from sklearn.preprocessing import OneHotEncoder\n",
        "ohe = OneHotEncoder(drop = 'first',sparse_output  = False, dtype = np.int32)"
      ],
      "metadata": {
        "id": "2GRr9XYkfX0n"
      },
      "execution_count": 61,
      "outputs": []
    },
    {
      "cell_type": "code",
      "source": [
        "X_train_new = ohe.fit_transform(X_train[['breast_quadrant']])\n",
        "X_test_new = ohe.fit_transform(X_test[['breast_quadrant']])"
      ],
      "metadata": {
        "id": "7YX1SZWVfli9"
      },
      "execution_count": 62,
      "outputs": []
    },
    {
      "cell_type": "code",
      "source": [
        "#combaining the encoded and original values\n",
        "np.hstack((X_train[['Age', 'Menopause', 'tumor_size', 'Inv_Nodes', 'Breast', 'Metastasis', 'History']].values,X_train_new))"
      ],
      "metadata": {
        "colab": {
          "base_uri": "https://localhost:8080/"
        },
        "id": "1-5-Q62rhymh",
        "outputId": "8564215b-d4b4-40f5-8c30-287373ce2d91"
      },
      "execution_count": 63,
      "outputs": [
        {
          "output_type": "execute_result",
          "data": {
            "text/plain": [
              "array([[42,  1,  3, ...,  0,  1,  0],\n",
              "       [23,  1,  3, ...,  0,  0,  1],\n",
              "       [37,  1,  9, ...,  0,  0,  1],\n",
              "       ...,\n",
              "       [21,  1,  3, ...,  0,  0,  1],\n",
              "       [36,  1,  3, ...,  0,  0,  1],\n",
              "       [27,  1,  2, ...,  0,  0,  1]])"
            ]
          },
          "metadata": {},
          "execution_count": 63
        }
      ]
    },
    {
      "cell_type": "code",
      "source": [
        "#combining with column names\n",
        "original_columns = ['Age', 'Menopause', 'tumor_size', 'Inv_Nodes', 'Breast', 'Metastasis', 'History']\n",
        "\n",
        "# Concatenate original features with encoded features\n",
        "combined_data = np.hstack((X_train[original_columns].values, X_train_new))\n",
        "combined_data1 = np.hstack((X_test[original_columns].values, X_test_new))\n",
        "\n",
        "# Column names for the combined DataFrame\n",
        "combined_columns = original_columns + list(ohe.get_feature_names_out(['breast_quadrant']))\n",
        "combined_columns1 = original_columns + list(ohe.get_feature_names_out(['breast_quadrant']))\n",
        "\n",
        "# Create DataFrame from combined data\n",
        "X_train_combined = pd.DataFrame(combined_data, columns=combined_columns)\n",
        "X_test_combined = pd.DataFrame(combined_data1, columns=combined_columns1)\n"
      ],
      "metadata": {
        "id": "P-2YmyAIkP01"
      },
      "execution_count": 64,
      "outputs": []
    },
    {
      "cell_type": "markdown",
      "source": [
        "# Logistic Regressor"
      ],
      "metadata": {
        "id": "KCMBbakzvjfp"
      }
    },
    {
      "cell_type": "code",
      "source": [
        "#logistic regression  classifier\n",
        "log_clf = LogisticRegression(max_iter=1500,random_state=42)\n",
        "log_clf.fit(X_train_combined, y_train)\n",
        "#predicting the value\n",
        "y_pred_log = log_clf.predict(X_test_combined)\n",
        "#evaluating the accuracy\n",
        "print(\"Accuracy Score \",accuracy_score(y_test, y_pred_log))\n",
        "class_report = classification_report(y_test, y_pred_log)\n",
        "print(\"classification_report \\n \",class_report)"
      ],
      "metadata": {
        "colab": {
          "base_uri": "https://localhost:8080/"
        },
        "id": "PggYSaqFvhTS",
        "outputId": "da371400-716e-4c69-85ae-792975b524d5"
      },
      "execution_count": 71,
      "outputs": [
        {
          "output_type": "stream",
          "name": "stdout",
          "text": [
            "Accuracy Score  0.8780487804878049\n",
            "classification_report \n",
            "                precision    recall  f1-score   support\n",
            "\n",
            "      Benign       0.85      0.96      0.90        23\n",
            "   Malignant       0.93      0.78      0.85        18\n",
            "\n",
            "    accuracy                           0.88        41\n",
            "   macro avg       0.89      0.87      0.87        41\n",
            "weighted avg       0.88      0.88      0.88        41\n",
            "\n"
          ]
        }
      ]
    },
    {
      "cell_type": "markdown",
      "source": [
        "# selecting best parameters"
      ],
      "metadata": {
        "id": "z9FmmPjy08GZ"
      }
    },
    {
      "cell_type": "code",
      "source": [
        "from sklearn.model_selection import GridSearchCV\n",
        "\n",
        "# Define the parameter grid\n",
        "param_grid = {\n",
        "    'n_estimators': [50, 100, 200],\n",
        "    'max_depth': [None , 10, 20],\n",
        "    'min_samples_split': [2, 5, 10],\n",
        "   'min_samples_leaf': [1, 2, 4]\n",
        "}\n",
        "\n",
        "# Creating the grid search\n",
        "grid_search = GridSearchCV(RandomForestClassifier(), param_grid, cv=10,error_score='raise')\n",
        "grid_search.fit(X_train_combined, y_train)\n",
        "\n",
        " #Get the best parameters\n",
        "best_params = grid_search.best_params_\n",
        "print(\"Best Hyperparameters:\", best_params)\n",
        "\n",
        "# Use the best parameters in the model\n",
        "best_model = grid_search.best_estimator_"
      ],
      "metadata": {
        "colab": {
          "base_uri": "https://localhost:8080/"
        },
        "id": "RsfrEBSSmMPM",
        "outputId": "7d873dde-ebd0-4779-87e1-e28f8d0b8655"
      },
      "execution_count": 66,
      "outputs": [
        {
          "output_type": "stream",
          "name": "stdout",
          "text": [
            "Best Hyperparameters: {'max_depth': None, 'min_samples_leaf': 2, 'min_samples_split': 2, 'n_estimators': 100}\n"
          ]
        }
      ]
    },
    {
      "cell_type": "markdown",
      "source": [
        "# Implementing Random Forest classifier"
      ],
      "metadata": {
        "id": "4c9UYMbT2ZqD"
      }
    },
    {
      "cell_type": "code",
      "source": [
        "#RandomForestClassifier\n",
        "random_forest =  RandomForestClassifier( max_depth=10 ,min_samples_leaf=1, min_samples_split=2, n_estimators=200,random_state=42)\n",
        "\n",
        "\n",
        "#training  the classifier\n",
        "random_forest.fit(X_train_combined, y_train)\n",
        "\n",
        "#predicting the value\n",
        "y_pred = random_forest.predict(X_test_combined)\n",
        "\n",
        "#evaluating the accuracy\n",
        "print(\"Accuracy Score \",accuracy_score(y_test, y_pred))\n",
        "class_report = classification_report(y_test, y_pred)\n",
        "print(\"classification_report \\n \",class_report)"
      ],
      "metadata": {
        "colab": {
          "base_uri": "https://localhost:8080/"
        },
        "id": "s3kJzJ6Wehyx",
        "outputId": "71707bb3-ace2-4be0-faba-c45405de350f"
      },
      "execution_count": 67,
      "outputs": [
        {
          "output_type": "stream",
          "name": "stdout",
          "text": [
            "Accuracy Score  0.9024390243902439\n",
            "classification_report \n",
            "                precision    recall  f1-score   support\n",
            "\n",
            "      Benign       0.85      1.00      0.92        23\n",
            "   Malignant       1.00      0.78      0.88        18\n",
            "\n",
            "    accuracy                           0.90        41\n",
            "   macro avg       0.93      0.89      0.90        41\n",
            "weighted avg       0.92      0.90      0.90        41\n",
            "\n"
          ]
        }
      ]
    },
    {
      "cell_type": "markdown",
      "source": [
        "# feature importance"
      ],
      "metadata": {
        "id": "DbQmOR9K8VDk"
      }
    },
    {
      "cell_type": "code",
      "source": [
        "from sklearn.model_selection import cross_val_score\n",
        "# feature importances using cross-validation\n",
        "cv_scores = cross_val_score(random_forest, X_train_combined, y_train, cv=5, scoring='accuracy')\n",
        "print(\"Cross-Validation Scores:\", cv_scores)\n",
        "\n",
        "# Fit the model\n",
        "random_forest.fit(X_train_combined, y_train)\n",
        "\n",
        "# feature importances\n",
        "feature_importances = random_forest.feature_importances_\n",
        "\n",
        "# Get the indices of features sorted by importance\n",
        "indices = np.argsort(feature_importances)[::-1]\n",
        "\n",
        "# feature ranking\n",
        "print(\"Feature ranking:\")\n",
        "for f in range(X_train_combined.shape[1]):\n",
        "    print(f\"{X_train_combined.columns[indices[f]]}: {feature_importances[indices[f]]}\")\n",
        "\n",
        "# Plot feature importances\n",
        "import matplotlib.pyplot as plt\n",
        "\n",
        "plt.figure(figsize=(10, 6))\n",
        "plt.bar(range(X_train_combined.shape[1]), feature_importances[indices], align=\"center\")\n",
        "plt.xticks(range(X_train_combined.shape[1]), X_train_combined.columns[indices], rotation=90)\n",
        "plt.xlabel(\"Feature\")\n",
        "plt.ylabel(\"Importance\")\n",
        "plt.title(\"Feature Importance in Random Forest\")\n",
        "plt.show()"
      ],
      "metadata": {
        "colab": {
          "base_uri": "https://localhost:8080/",
          "height": 963
        },
        "id": "Iw2YkUnFo6M7",
        "outputId": "b8638a61-829f-4396-a399-cce7e9d7be82"
      },
      "execution_count": 69,
      "outputs": [
        {
          "output_type": "stream",
          "name": "stdout",
          "text": [
            "Cross-Validation Scores: [0.93939394 0.87878788 0.87878788 0.90909091 0.9375    ]\n",
            "Feature ranking:\n",
            "tumor_size: 0.25611341765919365\n",
            "Inv_Nodes: 0.25156204922266395\n",
            "Age: 0.1765394379289898\n",
            "Metastasis: 0.16579952763615263\n",
            "Menopause: 0.03759306096891397\n",
            "History: 0.03181420461033319\n",
            "breast_quadrant_Upper outer: 0.02255918734225394\n",
            "Breast: 0.021330522662078754\n",
            "breast_quadrant_Upper inner: 0.018674741399766145\n",
            "breast_quadrant_Lower outer: 0.01801385056965399\n"
          ]
        },
        {
          "output_type": "display_data",
          "data": {
            "text/plain": [
              "<Figure size 1000x600 with 1 Axes>"
            ],
            "image/png": "[encoded data removed]"
          },
          "metadata": {}
        }
      ]
    },
    {
      "cell_type": "markdown",
      "source": [
        "# conclusion\n",
        "# The high accuracy combined with  precision and recall suggests the model is making good predictions for both benign and malignant cases. However, the slightly lower recall compared to precision is due to class imbalance"
      ],
      "metadata": {
        "id": "hlp32JEL9DHw"
      }
    }
  ]
}