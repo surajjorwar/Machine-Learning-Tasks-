{
  "nbformat": 4,
  "nbformat_minor": 0,
  "metadata": {
    "colab": {
      "provenance": [],
      "mount_file_id": "1Y5cLYeivvMG4QIrwYxj4V9865q4HcR4z",
      "authorship_tag": "ABX9TyMff6PRGayvamVFGVetJXrm",
      "include_colab_link": true
    },
    "kernelspec": {
      "name": "python3",
      "display_name": "Python 3"
    },
    "language_info": {
      "name": "python"
    }
  },
  "cells": [
    {
      "cell_type": "markdown",
      "metadata": {
        "id": "view-in-github",
        "colab_type": "text"
      },
      "source": [
        "<a href=\"https://colab.research.google.com/github/surajjorwar/Machine-Learning-Tasks-/blob/main/Wine_Clustering_and_Dimensionality_reduction_.ipynb\" target=\"_parent\"><img src=\"https://colab.research.google.com/assets/colab-badge.svg\" alt=\"Open In Colab\"/></a>"
      ]
    },
    {
      "cell_type": "code",
      "execution_count": 99,
      "metadata": {
        "id": "SNzV3XFUdlOf"
      },
      "outputs": [],
      "source": [
        "import pandas as pd\n",
        "import numpy as np\n",
        "import seaborn as sns\n",
        "import matplotlib.pyplot as plt\n",
        "\n",
        "from sklearn.preprocessing import MinMaxScaler\n",
        "from sklearn.cluster import  KMeans\n",
        "from sklearn.decomposition import PCA\n",
        "\n"
      ]
    },
    {
      "cell_type": "code",
      "source": [
        "wine_df = pd.read_csv('/content/drive/MyDrive/andrew ng /wine data/wine-clustering.csv')"
      ],
      "metadata": {
        "id": "1DE_ODa9eEbO"
      },
      "execution_count": 100,
      "outputs": []
    },
    {
      "cell_type": "code",
      "source": [
        "wine_df.head(4)"
      ],
      "metadata": {
        "colab": {
          "base_uri": "https://localhost:8080/",
          "height": 195
        },
        "id": "QSEZYm_fePbF",
        "outputId": "58dc160f-bb20-4a0d-c951-7b32493b7d27"
      },
      "execution_count": 101,
      "outputs": [
        {
          "output_type": "execute_result",
          "data": {
            "text/plain": [
              "   Alcohol  Malic_Acid   Ash  Ash_Alcanity  Magnesium  Total_Phenols  \\\n",
              "0    14.23        1.71  2.43          15.6        127           2.80   \n",
              "1    13.20        1.78  2.14          11.2        100           2.65   \n",
              "2    13.16        2.36  2.67          18.6        101           2.80   \n",
              "3    14.37        1.95  2.50          16.8        113           3.85   \n",
              "\n",
              "   Flavanoids  Nonflavanoid_Phenols  Proanthocyanins  Color_Intensity   Hue  \\\n",
              "0        3.06                  0.28             2.29             5.64  1.04   \n",
              "1        2.76                  0.26             1.28             4.38  1.05   \n",
              "2        3.24                  0.30             2.81             5.68  1.03   \n",
              "3        3.49                  0.24             2.18             7.80  0.86   \n",
              "\n",
              "   OD280  Proline  \n",
              "0   3.92     1065  \n",
              "1   3.40     1050  \n",
              "2   3.17     1185  \n",
              "3   3.45     1480  "
            ],
            "text/html": [
              "\n",
              "  <div id=\"df-8229ac32-efd8-406d-8ae5-aacebe774039\" class=\"colab-df-container\">\n",
              "    <div>\n",
              "<style scoped>\n",
              "    .dataframe tbody tr th:only-of-type {\n",
              "        vertical-align: middle;\n",
              "    }\n",
              "\n",
              "    .dataframe tbody tr th {\n",
              "        vertical-align: top;\n",
              "    }\n",
              "\n",
              "    .dataframe thead th {\n",
              "        text-align: right;\n",
              "    }\n",
              "</style>\n",
              "<table border=\"1\" class=\"dataframe\">\n",
              "  <thead>\n",
              "    <tr style=\"text-align: right;\">\n",
              "      <th></th>\n",
              "      <th>Alcohol</th>\n",
              "      <th>Malic_Acid</th>\n",
              "      <th>Ash</th>\n",
              "      <th>Ash_Alcanity</th>\n",
              "      <th>Magnesium</th>\n",
              "      <th>Total_Phenols</th>\n",
              "      <th>Flavanoids</th>\n",
              "      <th>Nonflavanoid_Phenols</th>\n",
              "      <th>Proanthocyanins</th>\n",
              "      <th>Color_Intensity</th>\n",
              "      <th>Hue</th>\n",
              "      <th>OD280</th>\n",
              "      <th>Proline</th>\n",
              "    </tr>\n",
              "  </thead>\n",
              "  <tbody>\n",
              "    <tr>\n",
              "      <th>0</th>\n",
              "      <td>14.23</td>\n",
              "      <td>1.71</td>\n",
              "      <td>2.43</td>\n",
              "      <td>15.6</td>\n",
              "      <td>127</td>\n",
              "      <td>2.80</td>\n",
              "      <td>3.06</td>\n",
              "      <td>0.28</td>\n",
              "      <td>2.29</td>\n",
              "      <td>5.64</td>\n",
              "      <td>1.04</td>\n",
              "      <td>3.92</td>\n",
              "      <td>1065</td>\n",
              "    </tr>\n",
              "    <tr>\n",
              "      <th>1</th>\n",
              "      <td>13.20</td>\n",
              "      <td>1.78</td>\n",
              "      <td>2.14</td>\n",
              "      <td>11.2</td>\n",
              "      <td>100</td>\n",
              "      <td>2.65</td>\n",
              "      <td>2.76</td>\n",
              "      <td>0.26</td>\n",
              "      <td>1.28</td>\n",
              "      <td>4.38</td>\n",
              "      <td>1.05</td>\n",
              "      <td>3.40</td>\n",
              "      <td>1050</td>\n",
              "    </tr>\n",
              "    <tr>\n",
              "      <th>2</th>\n",
              "      <td>13.16</td>\n",
              "      <td>2.36</td>\n",
              "      <td>2.67</td>\n",
              "      <td>18.6</td>\n",
              "      <td>101</td>\n",
              "      <td>2.80</td>\n",
              "      <td>3.24</td>\n",
              "      <td>0.30</td>\n",
              "      <td>2.81</td>\n",
              "      <td>5.68</td>\n",
              "      <td>1.03</td>\n",
              "      <td>3.17</td>\n",
              "      <td>1185</td>\n",
              "    </tr>\n",
              "    <tr>\n",
              "      <th>3</th>\n",
              "      <td>14.37</td>\n",
              "      <td>1.95</td>\n",
              "      <td>2.50</td>\n",
              "      <td>16.8</td>\n",
              "      <td>113</td>\n",
              "      <td>3.85</td>\n",
              "      <td>3.49</td>\n",
              "      <td>0.24</td>\n",
              "      <td>2.18</td>\n",
              "      <td>7.80</td>\n",
              "      <td>0.86</td>\n",
              "      <td>3.45</td>\n",
              "      <td>1480</td>\n",
              "    </tr>\n",
              "  </tbody>\n",
              "</table>\n",
              "</div>\n",
              "    <div class=\"colab-df-buttons\">\n",
              "\n",
              "  <div class=\"colab-df-container\">\n",
              "    <button class=\"colab-df-convert\" onclick=\"convertToInteractive('df-8229ac32-efd8-406d-8ae5-aacebe774039')\"\n",
              "            title=\"Convert this dataframe to an interactive table.\"\n",
              "            style=\"display:none;\">\n",
              "\n",
              "  <svg xmlns=\"http://www.w3.org/2000/svg\" height=\"24px\" viewBox=\"0 -960 960 960\">\n",
              "    <path d=\"M120-120v-720h720v720H120Zm60-500h600v-160H180v160Zm220 220h160v-160H400v160Zm0 220h160v-160H400v160ZM180-400h160v-160H180v160Zm440 0h160v-160H620v160ZM180-180h160v-160H180v160Zm440 0h160v-160H620v160Z\"/>\n",
              "  </svg>\n",
              "    </button>\n",
              "\n",
              "  <style>\n",
              "    .colab-df-container {\n",
              "      display:flex;\n",
              "      gap: 12px;\n",
              "    }\n",
              "\n",
              "    .colab-df-convert {\n",
              "      background-color: #E8F0FE;\n",
              "      border: none;\n",
              "      border-radius: 50%;\n",
              "      cursor: pointer;\n",
              "      display: none;\n",
              "      fill: #1967D2;\n",
              "      height: 32px;\n",
              "      padding: 0 0 0 0;\n",
              "      width: 32px;\n",
              "    }\n",
              "\n",
              "    .colab-df-convert:hover {\n",
              "      background-color: #E2EBFA;\n",
              "      box-shadow: 0px 1px 2px rgba(60, 64, 67, 0.3), 0px 1px 3px 1px rgba(60, 64, 67, 0.15);\n",
              "      fill: #174EA6;\n",
              "    }\n",
              "\n",
              "    .colab-df-buttons div {\n",
              "      margin-bottom: 4px;\n",
              "    }\n",
              "\n",
              "    [theme=dark] .colab-df-convert {\n",
              "      background-color: #3B4455;\n",
              "      fill: #D2E3FC;\n",
              "    }\n",
              "\n",
              "    [theme=dark] .colab-df-convert:hover {\n",
              "      background-color: #434B5C;\n",
              "      box-shadow: 0px 1px 3px 1px rgba(0, 0, 0, 0.15);\n",
              "      filter: drop-shadow(0px 1px 2px rgba(0, 0, 0, 0.3));\n",
              "      fill: #FFFFFF;\n",
              "    }\n",
              "  </style>\n",
              "\n",
              "    <script>\n",
              "      const buttonEl =\n",
              "        document.querySelector('#df-8229ac32-efd8-406d-8ae5-aacebe774039 button.colab-df-convert');\n",
              "      buttonEl.style.display =\n",
              "        google.colab.kernel.accessAllowed ? 'block' : 'none';\n",
              "\n",
              "      async function convertToInteractive(key) {\n",
              "        const element = document.querySelector('#df-8229ac32-efd8-406d-8ae5-aacebe774039');\n",
              "        const dataTable =\n",
              "          await google.colab.kernel.invokeFunction('convertToInteractive',\n",
              "                                                    [key], {});\n",
              "        if (!dataTable) return;\n",
              "\n",
              "        const docLinkHtml = 'Like what you see? Visit the ' +\n",
              "          '<a target=\"_blank\" href=https://colab.research.google.com/notebooks/data_table.ipynb>data table notebook</a>'\n",
              "          + ' to learn more about interactive tables.';\n",
              "        element.innerHTML = '';\n",
              "        dataTable['output_type'] = 'display_data';\n",
              "        await google.colab.output.renderOutput(dataTable, element);\n",
              "        const docLink = document.createElement('div');\n",
              "        docLink.innerHTML = docLinkHtml;\n",
              "        element.appendChild(docLink);\n",
              "      }\n",
              "    </script>\n",
              "  </div>\n",
              "\n",
              "\n",
              "<div id=\"df-1aea74a5-b868-4d7e-b8a6-47f45e70b5c2\">\n",
              "  <button class=\"colab-df-quickchart\" onclick=\"quickchart('df-1aea74a5-b868-4d7e-b8a6-47f45e70b5c2')\"\n",
              "            title=\"Suggest charts\"\n",
              "            style=\"display:none;\">\n",
              "\n",
              "<svg xmlns=\"http://www.w3.org/2000/svg\" height=\"24px\"viewBox=\"0 0 24 24\"\n",
              "     width=\"24px\">\n",
              "    <g>\n",
              "        <path d=\"M19 3H5c-1.1 0-2 .9-2 2v14c0 1.1.9 2 2 2h14c1.1 0 2-.9 2-2V5c0-1.1-.9-2-2-2zM9 17H7v-7h2v7zm4 0h-2V7h2v10zm4 0h-2v-4h2v4z\"/>\n",
              "    </g>\n",
              "</svg>\n",
              "  </button>\n",
              "\n",
              "<style>\n",
              "  .colab-df-quickchart {\n",
              "      --bg-color: #E8F0FE;\n",
              "      --fill-color: #1967D2;\n",
              "      --hover-bg-color: #E2EBFA;\n",
              "      --hover-fill-color: #174EA6;\n",
              "      --disabled-fill-color: #AAA;\n",
              "      --disabled-bg-color: #DDD;\n",
              "  }\n",
              "\n",
              "  [theme=dark] .colab-df-quickchart {\n",
              "      --bg-color: #3B4455;\n",
              "      --fill-color: #D2E3FC;\n",
              "      --hover-bg-color: #434B5C;\n",
              "      --hover-fill-color: #FFFFFF;\n",
              "      --disabled-bg-color: #3B4455;\n",
              "      --disabled-fill-color: #666;\n",
              "  }\n",
              "\n",
              "  .colab-df-quickchart {\n",
              "    background-color: var(--bg-color);\n",
              "    border: none;\n",
              "    border-radius: 50%;\n",
              "    cursor: pointer;\n",
              "    display: none;\n",
              "    fill: var(--fill-color);\n",
              "    height: 32px;\n",
              "    padding: 0;\n",
              "    width: 32px;\n",
              "  }\n",
              "\n",
              "  .colab-df-quickchart:hover {\n",
              "    background-color: var(--hover-bg-color);\n",
              "    box-shadow: 0 1px 2px rgba(60, 64, 67, 0.3), 0 1px 3px 1px rgba(60, 64, 67, 0.15);\n",
              "    fill: var(--button-hover-fill-color);\n",
              "  }\n",
              "\n",
              "  .colab-df-quickchart-complete:disabled,\n",
              "  .colab-df-quickchart-complete:disabled:hover {\n",
              "    background-color: var(--disabled-bg-color);\n",
              "    fill: var(--disabled-fill-color);\n",
              "    box-shadow: none;\n",
              "  }\n",
              "\n",
              "  .colab-df-spinner {\n",
              "    border: 2px solid var(--fill-color);\n",
              "    border-color: transparent;\n",
              "    border-bottom-color: var(--fill-color);\n",
              "    animation:\n",
              "      spin 1s steps(1) infinite;\n",
              "  }\n",
              "\n",
              "  @keyframes spin {\n",
              "    0% {\n",
              "      border-color: transparent;\n",
              "      border-bottom-color: var(--fill-color);\n",
              "      border-left-color: var(--fill-color);\n",
              "    }\n",
              "    20% {\n",
              "      border-color: transparent;\n",
              "      border-left-color: var(--fill-color);\n",
              "      border-top-color: var(--fill-color);\n",
              "    }\n",
              "    30% {\n",
              "      border-color: transparent;\n",
              "      border-left-color: var(--fill-color);\n",
              "      border-top-color: var(--fill-color);\n",
              "      border-right-color: var(--fill-color);\n",
              "    }\n",
              "    40% {\n",
              "      border-color: transparent;\n",
              "      border-right-color: var(--fill-color);\n",
              "      border-top-color: var(--fill-color);\n",
              "    }\n",
              "    60% {\n",
              "      border-color: transparent;\n",
              "      border-right-color: var(--fill-color);\n",
              "    }\n",
              "    80% {\n",
              "      border-color: transparent;\n",
              "      border-right-color: var(--fill-color);\n",
              "      border-bottom-color: var(--fill-color);\n",
              "    }\n",
              "    90% {\n",
              "      border-color: transparent;\n",
              "      border-bottom-color: var(--fill-color);\n",
              "    }\n",
              "  }\n",
              "</style>\n",
              "\n",
              "  <script>\n",
              "    async function quickchart(key) {\n",
              "      const quickchartButtonEl =\n",
              "        document.querySelector('#' + key + ' button');\n",
              "      quickchartButtonEl.disabled = true;  // To prevent multiple clicks.\n",
              "      quickchartButtonEl.classList.add('colab-df-spinner');\n",
              "      try {\n",
              "        const charts = await google.colab.kernel.invokeFunction(\n",
              "            'suggestCharts', [key], {});\n",
              "      } catch (error) {\n",
              "        console.error('Error during call to suggestCharts:', error);\n",
              "      }\n",
              "      quickchartButtonEl.classList.remove('colab-df-spinner');\n",
              "      quickchartButtonEl.classList.add('colab-df-quickchart-complete');\n",
              "    }\n",
              "    (() => {\n",
              "      let quickchartButtonEl =\n",
              "        document.querySelector('#df-1aea74a5-b868-4d7e-b8a6-47f45e70b5c2 button');\n",
              "      quickchartButtonEl.style.display =\n",
              "        google.colab.kernel.accessAllowed ? 'block' : 'none';\n",
              "    })();\n",
              "  </script>\n",
              "</div>\n",
              "\n",
              "    </div>\n",
              "  </div>\n"
            ],
            "application/vnd.google.colaboratory.intrinsic+json": {
              "type": "dataframe",
              "variable_name": "wine_df",
              "summary": "{\n  \"name\": \"wine_df\",\n  \"rows\": 178,\n  \"fields\": [\n    {\n      \"column\": \"Alcohol\",\n      \"properties\": {\n        \"dtype\": \"number\",\n        \"std\": 0.8118265380058575,\n        \"min\": 11.03,\n        \"max\": 14.83,\n        \"num_unique_values\": 126,\n        \"samples\": [\n          11.62,\n          13.64,\n          13.69\n        ],\n        \"semantic_type\": \"\",\n        \"description\": \"\"\n      }\n    },\n    {\n      \"column\": \"Malic_Acid\",\n      \"properties\": {\n        \"dtype\": \"number\",\n        \"std\": 1.1171460976144627,\n        \"min\": 0.74,\n        \"max\": 5.8,\n        \"num_unique_values\": 133,\n        \"samples\": [\n          1.21,\n          2.83,\n          1.8\n        ],\n        \"semantic_type\": \"\",\n        \"description\": \"\"\n      }\n    },\n    {\n      \"column\": \"Ash\",\n      \"properties\": {\n        \"dtype\": \"number\",\n        \"std\": 0.27434400906081485,\n        \"min\": 1.36,\n        \"max\": 3.23,\n        \"num_unique_values\": 79,\n        \"samples\": [\n          2.31,\n          2.43,\n          2.52\n        ],\n        \"semantic_type\": \"\",\n        \"description\": \"\"\n      }\n    },\n    {\n      \"column\": \"Ash_Alcanity\",\n      \"properties\": {\n        \"dtype\": \"number\",\n        \"std\": 3.339563767173505,\n        \"min\": 10.6,\n        \"max\": 30.0,\n        \"num_unique_values\": 63,\n        \"samples\": [\n          25.5,\n          28.5,\n          15.6\n        ],\n        \"semantic_type\": \"\",\n        \"description\": \"\"\n      }\n    },\n    {\n      \"column\": \"Magnesium\",\n      \"properties\": {\n        \"dtype\": \"number\",\n        \"std\": 14,\n        \"min\": 70,\n        \"max\": 162,\n        \"num_unique_values\": 53,\n        \"samples\": [\n          126,\n          85,\n          162\n        ],\n        \"semantic_type\": \"\",\n        \"description\": \"\"\n      }\n    },\n    {\n      \"column\": \"Total_Phenols\",\n      \"properties\": {\n        \"dtype\": \"number\",\n        \"std\": 0.6258510488339893,\n        \"min\": 0.98,\n        \"max\": 3.88,\n        \"num_unique_values\": 97,\n        \"samples\": [\n          1.68,\n          2.11,\n          1.35\n        ],\n        \"semantic_type\": \"\",\n        \"description\": \"\"\n      }\n    },\n    {\n      \"column\": \"Flavanoids\",\n      \"properties\": {\n        \"dtype\": \"number\",\n        \"std\": 0.9988586850169467,\n        \"min\": 0.34,\n        \"max\": 5.08,\n        \"num_unique_values\": 132,\n        \"samples\": [\n          3.18,\n          2.5,\n          3.17\n        ],\n        \"semantic_type\": \"\",\n        \"description\": \"\"\n      }\n    },\n    {\n      \"column\": \"Nonflavanoid_Phenols\",\n      \"properties\": {\n        \"dtype\": \"number\",\n        \"std\": 0.12445334029667937,\n        \"min\": 0.13,\n        \"max\": 0.66,\n        \"num_unique_values\": 39,\n        \"samples\": [\n          0.58,\n          0.41,\n          0.39\n        ],\n        \"semantic_type\": \"\",\n        \"description\": \"\"\n      }\n    },\n    {\n      \"column\": \"Proanthocyanins\",\n      \"properties\": {\n        \"dtype\": \"number\",\n        \"std\": 0.5723588626747613,\n        \"min\": 0.41,\n        \"max\": 3.58,\n        \"num_unique_values\": 101,\n        \"samples\": [\n          0.75,\n          1.77,\n          1.42\n        ],\n        \"semantic_type\": \"\",\n        \"description\": \"\"\n      }\n    },\n    {\n      \"column\": \"Color_Intensity\",\n      \"properties\": {\n        \"dtype\": \"number\",\n        \"std\": 2.318285871822413,\n        \"min\": 1.28,\n        \"max\": 13.0,\n        \"num_unique_values\": 132,\n        \"samples\": [\n          2.95,\n          3.3,\n          5.1\n        ],\n        \"semantic_type\": \"\",\n        \"description\": \"\"\n      }\n    },\n    {\n      \"column\": \"Hue\",\n      \"properties\": {\n        \"dtype\": \"number\",\n        \"std\": 0.22857156582982338,\n        \"min\": 0.48,\n        \"max\": 1.71,\n        \"num_unique_values\": 78,\n        \"samples\": [\n          1.22,\n          1.04,\n          1.45\n        ],\n        \"semantic_type\": \"\",\n        \"description\": \"\"\n      }\n    },\n    {\n      \"column\": \"OD280\",\n      \"properties\": {\n        \"dtype\": \"number\",\n        \"std\": 0.7099904287650504,\n        \"min\": 1.27,\n        \"max\": 4.0,\n        \"num_unique_values\": 122,\n        \"samples\": [\n          4.0,\n          1.82,\n          1.59\n        ],\n        \"semantic_type\": \"\",\n        \"description\": \"\"\n      }\n    },\n    {\n      \"column\": \"Proline\",\n      \"properties\": {\n        \"dtype\": \"number\",\n        \"std\": 314,\n        \"min\": 278,\n        \"max\": 1680,\n        \"num_unique_values\": 121,\n        \"samples\": [\n          1375,\n          1270,\n          735\n        ],\n        \"semantic_type\": \"\",\n        \"description\": \"\"\n      }\n    }\n  ]\n}"
            }
          },
          "metadata": {},
          "execution_count": 101
        }
      ]
    },
    {
      "cell_type": "code",
      "source": [
        "wine_df.info()"
      ],
      "metadata": {
        "colab": {
          "base_uri": "https://localhost:8080/"
        },
        "id": "JhHsOeuGeTvn",
        "outputId": "c77005c3-5516-466d-9096-5a5a30777ff4"
      },
      "execution_count": 102,
      "outputs": [
        {
          "output_type": "stream",
          "name": "stdout",
          "text": [
            "<class 'pandas.core.frame.DataFrame'>\n",
            "RangeIndex: 178 entries, 0 to 177\n",
            "Data columns (total 13 columns):\n",
            " #   Column                Non-Null Count  Dtype  \n",
            "---  ------                --------------  -----  \n",
            " 0   Alcohol               178 non-null    float64\n",
            " 1   Malic_Acid            178 non-null    float64\n",
            " 2   Ash                   178 non-null    float64\n",
            " 3   Ash_Alcanity          178 non-null    float64\n",
            " 4   Magnesium             178 non-null    int64  \n",
            " 5   Total_Phenols         178 non-null    float64\n",
            " 6   Flavanoids            178 non-null    float64\n",
            " 7   Nonflavanoid_Phenols  178 non-null    float64\n",
            " 8   Proanthocyanins       178 non-null    float64\n",
            " 9   Color_Intensity       178 non-null    float64\n",
            " 10  Hue                   178 non-null    float64\n",
            " 11  OD280                 178 non-null    float64\n",
            " 12  Proline               178 non-null    int64  \n",
            "dtypes: float64(11), int64(2)\n",
            "memory usage: 18.2 KB\n"
          ]
        }
      ]
    },
    {
      "cell_type": "markdown",
      "source": [
        "# Scaling the data"
      ],
      "metadata": {
        "id": "wi2J-3V9gBx3"
      }
    },
    {
      "cell_type": "code",
      "source": [
        "scalar = MinMaxScaler()"
      ],
      "metadata": {
        "id": "n6Ba5PDQgbfu"
      },
      "execution_count": 103,
      "outputs": []
    },
    {
      "cell_type": "code",
      "source": [
        "wine_df = pd.DataFrame(scalar.fit_transform(wine_df),columns = wine_df.columns)\n"
      ],
      "metadata": {
        "id": "y0Z8bKbPgE5E"
      },
      "execution_count": 104,
      "outputs": []
    },
    {
      "cell_type": "code",
      "source": [
        "wine_df.columns"
      ],
      "metadata": {
        "colab": {
          "base_uri": "https://localhost:8080/"
        },
        "id": "B7vVKREOgqNK",
        "outputId": "f1cef5ac-4d9c-43df-f124-c7b88db95fc3"
      },
      "execution_count": 105,
      "outputs": [
        {
          "output_type": "execute_result",
          "data": {
            "text/plain": [
              "Index(['Alcohol', 'Malic_Acid', 'Ash', 'Ash_Alcanity', 'Magnesium',\n",
              "       'Total_Phenols', 'Flavanoids', 'Nonflavanoid_Phenols',\n",
              "       'Proanthocyanins', 'Color_Intensity', 'Hue', 'OD280', 'Proline'],\n",
              "      dtype='object')"
            ]
          },
          "metadata": {},
          "execution_count": 105
        }
      ]
    },
    {
      "cell_type": "markdown",
      "source": [
        "## no of clusters to be used using elbow method"
      ],
      "metadata": {
        "id": "XzpTWL8shTcF"
      }
    },
    {
      "cell_type": "code",
      "source": [
        "X= wine_df\n",
        "\n",
        "wcss = [] #within clusters sum of square error\n",
        "for i in range(1,12):\n",
        "    from sklearn.cluster import KMeans\n",
        "    kmeans = KMeans(n_clusters = i,init = \"k-means++\",random_state = 0)\n",
        "    kmeans.fit(X)\n",
        "    wcss.append(kmeans.inertia_)\n"
      ],
      "metadata": {
        "colab": {
          "base_uri": "https://localhost:8080/"
        },
        "id": "jd1GCXj5kWS3",
        "outputId": "e1b4d6c3-191a-4d63-9fe2-a69424fe5405"
      },
      "execution_count": 106,
      "outputs": [
        {
          "output_type": "stream",
          "name": "stderr",
          "text": [
            "/usr/local/lib/python3.10/dist-packages/sklearn/cluster/_kmeans.py:870: FutureWarning:\n",
            "\n",
            "The default value of `n_init` will change from 10 to 'auto' in 1.4. Set the value of `n_init` explicitly to suppress the warning\n",
            "\n",
            "/usr/local/lib/python3.10/dist-packages/sklearn/cluster/_kmeans.py:870: FutureWarning:\n",
            "\n",
            "The default value of `n_init` will change from 10 to 'auto' in 1.4. Set the value of `n_init` explicitly to suppress the warning\n",
            "\n",
            "/usr/local/lib/python3.10/dist-packages/sklearn/cluster/_kmeans.py:870: FutureWarning:\n",
            "\n",
            "The default value of `n_init` will change from 10 to 'auto' in 1.4. Set the value of `n_init` explicitly to suppress the warning\n",
            "\n",
            "/usr/local/lib/python3.10/dist-packages/sklearn/cluster/_kmeans.py:870: FutureWarning:\n",
            "\n",
            "The default value of `n_init` will change from 10 to 'auto' in 1.4. Set the value of `n_init` explicitly to suppress the warning\n",
            "\n",
            "/usr/local/lib/python3.10/dist-packages/sklearn/cluster/_kmeans.py:870: FutureWarning:\n",
            "\n",
            "The default value of `n_init` will change from 10 to 'auto' in 1.4. Set the value of `n_init` explicitly to suppress the warning\n",
            "\n",
            "/usr/local/lib/python3.10/dist-packages/sklearn/cluster/_kmeans.py:870: FutureWarning:\n",
            "\n",
            "The default value of `n_init` will change from 10 to 'auto' in 1.4. Set the value of `n_init` explicitly to suppress the warning\n",
            "\n",
            "/usr/local/lib/python3.10/dist-packages/sklearn/cluster/_kmeans.py:870: FutureWarning:\n",
            "\n",
            "The default value of `n_init` will change from 10 to 'auto' in 1.4. Set the value of `n_init` explicitly to suppress the warning\n",
            "\n",
            "/usr/local/lib/python3.10/dist-packages/sklearn/cluster/_kmeans.py:870: FutureWarning:\n",
            "\n",
            "The default value of `n_init` will change from 10 to 'auto' in 1.4. Set the value of `n_init` explicitly to suppress the warning\n",
            "\n",
            "/usr/local/lib/python3.10/dist-packages/sklearn/cluster/_kmeans.py:870: FutureWarning:\n",
            "\n",
            "The default value of `n_init` will change from 10 to 'auto' in 1.4. Set the value of `n_init` explicitly to suppress the warning\n",
            "\n",
            "/usr/local/lib/python3.10/dist-packages/sklearn/cluster/_kmeans.py:870: FutureWarning:\n",
            "\n",
            "The default value of `n_init` will change from 10 to 'auto' in 1.4. Set the value of `n_init` explicitly to suppress the warning\n",
            "\n",
            "/usr/local/lib/python3.10/dist-packages/sklearn/cluster/_kmeans.py:870: FutureWarning:\n",
            "\n",
            "The default value of `n_init` will change from 10 to 'auto' in 1.4. Set the value of `n_init` explicitly to suppress the warning\n",
            "\n"
          ]
        }
      ]
    },
    {
      "cell_type": "markdown",
      "source": [
        "# within clusters sum of square error"
      ],
      "metadata": {
        "id": "wEZtvqS5CZan"
      }
    },
    {
      "cell_type": "code",
      "source": [
        "list(wcss)"
      ],
      "metadata": {
        "colab": {
          "base_uri": "https://localhost:8080/"
        },
        "id": "P1rVBFOIkpNo",
        "outputId": "cb9da147-e554-4c1f-e317-fe5fbc175094"
      },
      "execution_count": 107,
      "outputs": [
        {
          "output_type": "execute_result",
          "data": {
            "text/plain": [
              "[95.59953778471062,\n",
              " 64.5376670238943,\n",
              " 48.96051713667649,\n",
              " 44.82565025179786,\n",
              " 42.38580327835326,\n",
              " 40.14714550556363,\n",
              " 38.2555554907763,\n",
              " 36.333712203799024,\n",
              " 34.66737063619046,\n",
              " 32.81749901990968,\n",
              " 31.802699206593743]"
            ]
          },
          "metadata": {},
          "execution_count": 107
        }
      ]
    },
    {
      "cell_type": "markdown",
      "source": [
        "# Elbow plot to get the value of k (no of clusters )"
      ],
      "metadata": {
        "id": "Hc1z8mZtCNxv"
      }
    },
    {
      "cell_type": "code",
      "source": [
        "plt.plot(range(1,12),wcss)\n",
        "plt.xticks(range(1,9))\n",
        "plt.title('Elbow plot')\n",
        "plt.xlabel('no of clusters')\n",
        "plt.show()"
      ],
      "metadata": {
        "colab": {
          "base_uri": "https://localhost:8080/",
          "height": 472
        },
        "id": "02eZgv23kf2i",
        "outputId": "89b25360-b75d-46f2-e00e-72a87006d0ac"
      },
      "execution_count": 108,
      "outputs": [
        {
          "output_type": "display_data",
          "data": {
            "text/plain": [
              "<Figure size 640x480 with 1 Axes>"
            ],
            "image/png": "[encoded data removed]"
          },
          "metadata": {}
        }
      ]
    },
    {
      "cell_type": "markdown",
      "source": [
        "# implementing Kmeans clustering"
      ],
      "metadata": {
        "id": "zPjDscBqDGKx"
      }
    },
    {
      "cell_type": "code",
      "source": [
        "from sklearn.cluster import KMeans\n",
        "kmeans = KMeans(n_clusters = 3,init = \"k-means++\")\n",
        "X['category'] = kmeans.fit_predict(X)"
      ],
      "metadata": {
        "colab": {
          "base_uri": "https://localhost:8080/"
        },
        "id": "PNpWhTEwmF0Z",
        "outputId": "d660fd90-9b61-41fd-d79c-3e996c3bb565"
      },
      "execution_count": 109,
      "outputs": [
        {
          "output_type": "stream",
          "name": "stderr",
          "text": [
            "/usr/local/lib/python3.10/dist-packages/sklearn/cluster/_kmeans.py:870: FutureWarning:\n",
            "\n",
            "The default value of `n_init` will change from 10 to 'auto' in 1.4. Set the value of `n_init` explicitly to suppress the warning\n",
            "\n"
          ]
        }
      ]
    },
    {
      "cell_type": "markdown",
      "source": [
        "# PCA for Dimensionality Reduction and to visualizing clustered data"
      ],
      "metadata": {
        "id": "DD474bph3IsG"
      }
    },
    {
      "cell_type": "code",
      "source": [
        "import plotly.graph_objs as go\n",
        "import plotly.offline as py\n",
        "\n",
        "# Reduce dimensionality to 3 dimensions using PCA\n",
        "pca = PCA(n_components=3)\n",
        "X_pca = pca.fit_transform(X.iloc[:, :-1])  # Excluding the 'category' column for visualization\n",
        "\n",
        "# Create traces for each cluster\n",
        "traces = []\n",
        "for category in range(3):\n",
        "    subset = X_pca[X['category'] == category]\n",
        "    trace = go.Scatter3d(\n",
        "        x=subset[:, 0],\n",
        "        y=subset[:, 1],\n",
        "        z=subset[:, 2],\n",
        "        mode='markers',\n",
        "        marker=dict(\n",
        "            size=5,\n",
        "            color=category,  # Assigning different colors based on the category\n",
        "            colorscale='Viridis',\n",
        "            opacity=0.8\n",
        "        ),\n",
        "        name=f'Cluster {category}'\n",
        "    )\n",
        "    traces.append(trace)\n",
        "\n",
        "# Create layout\n",
        "layout = go.Layout(\n",
        "    title='K-means Clustering (PCA Visualization)',\n",
        "    scene=dict(\n",
        "        xaxis=dict(title='Principal Component 1'),\n",
        "        yaxis=dict(title='Principal Component 2'),\n",
        "        zaxis=dict(title='Principal Component 3')\n",
        "    )\n",
        ")\n",
        "\n",
        "# Plot\n",
        "fig = go.Figure(data=traces, layout=layout)\n",
        "py.iplot(fig)\n"
      ],
      "metadata": {
        "colab": {
          "base_uri": "https://localhost:8080/",
          "height": 542
        },
        "id": "J52xhf9b2xGP",
        "outputId": "d373a305-7603-4d0d-81de-bb350ecb8609"
      },
      "execution_count": 110,
      "outputs": [
        {
          "output_type": "display_data",
          "data": {
            "text/html": [
              "<html>\n",
              "<head><meta charset=\"utf-8\" /></head>\n",
              "<body>\n",
              "    <div>            <script src=\"https://cdnjs.cloudflare.com/ajax/libs/mathjax/2.7.5/MathJax.js?config=TeX-AMS-MML_SVG\"></script><script type=\"text/javascript\">if (window.MathJax && window.MathJax.Hub && window.MathJax.Hub.Config) {window.MathJax.Hub.Config({SVG: {font: \"STIX-Web\"}});}</script>                <script type=\"text/javascript\">window.PlotlyConfig = {MathJaxConfig: 'local'};</script>\n",
              "        <script charset=\"utf-8\" src=\"https://cdn.plot.ly/plotly-2.24.1.min.js\"></script>                <div id=\"e313527c-1c76-4c40-a289-ff52396b97f3\" class=\"plotly-graph-div\" style=\"height:525px; width:100%;\"></div>            <script type=\"text/javascript\">                                    window.PLOTLYENV=window.PLOTLYENV || {};                                    if (document.getElementById(\"e313527c-1c76-4c40-a289-ff52396b97f3\")) {                    Plotly.newPlot(                        \"e313527c-1c76-4c40-a289-ff52396b97f3\",                        [{\"marker\":{\"color\":0,\"colorscale\":[[0.0,\"#440154\"],[0.1111111111111111,\"#482878\"],[0.2222222222222222,\"#3e4989\"],[0.3333333333333333,\"#31688e\"],[0.4444444444444444,\"#26828e\"],[0.5555555555555556,\"#1f9e89\"],[0.6666666666666666,\"#35b779\"],[0.7777777777777778,\"#6ece58\"],[0.8888888888888888,\"#b5de2b\"],[1.0,\"#fde725\"]],\"opacity\":0.8,\"size\":5},\"mode\":\"markers\",\"name\":\"Cluster 0\",\"x\":[0.41108301720887425,0.45346614505335153,0.22015782906003156,0.3679434084157714,0.5685674885949313,0.4415392325651482,0.5127375941420081,0.33887840965882265,0.5254733856918785,0.6106086868117538,0.4705033007111832,0.5595223905602724,0.7008876262838495,0.8683670975045147,0.862780922737714,0.6837495421095003,0.4907193649047866,0.5694530981168106,0.42467735202139084,0.6156200304107536,0.5221733294423372,0.477614571768238,0.5796796573700421,0.9152164456850014,0.7367888443866016,0.6038628408597829,0.6542441347856425,0.5208422627934148,0.5496214180810591,0.40608659520961377,0.6678751564315836,0.6267857981852097,0.8170550870238479,0.6509798715065899,0.713430626539064,0.25657599948125226,0.37364251700162077,0.6750120389737184,0.5174846785558058,0.626069564878052,0.5790085321158678,0.6243756753192965,0.7663497875788434,0.5630111919890176,0.6243889062673859,0.47251420564408114,0.4823933609376389,0.6791822803564137,0.7745303668726549,0.5376563936957773,0.7395095026882137,0.5817811389989139,0.6263128876683179,0.5729911024096555,0.701763997101222],\"y\":[0.23904205629752734,0.11538704309110226,0.026073907336809265,0.15591642824641816,-0.0027250241368355793,0.28074704333840367,0.17117932001502603,-0.016305418220350535,-0.06851820579946102,-0.038759732491221464,-0.07800551962876759,0.04556075048695638,-0.10578362491732256,-0.040728084058747366,-0.07820065501633301,-0.13388880697513042,0.0005567425969721018,0.0053646151062479545,-0.09953057962150846,-0.04775163592444665,-0.13844376178229256,-0.22729822959369583,-0.15773925128884403,-0.21423137300159203,-0.252267555063631,-0.32796291261241295,-0.37855515353658975,-0.38306205837908397,-0.33491737690072476,-0.19028041400974835,-0.4471357037596088,-0.08896154903287602,-0.3917984678131445,-0.4122117449354318,-0.20437147255980057,-0.6453058419559625,-0.4435322762216013,-0.1434592797963789,-0.2291872757777997,-0.04628051948305634,-0.13907481600185984,-0.3488683118506166,-0.22301853181583423,-0.4765655980547511,-0.28876936739912296,-0.36078103169910536,-0.41598880347543254,0.06575188839537854,-0.18191366037809134,-0.4624046962961122,-0.4719011494856672,-0.34836575231563904,-0.5468570130705911,-0.4255160867641202,-0.5135049826839481],\"z\":[-0.32634768097887895,-0.3399425693145747,-0.2725964177715354,-0.30683293112048227,0.2418595933203434,-0.07729749579627061,-0.15356568426531317,-0.479279882599266,-0.24330798903585413,-0.21590535079670667,-0.1835360001371501,-0.2455821674299011,-0.15063085896727743,0.0893501911392044,0.4558861947646031,-0.04145261594765703,0.17797873414790338,0.05779232126303827,-0.18182578897404478,0.08847803083036136,0.15546773831544933,-0.15630997230518873,-0.08446943283313355,-0.07525253820998232,0.15356495110425905,-0.0007154044050596402,-0.04593991693849998,-0.06038858187319993,-0.13480118369148475,0.009633004752044712,0.013220797817577578,-0.2700465743963929,0.2513756423539345,0.07124726190495767,0.24815544788528804,0.24819575714739875,0.11828997652562667,0.12705076421056072,-0.040513561629819686,0.14037642912223264,-0.14146186520183873,-0.15991440224599857,0.07287328535926661,0.07389449299301928,-0.14386426642023156,0.021218673925281487,0.2504307822460224,-0.16871982357327545,-0.2129420189426258,-0.137018995736734,0.2093603269195711,0.08359028507010413,-0.030494755175098764,-0.09453671740645364,0.29390996110839124],\"type\":\"scatter3d\"},{\"marker\":{\"color\":1,\"colorscale\":[[0.0,\"#440154\"],[0.1111111111111111,\"#482878\"],[0.2222222222222222,\"#3e4989\"],[0.3333333333333333,\"#31688e\"],[0.4444444444444444,\"#26828e\"],[0.5555555555555556,\"#1f9e89\"],[0.6666666666666666,\"#35b779\"],[0.7777777777777778,\"#6ece58\"],[0.8888888888888888,\"#b5de2b\"],[1.0,\"#fde725\"]],\"opacity\":0.8,\"size\":5},\"mode\":\"markers\",\"name\":\"Cluster 1\",\"x\":[-0.7063357559739393,-0.48497680177177077,-0.5211722661289456,-0.8216436634449248,-0.20254638157095572,-0.6081901521202475,-0.544047398643628,-0.47435749548749045,-0.500432011957095,-0.6275179686728706,-0.7274671570917971,-0.37496774383264225,-0.44818828284820345,-0.6263453286759272,-0.8357170112512707,-0.4719315679766556,-0.4269909050275045,-0.3665957035520898,-0.7187885333456537,-0.4588849856396346,-0.6618522880381423,-0.2679000319538011,-0.5997823988279933,-0.4178947999370142,-0.4499403916869378,-0.2157877951697162,-0.4155319957025322,-0.283946970073552,-0.4750992269650709,-0.5143964692959475,-0.520965811951038,-0.5757382326418827,-0.30214463880672343,-0.36702197148787963,-0.3030224681173564,-0.45833887764168635,-0.27156632474012393,-0.23200418878053541,-0.3054804033914175,-0.519605033037915,-0.5305751143582874,-0.18704452557053142,-0.7055081974474843,-0.467360651664167,-0.2901228005049381,-0.5832593702171353,-0.6202790286065466,-0.3948223697924984,-0.5596201611830273,-0.6317213426093591,-0.619429906890197,-0.731057466432358,-0.44637239109178833,-0.4722716860195448,-0.5265194748613798,-0.5809228376794254,-0.4564996599158441,-0.6686733057944834,-0.5992765569827562,-0.3987629912220598],\"y\":[-0.2531927528570431,-0.008822891420635227,-0.1891872216774813,-0.5809055122572574,-0.059466574015118956,-0.4875191910543817,-0.3001964969263833,-0.29819702059249703,-0.30760285892123895,-0.20632823288587465,-0.3565120436091088,-0.22542453490427827,-0.23193813918262085,-0.3551386765713541,-0.5380478024650085,-0.33740538546788457,-0.45084268441991093,-0.31575034087904147,-0.5938813318982696,-0.17578223961142916,-0.12783103158536294,0.009811275653937536,0.0007824945226001881,0.11378690097270126,0.09837719740864784,0.009262703313640198,-0.15547038490015894,-0.08973642622503133,-0.08805164793527787,-0.10460250195341535,-0.2584308843861456,-0.36115578796928466,-0.0514943064152287,-0.2686166298718983,-0.12141320164109404,-0.03030988218764399,-0.07612384058168059,-0.05033027626527199,0.061677556269284485,-0.3138300614716683,-0.12953662267015204,-0.12483030599971207,-0.23695158172967487,-0.004173057947184941,-0.3672210627943881,-0.3090004811654619,-0.19381063078197677,-0.29359897018106096,-0.40827057904743874,-0.15307510382013387,-0.18957707433023105,-0.3528821729370486,-0.3754453668989084,-0.21758377506956672,-0.2473534116083545,-0.29611838163517346,-0.2541728605658241,-0.37362669194815207,0.08583317923986572,0.06683594716357409],\"z\":[0.024092693181920144,-0.2804820475745333,0.19621673624281555,0.08110971721711095,0.3002399411955102,-0.07543323207993634,-0.10507462094056082,-0.002821493082717426,-0.2304936127691803,-0.11414793196478647,-0.050419949004116796,-0.2861340829276858,-0.16790805342414258,-0.08583565788952789,-0.1152029430467413,-0.07278216073260839,0.05443655271939227,0.05367905134455726,-0.09664755675402915,0.046189018132288616,-0.012134229648664,0.26843396188888335,-0.0037182547835221272,-0.037681319328595475,0.1191847864611759,0.4747449719194981,-0.007117479610611534,-0.27160569214272945,0.18662147166174983,-0.12047251637772313,0.10897900779203544,-0.11326690752265196,-0.04322296778726836,0.08599779668802471,-0.05016390701094427,0.07903004251551714,-0.05054016954144155,-0.14644544480087313,-0.300866231410748,0.1676705498435152,0.07987875900018716,0.06658919955821037,-0.0027698711375068897,-0.01299930163435074,0.20646139045748024,0.16028315866639892,-0.08482394017334104,0.014305389315351628,-0.05253998194198588,-0.25689375580324963,-0.06397051922053491,0.021161196838713606,0.013089687463063361,-0.16702979337570684,0.03821784375387519,-0.03485631835795737,0.0033896971506027825,-0.06871725883506541,0.36028403602969294,-0.013597706528910907],\"type\":\"scatter3d\"},{\"marker\":{\"color\":2,\"colorscale\":[[0.0,\"#440154\"],[0.1111111111111111,\"#482878\"],[0.2222222222222222,\"#3e4989\"],[0.3333333333333333,\"#31688e\"],[0.4444444444444444,\"#26828e\"],[0.5555555555555556,\"#1f9e89\"],[0.6666666666666666,\"#35b779\"],[0.7777777777777778,\"#6ece58\"],[0.8888888888888888,\"#b5de2b\"],[1.0,\"#fde725\"]],\"opacity\":0.8,\"size\":5},\"mode\":\"markers\",\"name\":\"Cluster 2\",\"x\":[-0.11151729877638393,0.2366121311371466,-0.010290872329033722,-0.45368070833041096,0.18588906899134083,-0.13251439981175916,-0.4816607329293062,-0.13735979016157523,-0.34503154435391203,-0.40832435073245515,0.07542113153048352,-0.4595622608973303,0.2318609031324591,-0.06493976550691256,0.32373637061722144,-0.13392862208417608,-0.0863464613983473,-0.18747731553360567,-0.2535890400571206,0.06459221211948146,-0.20755533034963505,-0.184826649009305,0.19460460862051718,0.0497903089669534,0.20199537784843236,0.026001176962208446,0.32077702968927013,0.32143343188959994,-0.18381479869978723,-0.23462377312608132,0.13231103196963093,-0.20323743602639543,-0.4913021471676941,-0.2222115037224522,-0.17841514383960294,0.08820370608907531,-0.045962789794468946,0.12716525650965557,-0.16835980303232423,0.3349418379301108,0.030855977030864346,0.3313382974160011,-0.03252486754710233,-0.3632618315966525,-0.2589286763573613,0.0012212233284996446,0.31115209876766464,0.09922015631953524,0.018732699925375226,-0.061372007424698616,-0.025310937021955724,0.0012572931396181773,0.091064227236843,-0.22070875835276071,-0.3578556357217308,0.19673686563053608,0.04668325340771437,-0.2763795897960786,-0.05804949723161649,-0.056156995261786094,0.31835154221141326,0.06168944409587657,0.33511325240748663],\"y\":[-0.0693158637483763,0.41589767921192033,0.14405831199130986,0.3585913099280059,0.43197061182508534,0.17702523213525262,0.24822150928239411,0.4312816106917735,0.31613448598540456,0.221997603171009,0.1961296198032274,0.2774063181993338,0.4394992763827999,0.31081639399489147,0.32219131223197894,0.16785729250653345,0.25094189087183544,0.6497763718191412,0.24911555691599724,0.487258388505616,0.38333242304142623,0.4181662076498859,0.4446987011858891,0.5582651484788462,0.39186710281796583,0.5203974830428042,0.4079641751960494,0.41425553509199103,0.4707149173616332,0.482068799807107,0.23321980205353235,0.44645004540607136,0.23922424661216535,0.40561795146535673,0.3833756761362844,0.3915616862683331,0.3168982983602233,0.4868996464959608,0.3799321186462676,0.40193615474058814,0.4126791416751286,0.2698325199677685,0.45985230363266644,0.3911792056524169,0.28282749551469644,0.3832253948014414,0.2701939844952767,0.5070218349708072,0.456899550181211,0.7775430928097289,0.5591676321354119,0.4428981739396167,0.41136667831199025,0.35964855596880185,0.24330963686350027,0.2684062682164061,0.10259407256572348,0.34824768903946246,0.44330088722611805,0.28912349703699414,0.36904009791843884,0.4303728987048392,0.23311753907466537],\"z\":[0.1900465674950965,-0.8358210657761521,-0.38928445372968884,-0.041591422921125124,-0.12013034752990716,-0.05753628408619498,-0.21133872123373623,-0.19393501265450583,-0.38219937539050447,0.19639692574052145,-0.07801229622460278,-0.053195618703750995,-0.3564824049970435,-0.4687820743298994,-0.05146130081160496,-0.3203283473336053,0.4543378769550293,-0.15543555220419317,-0.08168312215767928,0.007704657346163668,-0.033039030977107815,-0.1682335165545086,-0.044068269730264675,0.18861497173223715,0.10123389156486255,0.07478900609939973,-0.06989671761064467,0.01772555815963479,0.10166631947475505,-0.03772368913555782,-0.10538052734799093,-0.19783835453158571,-0.032671095732758344,0.27741804777843854,-0.2462256039752847,-0.33393767876782426,0.21441303435631512,-0.1185008398503889,-0.039678585346510115,0.29777340368887184,-0.07058909997674856,-0.0022654223449399733,-0.025864039335591477,0.20486976915136074,0.29662331903326644,0.04177941957014124,0.2176472941591035,-0.025092142037730376,0.17163237179692895,0.11997278260830532,-0.07615439226355501,0.02613144931994906,0.09967962601538961,0.2598442939956991,0.8427169984813665,0.6169349144040908,0.5036227595579076,0.5377531315820547,0.16415660432358953,0.1733567769714472,0.4573777871973702,0.18327286180907829,0.29570703725567454],\"type\":\"scatter3d\"}],                        {\"scene\":{\"xaxis\":{\"title\":{\"text\":\"Principal Component 1\"}},\"yaxis\":{\"title\":{\"text\":\"Principal Component 2\"}},\"zaxis\":{\"title\":{\"text\":\"Principal Component 3\"}}},\"template\":{\"data\":{\"barpolar\":[{\"marker\":{\"line\":{\"color\":\"#E5ECF6\",\"width\":0.5},\"pattern\":{\"fillmode\":\"overlay\",\"size\":10,\"solidity\":0.2}},\"type\":\"barpolar\"}],\"bar\":[{\"error_x\":{\"color\":\"#2a3f5f\"},\"error_y\":{\"color\":\"#2a3f5f\"},\"marker\":{\"line\":{\"color\":\"#E5ECF6\",\"width\":0.5},\"pattern\":{\"fillmode\":\"overlay\",\"size\":10,\"solidity\":0.2}},\"type\":\"bar\"}],\"carpet\":[{\"aaxis\":{\"endlinecolor\":\"#2a3f5f\",\"gridcolor\":\"white\",\"linecolor\":\"white\",\"minorgridcolor\":\"white\",\"startlinecolor\":\"#2a3f5f\"},\"baxis\":{\"endlinecolor\":\"#2a3f5f\",\"gridcolor\":\"white\",\"linecolor\":\"white\",\"minorgridcolor\":\"white\",\"startlinecolor\":\"#2a3f5f\"},\"type\":\"carpet\"}],\"choropleth\":[{\"colorbar\":{\"outlinewidth\":0,\"ticks\":\"\"},\"type\":\"choropleth\"}],\"contourcarpet\":[{\"colorbar\":{\"outlinewidth\":0,\"ticks\":\"\"},\"type\":\"contourcarpet\"}],\"contour\":[{\"colorbar\":{\"outlinewidth\":0,\"ticks\":\"\"},\"colorscale\":[[0.0,\"#0d0887\"],[0.1111111111111111,\"#46039f\"],[0.2222222222222222,\"#7201a8\"],[0.3333333333333333,\"#9c179e\"],[0.4444444444444444,\"#bd3786\"],[0.5555555555555556,\"#d8576b\"],[0.6666666666666666,\"#ed7953\"],[0.7777777777777778,\"#fb9f3a\"],[0.8888888888888888,\"#fdca26\"],[1.0,\"#f0f921\"]],\"type\":\"contour\"}],\"heatmapgl\":[{\"colorbar\":{\"outlinewidth\":0,\"ticks\":\"\"},\"colorscale\":[[0.0,\"#0d0887\"],[0.1111111111111111,\"#46039f\"],[0.2222222222222222,\"#7201a8\"],[0.3333333333333333,\"#9c179e\"],[0.4444444444444444,\"#bd3786\"],[0.5555555555555556,\"#d8576b\"],[0.6666666666666666,\"#ed7953\"],[0.7777777777777778,\"#fb9f3a\"],[0.8888888888888888,\"#fdca26\"],[1.0,\"#f0f921\"]],\"type\":\"heatmapgl\"}],\"heatmap\":[{\"colorbar\":{\"outlinewidth\":0,\"ticks\":\"\"},\"colorscale\":[[0.0,\"#0d0887\"],[0.1111111111111111,\"#46039f\"],[0.2222222222222222,\"#7201a8\"],[0.3333333333333333,\"#9c179e\"],[0.4444444444444444,\"#bd3786\"],[0.5555555555555556,\"#d8576b\"],[0.6666666666666666,\"#ed7953\"],[0.7777777777777778,\"#fb9f3a\"],[0.8888888888888888,\"#fdca26\"],[1.0,\"#f0f921\"]],\"type\":\"heatmap\"}],\"histogram2dcontour\":[{\"colorbar\":{\"outlinewidth\":0,\"ticks\":\"\"},\"colorscale\":[[0.0,\"#0d0887\"],[0.1111111111111111,\"#46039f\"],[0.2222222222222222,\"#7201a8\"],[0.3333333333333333,\"#9c179e\"],[0.4444444444444444,\"#bd3786\"],[0.5555555555555556,\"#d8576b\"],[0.6666666666666666,\"#ed7953\"],[0.7777777777777778,\"#fb9f3a\"],[0.8888888888888888,\"#fdca26\"],[1.0,\"#f0f921\"]],\"type\":\"histogram2dcontour\"}],\"histogram2d\":[{\"colorbar\":{\"outlinewidth\":0,\"ticks\":\"\"},\"colorscale\":[[0.0,\"#0d0887\"],[0.1111111111111111,\"#46039f\"],[0.2222222222222222,\"#7201a8\"],[0.3333333333333333,\"#9c179e\"],[0.4444444444444444,\"#bd3786\"],[0.5555555555555556,\"#d8576b\"],[0.6666666666666666,\"#ed7953\"],[0.7777777777777778,\"#fb9f3a\"],[0.8888888888888888,\"#fdca26\"],[1.0,\"#f0f921\"]],\"type\":\"histogram2d\"}],\"histogram\":[{\"marker\":{\"pattern\":{\"fillmode\":\"overlay\",\"size\":10,\"solidity\":0.2}},\"type\":\"histogram\"}],\"mesh3d\":[{\"colorbar\":{\"outlinewidth\":0,\"ticks\":\"\"},\"type\":\"mesh3d\"}],\"parcoords\":[{\"line\":{\"colorbar\":{\"outlinewidth\":0,\"ticks\":\"\"}},\"type\":\"parcoords\"}],\"pie\":[{\"automargin\":true,\"type\":\"pie\"}],\"scatter3d\":[{\"line\":{\"colorbar\":{\"outlinewidth\":0,\"ticks\":\"\"}},\"marker\":{\"colorbar\":{\"outlinewidth\":0,\"ticks\":\"\"}},\"type\":\"scatter3d\"}],\"scattercarpet\":[{\"marker\":{\"colorbar\":{\"outlinewidth\":0,\"ticks\":\"\"}},\"type\":\"scattercarpet\"}],\"scattergeo\":[{\"marker\":{\"colorbar\":{\"outlinewidth\":0,\"ticks\":\"\"}},\"type\":\"scattergeo\"}],\"scattergl\":[{\"marker\":{\"colorbar\":{\"outlinewidth\":0,\"ticks\":\"\"}},\"type\":\"scattergl\"}],\"scattermapbox\":[{\"marker\":{\"colorbar\":{\"outlinewidth\":0,\"ticks\":\"\"}},\"type\":\"scattermapbox\"}],\"scatterpolargl\":[{\"marker\":{\"colorbar\":{\"outlinewidth\":0,\"ticks\":\"\"}},\"type\":\"scatterpolargl\"}],\"scatterpolar\":[{\"marker\":{\"colorbar\":{\"outlinewidth\":0,\"ticks\":\"\"}},\"type\":\"scatterpolar\"}],\"scatter\":[{\"fillpattern\":{\"fillmode\":\"overlay\",\"size\":10,\"solidity\":0.2},\"type\":\"scatter\"}],\"scatterternary\":[{\"marker\":{\"colorbar\":{\"outlinewidth\":0,\"ticks\":\"\"}},\"type\":\"scatterternary\"}],\"surface\":[{\"colorbar\":{\"outlinewidth\":0,\"ticks\":\"\"},\"colorscale\":[[0.0,\"#0d0887\"],[0.1111111111111111,\"#46039f\"],[0.2222222222222222,\"#7201a8\"],[0.3333333333333333,\"#9c179e\"],[0.4444444444444444,\"#bd3786\"],[0.5555555555555556,\"#d8576b\"],[0.6666666666666666,\"#ed7953\"],[0.7777777777777778,\"#fb9f3a\"],[0.8888888888888888,\"#fdca26\"],[1.0,\"#f0f921\"]],\"type\":\"surface\"}],\"table\":[{\"cells\":{\"fill\":{\"color\":\"#EBF0F8\"},\"line\":{\"color\":\"white\"}},\"header\":{\"fill\":{\"color\":\"#C8D4E3\"},\"line\":{\"color\":\"white\"}},\"type\":\"table\"}]},\"layout\":{\"annotationdefaults\":{\"arrowcolor\":\"#2a3f5f\",\"arrowhead\":0,\"arrowwidth\":1},\"autotypenumbers\":\"strict\",\"coloraxis\":{\"colorbar\":{\"outlinewidth\":0,\"ticks\":\"\"}},\"colorscale\":{\"diverging\":[[0,\"#8e0152\"],[0.1,\"#c51b7d\"],[0.2,\"#de77ae\"],[0.3,\"#f1b6da\"],[0.4,\"#fde0ef\"],[0.5,\"#f7f7f7\"],[0.6,\"#e6f5d0\"],[0.7,\"#b8e186\"],[0.8,\"#7fbc41\"],[0.9,\"#4d9221\"],[1,\"#276419\"]],\"sequential\":[[0.0,\"#0d0887\"],[0.1111111111111111,\"#46039f\"],[0.2222222222222222,\"#7201a8\"],[0.3333333333333333,\"#9c179e\"],[0.4444444444444444,\"#bd3786\"],[0.5555555555555556,\"#d8576b\"],[0.6666666666666666,\"#ed7953\"],[0.7777777777777778,\"#fb9f3a\"],[0.8888888888888888,\"#fdca26\"],[1.0,\"#f0f921\"]],\"sequentialminus\":[[0.0,\"#0d0887\"],[0.1111111111111111,\"#46039f\"],[0.2222222222222222,\"#7201a8\"],[0.3333333333333333,\"#9c179e\"],[0.4444444444444444,\"#bd3786\"],[0.5555555555555556,\"#d8576b\"],[0.6666666666666666,\"#ed7953\"],[0.7777777777777778,\"#fb9f3a\"],[0.8888888888888888,\"#fdca26\"],[1.0,\"#f0f921\"]]},\"colorway\":[\"#636efa\",\"#EF553B\",\"#00cc96\",\"#ab63fa\",\"#FFA15A\",\"#19d3f3\",\"#FF6692\",\"#B6E880\",\"#FF97FF\",\"#FECB52\"],\"font\":{\"color\":\"#2a3f5f\"},\"geo\":{\"bgcolor\":\"white\",\"lakecolor\":\"white\",\"landcolor\":\"#E5ECF6\",\"showlakes\":true,\"showland\":true,\"subunitcolor\":\"white\"},\"hoverlabel\":{\"align\":\"left\"},\"hovermode\":\"closest\",\"mapbox\":{\"style\":\"light\"},\"paper_bgcolor\":\"white\",\"plot_bgcolor\":\"#E5ECF6\",\"polar\":{\"angularaxis\":{\"gridcolor\":\"white\",\"linecolor\":\"white\",\"ticks\":\"\"},\"bgcolor\":\"#E5ECF6\",\"radialaxis\":{\"gridcolor\":\"white\",\"linecolor\":\"white\",\"ticks\":\"\"}},\"scene\":{\"xaxis\":{\"backgroundcolor\":\"#E5ECF6\",\"gridcolor\":\"white\",\"gridwidth\":2,\"linecolor\":\"white\",\"showbackground\":true,\"ticks\":\"\",\"zerolinecolor\":\"white\"},\"yaxis\":{\"backgroundcolor\":\"#E5ECF6\",\"gridcolor\":\"white\",\"gridwidth\":2,\"linecolor\":\"white\",\"showbackground\":true,\"ticks\":\"\",\"zerolinecolor\":\"white\"},\"zaxis\":{\"backgroundcolor\":\"#E5ECF6\",\"gridcolor\":\"white\",\"gridwidth\":2,\"linecolor\":\"white\",\"showbackground\":true,\"ticks\":\"\",\"zerolinecolor\":\"white\"}},\"shapedefaults\":{\"line\":{\"color\":\"#2a3f5f\"}},\"ternary\":{\"aaxis\":{\"gridcolor\":\"white\",\"linecolor\":\"white\",\"ticks\":\"\"},\"baxis\":{\"gridcolor\":\"white\",\"linecolor\":\"white\",\"ticks\":\"\"},\"bgcolor\":\"#E5ECF6\",\"caxis\":{\"gridcolor\":\"white\",\"linecolor\":\"white\",\"ticks\":\"\"}},\"title\":{\"x\":0.05},\"xaxis\":{\"automargin\":true,\"gridcolor\":\"white\",\"linecolor\":\"white\",\"ticks\":\"\",\"title\":{\"standoff\":15},\"zerolinecolor\":\"white\",\"zerolinewidth\":2},\"yaxis\":{\"automargin\":true,\"gridcolor\":\"white\",\"linecolor\":\"white\",\"ticks\":\"\",\"title\":{\"standoff\":15},\"zerolinecolor\":\"white\",\"zerolinewidth\":2}}},\"title\":{\"text\":\"K-means Clustering (PCA Visualization)\"}},                        {\"responsive\": true}                    ).then(function(){\n",
              "                            \n",
              "var gd = document.getElementById('e313527c-1c76-4c40-a289-ff52396b97f3');\n",
              "var x = new MutationObserver(function (mutations, observer) {{\n",
              "        var display = window.getComputedStyle(gd).display;\n",
              "        if (!display || display === 'none') {{\n",
              "            console.log([gd, 'removed!']);\n",
              "            Plotly.purge(gd);\n",
              "            observer.disconnect();\n",
              "        }}\n",
              "}});\n",
              "\n",
              "// Listen for the removal of the full notebook cells\n",
              "var notebookContainer = gd.closest('#notebook-container');\n",
              "if (notebookContainer) {{\n",
              "    x.observe(notebookContainer, {childList: true});\n",
              "}}\n",
              "\n",
              "// Listen for the clearing of the current output cell\n",
              "var outputEl = gd.closest('.output');\n",
              "if (outputEl) {{\n",
              "    x.observe(outputEl, {childList: true});\n",
              "}}\n",
              "\n",
              "                        })                };                            </script>        </div>\n",
              "</body>\n",
              "</html>"
            ]
          },
          "metadata": {}
        }
      ]
    },
    {
      "cell_type": "markdown",
      "source": [
        "plotting scatter plot for Alcohol , Malic_Acid, category"
      ],
      "metadata": {
        "id": "UXReVi63DQnR"
      }
    },
    {
      "cell_type": "code",
      "source": [
        "sns.scatterplot(x = 'Alcohol',y = 'Malic_Acid',hue = 'category',data = wine_df,palette=['red','green','blue'])"
      ],
      "metadata": {
        "colab": {
          "base_uri": "https://localhost:8080/",
          "height": 466
        },
        "id": "Czlw_rS1nEie",
        "outputId": "4a799331-ad50-43cc-bd9c-ec324d8f195a"
      },
      "execution_count": 111,
      "outputs": [
        {
          "output_type": "execute_result",
          "data": {
            "text/plain": [
              "<Axes: xlabel='Alcohol', ylabel='Malic_Acid'>"
            ]
          },
          "metadata": {},
          "execution_count": 111
        },
        {
          "output_type": "display_data",
          "data": {
            "text/plain": [
              "<Figure size 640x480 with 1 Axes>"
            ],
            "image/png": "[encoded data removed]"
          },
          "metadata": {}
        }
      ]
    },
    {
      "cell_type": "markdown",
      "source": [
        "#3D plot of clusters of alcohol , Malic Acid and Ash"
      ],
      "metadata": {
        "id": "nb0y_jXO5XMg"
      }
    },
    {
      "cell_type": "code",
      "source": [
        "import plotly.graph_objects as go\n",
        "from sklearn.cluster import KMeans\n",
        "\n",
        "\n",
        "# Perform K-means clustering\n",
        "kmeans = KMeans(n_clusters=3, random_state=42).fit(wine_df[['Alcohol', 'Malic_Acid', 'Ash']])\n",
        "wine_df['category'] = kmeans.labels_\n",
        "\n",
        "# Create the 3D scatter plot\n",
        "fig = go.Figure()\n",
        "\n",
        "# Add data points\n",
        "fig.add_trace(go.Scatter3d(x=wine_df['Alcohol'], y=wine_df['Malic_Acid'], z=wine_df['Ash'],\n",
        "                           mode='markers', marker=dict(size=8, color=wine_df['category'], colorscale='Viridis', opacity=0.8), name='Data Points'))\n",
        "\n",
        "# Add centroids\n",
        "centroids = kmeans.cluster_centers_\n",
        "fig.add_trace(go.Scatter3d(x=centroids[:, 0], y=centroids[:, 1], z=centroids[:, 2],\n",
        "                           mode='markers', marker=dict(size=12, color='red', symbol='x', line=dict(color='black', width=2)), name='Centroids'))\n",
        "\n",
        "# Set labels, title, and legend\n",
        "fig.update_layout(scene=dict(xaxis_title='Alcohol', yaxis_title='Malic Acid', zaxis_title='Ash'),\n",
        "                  title='Interactive 3D Scatter Plot with Centroids (K-means)', legend=dict(yanchor=\"top\",y=0.99, xanchor=\"left\", x=0.01))\n",
        "\n",
        "\n",
        "\n",
        "# Update legend labels\n",
        "fig.update_layout(scene=dict(xaxis=dict(title='Alcohol'), yaxis=dict(title='Malic Acid'), zaxis=dict(title='Ash')))\n",
        "\n",
        "fig.show()\n"
      ],
      "metadata": {
        "colab": {
          "base_uri": "https://localhost:8080/",
          "height": 611
        },
        "id": "LhuTdz0ppm9g",
        "outputId": "2f0596ee-f489-41db-f71a-ff6cd4b80a8b"
      },
      "execution_count": 112,
      "outputs": [
        {
          "output_type": "stream",
          "name": "stderr",
          "text": [
            "/usr/local/lib/python3.10/dist-packages/sklearn/cluster/_kmeans.py:870: FutureWarning:\n",
            "\n",
            "The default value of `n_init` will change from 10 to 'auto' in 1.4. Set the value of `n_init` explicitly to suppress the warning\n",
            "\n"
          ]
        },
        {
          "output_type": "display_data",
          "data": {
            "text/html": [
              "<html>\n",
              "<head><meta charset=\"utf-8\" /></head>\n",
              "<body>\n",
              "    <div>            <script src=\"https://cdnjs.cloudflare.com/ajax/libs/mathjax/2.7.5/MathJax.js?config=TeX-AMS-MML_SVG\"></script><script type=\"text/javascript\">if (window.MathJax && window.MathJax.Hub && window.MathJax.Hub.Config) {window.MathJax.Hub.Config({SVG: {font: \"STIX-Web\"}});}</script>                <script type=\"text/javascript\">window.PlotlyConfig = {MathJaxConfig: 'local'};</script>\n",
              "        <script charset=\"utf-8\" src=\"https://cdn.plot.ly/plotly-2.24.1.min.js\"></script>                <div id=\"3c151bb5-fe5e-4b8b-bbc5-af86f22946fb\" class=\"plotly-graph-div\" style=\"height:525px; width:100%;\"></div>            <script type=\"text/javascript\">                                    window.PLOTLYENV=window.PLOTLYENV || {};                                    if (document.getElementById(\"3c151bb5-fe5e-4b8b-bbc5-af86f22946fb\")) {                    Plotly.newPlot(                        \"3c151bb5-fe5e-4b8b-bbc5-af86f22946fb\",                        [{\"marker\":{\"color\":[1,1,1,1,1,1,1,1,1,1,1,1,1,1,1,1,1,1,1,2,1,2,1,0,1,1,1,1,1,1,1,1,1,1,1,1,1,1,0,2,1,2,1,2,0,2,2,1,1,1,0,1,1,1,1,1,1,1,1,0,0,0,1,0,0,0,0,0,1,0,0,1,1,1,0,0,0,0,0,2,0,0,0,2,0,0,0,0,0,0,0,0,0,0,0,0,0,0,0,0,0,0,0,0,0,0,0,0,0,0,0,0,0,0,0,0,0,0,2,0,0,0,2,2,2,0,0,0,0,2,0,2,0,2,0,0,2,2,2,2,2,1,2,2,2,2,2,2,2,2,2,2,1,2,0,2,2,2,1,1,2,2,2,2,1,2,2,2,1,2,0,0,1,2,2,2,1,2],\"colorscale\":[[0.0,\"#440154\"],[0.1111111111111111,\"#482878\"],[0.2222222222222222,\"#3e4989\"],[0.3333333333333333,\"#31688e\"],[0.4444444444444444,\"#26828e\"],[0.5555555555555556,\"#1f9e89\"],[0.6666666666666666,\"#35b779\"],[0.7777777777777778,\"#6ece58\"],[0.8888888888888888,\"#b5de2b\"],[1.0,\"#fde725\"]],\"opacity\":0.8,\"size\":8},\"mode\":\"markers\",\"name\":\"Data Points\",\"x\":[0.8421052631578951,0.5710526315789473,0.560526315789474,0.8789473684210525,0.5815789473684214,0.8342105263157893,0.8842105263157896,0.797368421052632,1.0,0.7447368421052629,0.8078947368421052,0.8131578947368419,0.7157894736842105,0.9789473684210526,0.8815789473684212,0.6842105263157898,0.8605263157894738,0.736842105263158,0.831578947368421,0.6868421052631581,0.797368421052632,0.5,0.7052631578947373,0.47894736842105257,0.6499999999999999,0.5315789473684216,0.6210526315789475,0.5973684210526318,0.7473684210526317,0.7868421052631578,0.7105263157894739,0.6710526315789473,0.6973684210526314,0.7184210526315788,0.6526315789473687,0.6447368421052633,0.5921052631578947,0.5315789473684216,0.5368421052631582,0.8394736842105264,0.6657894736842107,0.6263157894736846,0.7500000000000004,0.5815789473684214,0.5315789473684216,0.836842105263158,0.8815789473684212,0.7552631578947371,0.8078947368421052,0.7657894736842104,0.5315789473684216,0.736842105263158,0.7342105263157896,0.7210526315789472,0.7131578947368422,0.6657894736842107,0.8394736842105264,0.594736842105263,0.7078947368421056,0.3526315789473684,0.34210526315789513,0.4236842105263161,0.6947368421052631,0.3526315789473684,0.30000000000000027,0.3526315789473684,0.5473684210526315,0.3526315789473684,0.6078947368421055,0.310526315789474,0.331578947368421,0.7447368421052629,0.6473684210526316,0.5157894736842108,0.2447368421052638,0.1657894736842107,0.5263157894736841,0.2131578947368422,0.34210526315789513,0.43947368421052646,0.2552631578947371,0.44473684210526354,0.2763157894736845,0.5315789473684216,0.2131578947368422,0.43157894736842106,0.29736842105263195,0.1631578947368424,0.16052631578947407,0.2763157894736845,0.2763157894736845,0.2552631578947371,0.43684210526315814,0.331578947368421,0.155263157894737,0.3789473684210529,0.20526315789473726,0.331578947368421,0.3526315789473684,0.331578947368421,0.2763157894736845,0.4131578947368424,0.34473684210526345,0.20789473684210558,0.38947368421052664,0.3657894736842109,0.3210526315789477,0.44473684210526354,0.3131578947368423,0.15263157894736867,0.11315789473684257,0.39210526315789496,0.19210526315789478,0.10000000000000053,0.2763157894736845,0.0,0.20789473684210558,0.3657894736842109,0.45789473684210513,0.2552631578947371,0.1105263157894738,0.13947368421052664,0.3657894736842109,0.5315789473684216,0.2210526315789476,0.2736842105263162,0.3684210526315792,0.20000000000000018,0.3526315789473684,0.26578947368421035,0.4815789473684209,0.4868421052631584,0.4684210526315793,0.43947368421052646,0.38947368421052664,0.4131578947368424,0.3210526315789477,0.3947368421052633,0.6473684210526316,0.47631578947368425,0.5,0.6131578947368421,0.655263157894737,0.6815789473684211,0.3210526315789477,0.560526315789474,0.7500000000000004,0.48421052631578965,0.6026315789473689,0.5394736842105265,0.6499999999999999,0.4631578947368422,0.5473684210526315,0.5789473684210531,0.4078947368421053,0.5631578947368423,0.7394736842105263,0.37368421052631584,0.8710526315789475,0.6447368421052633,0.3500000000000001,0.7000000000000002,0.47894736842105257,0.5078947368421058,0.7236842105263159,0.7105263157894739,0.6368421052631579,0.4710526315789476,0.6710526315789473,0.6236842105263158,0.3078947368421052,0.45789473684210513,0.823684210526316,0.7052631578947373,0.6236842105263158,0.5894736842105264,0.5631578947368423,0.8157894736842106],\"y\":[0.19169960474308304,0.20553359683794467,0.32015810276679846,0.23913043478260873,0.36561264822134387,0.20158102766798422,0.22332015810276687,0.2786561264822135,0.17786561264822134,0.12055335968379452,0.2806324110671937,0.14624505928853757,0.1956521739130435,0.1956521739130435,0.22332015810276687,0.2114624505928854,0.233201581027668,0.1640316205533597,0.16798418972332022,0.46640316205533605,0.17588932806324112,0.6047430830039526,0.2213438735177866,0.16996047430830044,0.2114624505928854,0.258893280632411,0.20355731225296445,0.19367588932806326,0.22924901185770755,0.1857707509881423,0.15019762845849807,0.18181818181818185,0.2154150197628459,0.15612648221343875,0.20948616600790518,0.2114624505928854,0.17786561264822134,0.17984189723320157,0.15019762845849807,0.6422924901185771,0.19169960474308304,0.6126482213438735,0.22727272727272727,0.6403162055335969,0.20355731225296445,0.6521739130434783,0.5632411067193676,0.1857707509881423,0.25296442687747034,0.1956521739130435,0.1956521739130435,0.17984189723320157,0.199604743083004,0.22924901185770755,0.18379446640316208,0.1956521739130435,0.1897233201581028,0.24308300395256918,0.13636363636363638,0.03952569169960474,0.07114624505928857,0.12252964426877475,0.1007905138339921,0.07707509881422925,0.14031620553359683,0.09288537549407117,0.0533596837944664,0.0849802371541502,0.03952569169960474,0.08893280632411069,0.17193675889328067,0.1521739130434783,0.18181818181818185,0.18379446640316208,0.06916996047430832,0.22529644268774704,0.031620553359683806,0.4249011857707511,0.04940711462450595,0.6185770750988143,0.035573122529644285,0.2114624505928854,0.07707509881422925,0.616600790513834,0.029644268774703553,0.047430830039525695,0.17193675889328067,0.18379446640316208,0.26086956521739135,0.11660079051383401,0.2154150197628459,0.1521739130434783,0.15612648221343875,0.4130434782608696,0.2470355731225297,0.15415019762845852,0.2727272727272728,0.13241106719367587,0.06521739130434784,0.48023715415019763,0.2648221343873518,0.11857707509881424,0.3379446640316206,0.19367588932806326,0.1956521739130435,0.35770750988142286,0.1956521739130435,0.199604743083004,0.10869565217391305,0.12055335968379452,0.5928853754940713,0.33399209486166015,0.383399209486166,0.0,0.12845849802371542,0.1521739130434783,0.14426877470355734,0.17193675889328067,0.5316205533596838,0.5316205533596838,0.32806324110671936,0.258893280632411,0.7292490118577075,1.0,0.7055335968379447,0.2806324110671937,0.15612648221343875,0.27470355731225293,0.17588932806324112,0.7035573122529645,0.12055335968379452,0.44466403162055346,0.31027667984189733,0.5553359683794467,0.09881422924901187,0.3399209486166008,0.7865612648221344,0.9426877470355732,0.5632411067193676,0.43873517786561267,0.40909090909090917,0.3596837944664032,0.48023715415019763,0.8320158102766799,0.6205533596837945,0.5592885375494071,0.8498023715415021,0.7648221343873519,0.4940711462450593,0.624505928853755,0.4703557312252965,0.3814229249011858,0.22924901185770755,0.5059288537549407,0.10869565217391305,0.8794466403162058,0.6679841897233202,0.45256916996047425,0.1857707509881423,0.18379446640316208,0.6106719367588933,0.4980237154150198,0.5,0.5355731225296444,0.39920948616600793,0.7154150197628459,0.5849802371541503,0.5197628458498025,0.36363636363636365,0.7628458498023716,0.45256916996047425,0.32608695652173925,0.34980237154150196,0.9703557312252966,0.6264822134387352,0.699604743083004,0.36561264822134387,0.6640316205533596],\"z\":[0.5721925133689839,0.41711229946524064,0.7005347593582886,0.6096256684491977,0.8074866310160428,0.5828877005347594,0.5828877005347594,0.6684491978609625,0.4331550802139036,0.4866310160427806,0.5026737967914437,0.5133689839572192,0.5614973262032085,0.5508021390374332,0.5454545454545453,0.716577540106952,0.7272727272727274,0.6737967914438502,0.5989304812834223,0.6417112299465241,0.4919786096256683,0.6898395721925134,0.5347593582887699,0.6203208556149732,0.6684491978609625,0.9946524064171124,0.6737967914438502,0.41711229946524064,0.7700534759358287,0.4545454545454545,0.716577540106952,0.5347593582887699,0.5347593582887699,0.716577540106952,0.6898395721925134,0.5614973262032085,0.7914438502673796,0.6363636363636361,0.39572192513368976,0.6149732620320855,0.5080213903743315,0.4064171122994652,0.657754010695187,0.49732620320855603,0.39572192513368976,0.5775401069518716,0.4919786096256683,0.4064171122994652,0.5561497326203207,0.4866310160427806,0.36363636363636365,0.663101604278075,0.5668449197860962,0.7058823529411765,0.47593582887700536,0.5882352941176471,0.5026737967914437,0.7058823529411765,0.6096256684491977,0.0,0.4919786096256683,0.3529411764705882,0.2994652406417112,0.4278074866310161,0.6256684491978607,0.6417112299465241,0.18181818181818166,0.2994652406417112,0.5347593582887699,0.20855614973262027,0.4545454545454545,0.7005347593582886,0.47058823529411764,0.663101604278075,0.5026737967914437,0.2994652406417112,0.18716577540106938,0.4652406417112299,0.31550802139037415,0.5561497326203207,0.34224598930481276,0.449197860962567,0.6149732620320855,0.5133689839572192,0.6524064171122995,0.47058823529411764,0.5080213903743315,0.6737967914438502,0.5882352941176471,0.5026737967914437,0.5133689839572192,0.5668449197860962,0.48128342245989286,0.4598930481283422,0.4919786096256683,0.449197860962567,0.7379679144385026,0.3315508021390373,0.39572192513368976,0.4545454545454545,0.18181818181818166,0.28877005347593576,0.5882352941176471,0.2780748663101603,0.3315508021390373,0.4866310160427806,0.4064171122994652,0.4919786096256683,0.3101604278074864,0.716577540106952,0.2459893048128342,0.4331550802139036,0.8342245989304812,0.6096256684491977,0.6096256684491977,0.449197860962567,0.33689839572192504,0.44385026737967903,0.3315508021390373,0.34224598930481276,0.5668449197860962,0.9999999999999999,0.7326203208556149,0.4117647058823529,0.5508021390374332,0.4331550802139036,0.49732620320855603,0.7593582887700533,0.5026737967914437,0.5454545454545453,0.5133689839572192,0.5561497326203207,0.5561497326203207,0.5347593582887699,0.47593582887700536,0.449197860962567,0.6310160427807486,0.6844919786096256,0.44385026737967903,0.6684491978609625,0.716577540106952,0.5294117647058824,0.7272727272727274,0.5294117647058824,0.449197860962567,0.42245989304812814,0.4652406417112299,0.5989304812834223,0.5454545454545453,0.5347593582887699,0.6737967914438502,0.5989304812834223,0.7433155080213903,0.4919786096256683,0.39572192513368976,0.5133689839572192,0.5454545454545453,0.6844919786096256,0.716577540106952,0.6844919786096256,0.5454545454545453,0.6310160427807486,0.6524064171122995,0.5294117647058824,0.5026737967914437,0.48128342245989286,0.663101604278075,0.5026737967914437,0.711229946524064,0.8021390374331551,0.5133689839572192,0.4919786096256683,0.5989304812834223,0.5828877005347594,0.5989304812834223,0.48128342245989286,0.5401069518716578,0.7379679144385026],\"type\":\"scatter3d\"},{\"marker\":{\"color\":\"red\",\"line\":{\"color\":\"black\",\"width\":2},\"size\":12,\"symbol\":\"x\"},\"mode\":\"markers\",\"name\":\"Centroids\",\"x\":[0.3187593984962409,0.7178170836928388,0.5576147816349386],\"y\":[0.1949745906267646,0.2132767446381132,0.627617525859894],\"z\":[0.46363636363636357,0.5994564740948539,0.5699169416315849],\"type\":\"scatter3d\"}],                        {\"template\":{\"data\":{\"histogram2dcontour\":[{\"type\":\"histogram2dcontour\",\"colorbar\":{\"outlinewidth\":0,\"ticks\":\"\"},\"colorscale\":[[0.0,\"#0d0887\"],[0.1111111111111111,\"#46039f\"],[0.2222222222222222,\"#7201a8\"],[0.3333333333333333,\"#9c179e\"],[0.4444444444444444,\"#bd3786\"],[0.5555555555555556,\"#d8576b\"],[0.6666666666666666,\"#ed7953\"],[0.7777777777777778,\"#fb9f3a\"],[0.8888888888888888,\"#fdca26\"],[1.0,\"#f0f921\"]]}],\"choropleth\":[{\"type\":\"choropleth\",\"colorbar\":{\"outlinewidth\":0,\"ticks\":\"\"}}],\"histogram2d\":[{\"type\":\"histogram2d\",\"colorbar\":{\"outlinewidth\":0,\"ticks\":\"\"},\"colorscale\":[[0.0,\"#0d0887\"],[0.1111111111111111,\"#46039f\"],[0.2222222222222222,\"#7201a8\"],[0.3333333333333333,\"#9c179e\"],[0.4444444444444444,\"#bd3786\"],[0.5555555555555556,\"#d8576b\"],[0.6666666666666666,\"#ed7953\"],[0.7777777777777778,\"#fb9f3a\"],[0.8888888888888888,\"#fdca26\"],[1.0,\"#f0f921\"]]}],\"heatmap\":[{\"type\":\"heatmap\",\"colorbar\":{\"outlinewidth\":0,\"ticks\":\"\"},\"colorscale\":[[0.0,\"#0d0887\"],[0.1111111111111111,\"#46039f\"],[0.2222222222222222,\"#7201a8\"],[0.3333333333333333,\"#9c179e\"],[0.4444444444444444,\"#bd3786\"],[0.5555555555555556,\"#d8576b\"],[0.6666666666666666,\"#ed7953\"],[0.7777777777777778,\"#fb9f3a\"],[0.8888888888888888,\"#fdca26\"],[1.0,\"#f0f921\"]]}],\"heatmapgl\":[{\"type\":\"heatmapgl\",\"colorbar\":{\"outlinewidth\":0,\"ticks\":\"\"},\"colorscale\":[[0.0,\"#0d0887\"],[0.1111111111111111,\"#46039f\"],[0.2222222222222222,\"#7201a8\"],[0.3333333333333333,\"#9c179e\"],[0.4444444444444444,\"#bd3786\"],[0.5555555555555556,\"#d8576b\"],[0.6666666666666666,\"#ed7953\"],[0.7777777777777778,\"#fb9f3a\"],[0.8888888888888888,\"#fdca26\"],[1.0,\"#f0f921\"]]}],\"contourcarpet\":[{\"type\":\"contourcarpet\",\"colorbar\":{\"outlinewidth\":0,\"ticks\":\"\"}}],\"contour\":[{\"type\":\"contour\",\"colorbar\":{\"outlinewidth\":0,\"ticks\":\"\"},\"colorscale\":[[0.0,\"#0d0887\"],[0.1111111111111111,\"#46039f\"],[0.2222222222222222,\"#7201a8\"],[0.3333333333333333,\"#9c179e\"],[0.4444444444444444,\"#bd3786\"],[0.5555555555555556,\"#d8576b\"],[0.6666666666666666,\"#ed7953\"],[0.7777777777777778,\"#fb9f3a\"],[0.8888888888888888,\"#fdca26\"],[1.0,\"#f0f921\"]]}],\"surface\":[{\"type\":\"surface\",\"colorbar\":{\"outlinewidth\":0,\"ticks\":\"\"},\"colorscale\":[[0.0,\"#0d0887\"],[0.1111111111111111,\"#46039f\"],[0.2222222222222222,\"#7201a8\"],[0.3333333333333333,\"#9c179e\"],[0.4444444444444444,\"#bd3786\"],[0.5555555555555556,\"#d8576b\"],[0.6666666666666666,\"#ed7953\"],[0.7777777777777778,\"#fb9f3a\"],[0.8888888888888888,\"#fdca26\"],[1.0,\"#f0f921\"]]}],\"mesh3d\":[{\"type\":\"mesh3d\",\"colorbar\":{\"outlinewidth\":0,\"ticks\":\"\"}}],\"scatter\":[{\"fillpattern\":{\"fillmode\":\"overlay\",\"size\":10,\"solidity\":0.2},\"type\":\"scatter\"}],\"parcoords\":[{\"type\":\"parcoords\",\"line\":{\"colorbar\":{\"outlinewidth\":0,\"ticks\":\"\"}}}],\"scatterpolargl\":[{\"type\":\"scatterpolargl\",\"marker\":{\"colorbar\":{\"outlinewidth\":0,\"ticks\":\"\"}}}],\"bar\":[{\"error_x\":{\"color\":\"#2a3f5f\"},\"error_y\":{\"color\":\"#2a3f5f\"},\"marker\":{\"line\":{\"color\":\"#E5ECF6\",\"width\":0.5},\"pattern\":{\"fillmode\":\"overlay\",\"size\":10,\"solidity\":0.2}},\"type\":\"bar\"}],\"scattergeo\":[{\"type\":\"scattergeo\",\"marker\":{\"colorbar\":{\"outlinewidth\":0,\"ticks\":\"\"}}}],\"scatterpolar\":[{\"type\":\"scatterpolar\",\"marker\":{\"colorbar\":{\"outlinewidth\":0,\"ticks\":\"\"}}}],\"histogram\":[{\"marker\":{\"pattern\":{\"fillmode\":\"overlay\",\"size\":10,\"solidity\":0.2}},\"type\":\"histogram\"}],\"scattergl\":[{\"type\":\"scattergl\",\"marker\":{\"colorbar\":{\"outlinewidth\":0,\"ticks\":\"\"}}}],\"scatter3d\":[{\"type\":\"scatter3d\",\"line\":{\"colorbar\":{\"outlinewidth\":0,\"ticks\":\"\"}},\"marker\":{\"colorbar\":{\"outlinewidth\":0,\"ticks\":\"\"}}}],\"scattermapbox\":[{\"type\":\"scattermapbox\",\"marker\":{\"colorbar\":{\"outlinewidth\":0,\"ticks\":\"\"}}}],\"scatterternary\":[{\"type\":\"scatterternary\",\"marker\":{\"colorbar\":{\"outlinewidth\":0,\"ticks\":\"\"}}}],\"scattercarpet\":[{\"type\":\"scattercarpet\",\"marker\":{\"colorbar\":{\"outlinewidth\":0,\"ticks\":\"\"}}}],\"carpet\":[{\"aaxis\":{\"endlinecolor\":\"#2a3f5f\",\"gridcolor\":\"white\",\"linecolor\":\"white\",\"minorgridcolor\":\"white\",\"startlinecolor\":\"#2a3f5f\"},\"baxis\":{\"endlinecolor\":\"#2a3f5f\",\"gridcolor\":\"white\",\"linecolor\":\"white\",\"minorgridcolor\":\"white\",\"startlinecolor\":\"#2a3f5f\"},\"type\":\"carpet\"}],\"table\":[{\"cells\":{\"fill\":{\"color\":\"#EBF0F8\"},\"line\":{\"color\":\"white\"}},\"header\":{\"fill\":{\"color\":\"#C8D4E3\"},\"line\":{\"color\":\"white\"}},\"type\":\"table\"}],\"barpolar\":[{\"marker\":{\"line\":{\"color\":\"#E5ECF6\",\"width\":0.5},\"pattern\":{\"fillmode\":\"overlay\",\"size\":10,\"solidity\":0.2}},\"type\":\"barpolar\"}],\"pie\":[{\"automargin\":true,\"type\":\"pie\"}]},\"layout\":{\"autotypenumbers\":\"strict\",\"colorway\":[\"#636efa\",\"#EF553B\",\"#00cc96\",\"#ab63fa\",\"#FFA15A\",\"#19d3f3\",\"#FF6692\",\"#B6E880\",\"#FF97FF\",\"#FECB52\"],\"font\":{\"color\":\"#2a3f5f\"},\"hovermode\":\"closest\",\"hoverlabel\":{\"align\":\"left\"},\"paper_bgcolor\":\"white\",\"plot_bgcolor\":\"#E5ECF6\",\"polar\":{\"bgcolor\":\"#E5ECF6\",\"angularaxis\":{\"gridcolor\":\"white\",\"linecolor\":\"white\",\"ticks\":\"\"},\"radialaxis\":{\"gridcolor\":\"white\",\"linecolor\":\"white\",\"ticks\":\"\"}},\"ternary\":{\"bgcolor\":\"#E5ECF6\",\"aaxis\":{\"gridcolor\":\"white\",\"linecolor\":\"white\",\"ticks\":\"\"},\"baxis\":{\"gridcolor\":\"white\",\"linecolor\":\"white\",\"ticks\":\"\"},\"caxis\":{\"gridcolor\":\"white\",\"linecolor\":\"white\",\"ticks\":\"\"}},\"coloraxis\":{\"colorbar\":{\"outlinewidth\":0,\"ticks\":\"\"}},\"colorscale\":{\"sequential\":[[0.0,\"#0d0887\"],[0.1111111111111111,\"#46039f\"],[0.2222222222222222,\"#7201a8\"],[0.3333333333333333,\"#9c179e\"],[0.4444444444444444,\"#bd3786\"],[0.5555555555555556,\"#d8576b\"],[0.6666666666666666,\"#ed7953\"],[0.7777777777777778,\"#fb9f3a\"],[0.8888888888888888,\"#fdca26\"],[1.0,\"#f0f921\"]],\"sequentialminus\":[[0.0,\"#0d0887\"],[0.1111111111111111,\"#46039f\"],[0.2222222222222222,\"#7201a8\"],[0.3333333333333333,\"#9c179e\"],[0.4444444444444444,\"#bd3786\"],[0.5555555555555556,\"#d8576b\"],[0.6666666666666666,\"#ed7953\"],[0.7777777777777778,\"#fb9f3a\"],[0.8888888888888888,\"#fdca26\"],[1.0,\"#f0f921\"]],\"diverging\":[[0,\"#8e0152\"],[0.1,\"#c51b7d\"],[0.2,\"#de77ae\"],[0.3,\"#f1b6da\"],[0.4,\"#fde0ef\"],[0.5,\"#f7f7f7\"],[0.6,\"#e6f5d0\"],[0.7,\"#b8e186\"],[0.8,\"#7fbc41\"],[0.9,\"#4d9221\"],[1,\"#276419\"]]},\"xaxis\":{\"gridcolor\":\"white\",\"linecolor\":\"white\",\"ticks\":\"\",\"title\":{\"standoff\":15},\"zerolinecolor\":\"white\",\"automargin\":true,\"zerolinewidth\":2},\"yaxis\":{\"gridcolor\":\"white\",\"linecolor\":\"white\",\"ticks\":\"\",\"title\":{\"standoff\":15},\"zerolinecolor\":\"white\",\"automargin\":true,\"zerolinewidth\":2},\"scene\":{\"xaxis\":{\"backgroundcolor\":\"#E5ECF6\",\"gridcolor\":\"white\",\"linecolor\":\"white\",\"showbackground\":true,\"ticks\":\"\",\"zerolinecolor\":\"white\",\"gridwidth\":2},\"yaxis\":{\"backgroundcolor\":\"#E5ECF6\",\"gridcolor\":\"white\",\"linecolor\":\"white\",\"showbackground\":true,\"ticks\":\"\",\"zerolinecolor\":\"white\",\"gridwidth\":2},\"zaxis\":{\"backgroundcolor\":\"#E5ECF6\",\"gridcolor\":\"white\",\"linecolor\":\"white\",\"showbackground\":true,\"ticks\":\"\",\"zerolinecolor\":\"white\",\"gridwidth\":2}},\"shapedefaults\":{\"line\":{\"color\":\"#2a3f5f\"}},\"annotationdefaults\":{\"arrowcolor\":\"#2a3f5f\",\"arrowhead\":0,\"arrowwidth\":1},\"geo\":{\"bgcolor\":\"white\",\"landcolor\":\"#E5ECF6\",\"subunitcolor\":\"white\",\"showland\":true,\"showlakes\":true,\"lakecolor\":\"white\"},\"title\":{\"x\":0.05},\"mapbox\":{\"style\":\"light\"}}},\"legend\":{\"yanchor\":\"top\",\"y\":0.99,\"xanchor\":\"left\",\"x\":0.01},\"scene\":{\"xaxis\":{\"title\":{\"text\":\"Alcohol\"}},\"yaxis\":{\"title\":{\"text\":\"Malic Acid\"}},\"zaxis\":{\"title\":{\"text\":\"Ash\"}}},\"title\":{\"text\":\"Interactive 3D Scatter Plot with Centroids (K-means)\"}},                        {\"responsive\": true}                    ).then(function(){\n",
              "                            \n",
              "var gd = document.getElementById('3c151bb5-fe5e-4b8b-bbc5-af86f22946fb');\n",
              "var x = new MutationObserver(function (mutations, observer) {{\n",
              "        var display = window.getComputedStyle(gd).display;\n",
              "        if (!display || display === 'none') {{\n",
              "            console.log([gd, 'removed!']);\n",
              "            Plotly.purge(gd);\n",
              "            observer.disconnect();\n",
              "        }}\n",
              "}});\n",
              "\n",
              "// Listen for the removal of the full notebook cells\n",
              "var notebookContainer = gd.closest('#notebook-container');\n",
              "if (notebookContainer) {{\n",
              "    x.observe(notebookContainer, {childList: true});\n",
              "}}\n",
              "\n",
              "// Listen for the clearing of the current output cell\n",
              "var outputEl = gd.closest('.output');\n",
              "if (outputEl) {{\n",
              "    x.observe(outputEl, {childList: true});\n",
              "}}\n",
              "\n",
              "                        })                };                            </script>        </div>\n",
              "</body>\n",
              "</html>"
            ]
          },
          "metadata": {}
        }
      ]
    }
  ]
}